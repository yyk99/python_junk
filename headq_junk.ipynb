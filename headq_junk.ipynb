{
 "cells": [
  {
   "cell_type": "code",
   "execution_count": null,
   "metadata": {},
   "outputs": [],
   "source": [
    "#\n",
    "#\n",
    "#\n",
    "\n",
    "import heapq"
   ]
  },
  {
   "cell_type": "code",
   "execution_count": null,
   "metadata": {},
   "outputs": [],
   "source": [
    "def heapsort(iterable):\n",
    "    h = []\n",
    "    for value in iterable:\n",
    "        heapq.heappush(h, value)\n",
    "    return [heapq.heappop(h) for i in range(len(h))]\n",
    "\n",
    "heapsort([1, 3, 5, 7, 9, 2, 4, 6, 8, 0])"
   ]
  },
  {
   "cell_type": "code",
   "execution_count": null,
   "metadata": {},
   "outputs": [],
   "source": [
    "# Time:  O(nlogn)\n",
    "# Space: O(n)\n",
    "\n",
    "import itertools\n",
    "import heapq\n",
    "\n",
    "class Solution(object):\n",
    "    def maxPerformance(self, n, speed, efficiency, k):\n",
    "        \"\"\"\n",
    "        :type speed: List[int]\n",
    "        :type efficiency: List[int]\n",
    "        :type k: int\n",
    "        :rtype: int\n",
    "        \"\"\"\n",
    "        MOD = 10**9 + 7\n",
    "        result, s_sum = 0, 0\n",
    "        min_heap = []\n",
    "        for e, s in sorted(zip(efficiency, speed), reverse=True):\n",
    "            print(e,s,min_heap)\n",
    "            s_sum += s\n",
    "            heapq.heappush(min_heap, s)\n",
    "            if len(min_heap) > k:\n",
    "                s_sum -= heapq.heappop(min_heap)\n",
    "            result = max(result,s_sum*e)\n",
    "        return result % MOD\n",
    "\n",
    "sol = Solution()\n",
    "sol.maxPerformance(n = 6, speed = [10, 10, 10, 10, 100, 10], efficiency = [1,1,1,1,1,2], k = 3)"
   ]
  },
  {
   "cell_type": "code",
   "execution_count": null,
   "metadata": {},
   "outputs": [],
   "source": [
    "sol.maxPerformance(n = 6, speed = [2,10,3,1,5,8], efficiency = [5,4,3,9,7,2], k = 4)"
   ]
  },
  {
   "cell_type": "code",
   "execution_count": null,
   "metadata": {},
   "outputs": [],
   "source": [
    "sol.maxPerformance(n = 6, speed = [2,10,3,1,5,8], efficiency = [5,4,3,9,7,2], k = 2)"
   ]
  },
  {
   "cell_type": "code",
   "execution_count": null,
   "metadata": {},
   "outputs": [],
   "source": [
    "speed = [10, 10, 10, 15, 12, 10]\n",
    "efficiency = [1,1,1,2,2,2]\n",
    "sorted(zip(efficiency, speed), reverse=True)"
   ]
  },
  {
   "cell_type": "code",
   "execution_count": null,
   "metadata": {},
   "outputs": [],
   "source": [
    "heap = []\n",
    "heapq.heappush(heap, 100)\n",
    "print(heap)\n",
    "heapq.heappush(heap, 80)\n",
    "print(heap)\n",
    "heapq.heappush(heap, 90)\n",
    "print(heap)\n",
    "heapq.heappush(heap, 70)\n",
    "print(heap)\n",
    "\n",
    "print('pop:', heapq.heappop(heap))\n",
    "print(heap)\n",
    "print('pop:', heapq.heappop(heap))\n",
    "print(heap)\n"
   ]
  },
  {
   "cell_type": "code",
   "execution_count": null,
   "metadata": {},
   "outputs": [],
   "source": []
  }
 ],
 "metadata": {
  "kernelspec": {
   "display_name": "Python 3",
   "language": "python",
   "name": "python3"
  },
  "language_info": {
   "codemirror_mode": {
    "name": "ipython",
    "version": 3
   },
   "file_extension": ".py",
   "mimetype": "text/x-python",
   "name": "python",
   "nbconvert_exporter": "python",
   "pygments_lexer": "ipython3",
   "version": "3.8.7"
  }
 },
 "nbformat": 4,
 "nbformat_minor": 4
}

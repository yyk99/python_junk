{
 "cells": [
  {
   "cell_type": "markdown",
   "id": "trying-certification",
   "metadata": {},
   "source": [
    "<pre>\n",
    "0061    'a'; LATIN SMALL LETTER A\n",
    "0062    'b'; LATIN SMALL LETTER B\n",
    "0063    'c'; LATIN SMALL LETTER C\n",
    "...\n",
    "007B    '{'; LEFT CURLY BRACKET\n",
    "...\n",
    "2167    'Ⅷ'; ROMAN NUMERAL EIGHT\n",
    "2168    'Ⅸ'; ROMAN NUMERAL NINE\n",
    "...\n",
    "265E    '♞'; BLACK CHESS KNIGHT\n",
    "265F    '♟'; BLACK CHESS PAWN\n",
    "...\n",
    "1F600   '😀'; GRINNING FACE\n",
    "1F609   '😉'; WINKING FACE\n",
    "</pre>"
   ]
  },
  {
   "cell_type": "code",
   "execution_count": 18,
   "id": "solved-jacksonville",
   "metadata": {},
   "outputs": [
    {
     "name": "stdout",
     "output_type": "stream",
     "text": [
      "Ⅷ\n",
      "b'\\xe2\\x85\\xa7'\n"
     ]
    }
   ],
   "source": [
    "s = \"\\N{ROMAN NUMERAL EIGHT}\"\n",
    "print(s)\n",
    "print(s.encode())"
   ]
  },
  {
   "cell_type": "code",
   "execution_count": 14,
   "id": "silent-voice",
   "metadata": {},
   "outputs": [
    {
     "name": "stdout",
     "output_type": "stream",
     "text": [
      "Δ\n"
     ]
    }
   ],
   "source": [
    "s = \"\\N{GREEK CAPITAL LETTER DELTA}\"\n",
    "print(s)"
   ]
  },
  {
   "cell_type": "code",
   "execution_count": 6,
   "id": "resident-essence",
   "metadata": {},
   "outputs": [
    {
     "name": "stdout",
     "output_type": "stream",
     "text": [
      "ERROR <class 'UnicodeDecodeError'> 'utf-8' codec can't decode byte 0x80 in position 0: invalid start byte\n"
     ]
    }
   ],
   "source": [
    "try:\n",
    "    b'\\x80abc'.decode(\"utf-8\", \"strict\")\n",
    "except Exception as e:\n",
    "    print('ERROR', type(e), e)"
   ]
  },
  {
   "cell_type": "code",
   "execution_count": 7,
   "id": "upper-spending",
   "metadata": {},
   "outputs": [
    {
     "data": {
      "text/plain": [
       "'�abc'"
      ]
     },
     "execution_count": 7,
     "metadata": {},
     "output_type": "execute_result"
    }
   ],
   "source": [
    "b'\\x80abc'.decode(\"utf-8\", \"replace\")"
   ]
  },
  {
   "cell_type": "code",
   "execution_count": 11,
   "id": "dietary-norwegian",
   "metadata": {},
   "outputs": [
    {
     "name": "stdout",
     "output_type": "stream",
     "text": [
      "b'\\xef\\xbf\\xbdabc' 6\n"
     ]
    }
   ],
   "source": [
    "s = b'\\x80abc'.decode(\"utf-8\", \"replace\").encode()\n",
    "print(s, len(s))"
   ]
  },
  {
   "cell_type": "code",
   "execution_count": 19,
   "id": "ahead-upset",
   "metadata": {},
   "outputs": [
    {
     "data": {
      "text/plain": [
       "'\\\\x80abc'"
      ]
     },
     "execution_count": 19,
     "metadata": {},
     "output_type": "execute_result"
    }
   ],
   "source": [
    "b'\\x80abc'.decode(\"utf-8\", \"backslashreplace\")"
   ]
  },
  {
   "cell_type": "code",
   "execution_count": null,
   "id": "passive-luxury",
   "metadata": {},
   "outputs": [],
   "source": [
    "b'\\x80abc'.decode(\"utf-8\", \"ignore\")"
   ]
  },
  {
   "cell_type": "code",
   "execution_count": null,
   "id": "packed-butter",
   "metadata": {},
   "outputs": [],
   "source": [
    "\"\\N{GREEK CAPITAL LETTER DELTA}\"  # Using the character name"
   ]
  },
  {
   "cell_type": "code",
   "execution_count": null,
   "id": "personal-judge",
   "metadata": {},
   "outputs": [],
   "source": [
    "\"\\u0394\"                          # Using a 16-bit hex value"
   ]
  },
  {
   "cell_type": "code",
   "execution_count": null,
   "id": "mediterranean-process",
   "metadata": {},
   "outputs": [],
   "source": [
    "\"\\U00000394\"                      # Using a 32-bit hex value"
   ]
  },
  {
   "cell_type": "code",
   "execution_count": null,
   "id": "false-advocacy",
   "metadata": {},
   "outputs": [],
   "source": [
    "len(\"\\N{GREEK CAPITAL LETTER DELTA}\")"
   ]
  },
  {
   "cell_type": "code",
   "execution_count": null,
   "id": "palestinian-straight",
   "metadata": {},
   "outputs": [],
   "source": [
    "\"\\N{CYRILLIC CAPITAL LETTER YU}\""
   ]
  },
  {
   "cell_type": "code",
   "execution_count": 39,
   "id": "clear-california",
   "metadata": {},
   "outputs": [
    {
     "data": {
      "text/plain": [
       "'°'"
      ]
     },
     "execution_count": 39,
     "metadata": {},
     "output_type": "execute_result"
    }
   ],
   "source": [
    "\"\\N{DEGREE SIGN}\""
   ]
  },
  {
   "cell_type": "code",
   "execution_count": null,
   "id": "least-economy",
   "metadata": {},
   "outputs": [],
   "source": [
    "\"\\N{DEGREE SIGN}\".encode()"
   ]
  },
  {
   "cell_type": "code",
   "execution_count": 38,
   "id": "military-merit",
   "metadata": {},
   "outputs": [
    {
     "data": {
      "text/plain": [
       "'В°'"
      ]
     },
     "execution_count": 38,
     "metadata": {},
     "output_type": "execute_result"
    }
   ],
   "source": [
    "\"\\N{DEGREE SIGN}\".encode().decode('cp1251')"
   ]
  },
  {
   "cell_type": "code",
   "execution_count": 28,
   "id": "natural-shannon",
   "metadata": {},
   "outputs": [
    {
     "data": {
      "text/plain": [
       "b'\\xea\\x80\\x80abcd\\xde\\xb4'"
      ]
     },
     "execution_count": 28,
     "metadata": {},
     "output_type": "execute_result"
    }
   ],
   "source": [
    "u = chr(40960) + 'abcd' + chr(1972)\n",
    "u.encode('utf-8')"
   ]
  },
  {
   "cell_type": "code",
   "execution_count": 22,
   "id": "reasonable-surfing",
   "metadata": {},
   "outputs": [
    {
     "ename": "UnicodeEncodeError",
     "evalue": "'ascii' codec can't encode character '\\ua000' in position 0: ordinal not in range(128)",
     "output_type": "error",
     "traceback": [
      "\u001b[1;31m---------------------------------------------------------------------------\u001b[0m",
      "\u001b[1;31mUnicodeEncodeError\u001b[0m                        Traceback (most recent call last)",
      "\u001b[1;32m<ipython-input-22-186a5a4d99f6>\u001b[0m in \u001b[0;36m<module>\u001b[1;34m\u001b[0m\n\u001b[1;32m----> 1\u001b[1;33m \u001b[0mu\u001b[0m\u001b[1;33m.\u001b[0m\u001b[0mencode\u001b[0m\u001b[1;33m(\u001b[0m\u001b[1;34m'ascii'\u001b[0m\u001b[1;33m)\u001b[0m\u001b[1;33m\u001b[0m\u001b[1;33m\u001b[0m\u001b[0m\n\u001b[0m",
      "\u001b[1;31mUnicodeEncodeError\u001b[0m: 'ascii' codec can't encode character '\\ua000' in position 0: ordinal not in range(128)"
     ]
    }
   ],
   "source": [
    "u.encode('ascii')"
   ]
  },
  {
   "cell_type": "code",
   "execution_count": 23,
   "id": "julian-junction",
   "metadata": {},
   "outputs": [
    {
     "data": {
      "text/plain": [
       "b'abcd'"
      ]
     },
     "execution_count": 23,
     "metadata": {},
     "output_type": "execute_result"
    }
   ],
   "source": [
    "u.encode('ascii', 'ignore')"
   ]
  },
  {
   "cell_type": "code",
   "execution_count": 24,
   "id": "understanding-sheffield",
   "metadata": {},
   "outputs": [
    {
     "data": {
      "text/plain": [
       "b'?abcd?'"
      ]
     },
     "execution_count": 24,
     "metadata": {},
     "output_type": "execute_result"
    }
   ],
   "source": [
    "u.encode('ascii', 'replace')"
   ]
  },
  {
   "cell_type": "code",
   "execution_count": 25,
   "id": "subtle-storm",
   "metadata": {},
   "outputs": [
    {
     "data": {
      "text/plain": [
       "b'&#40960;abcd&#1972;'"
      ]
     },
     "execution_count": 25,
     "metadata": {},
     "output_type": "execute_result"
    }
   ],
   "source": [
    "u.encode('ascii', 'xmlcharrefreplace')"
   ]
  },
  {
   "cell_type": "code",
   "execution_count": 26,
   "id": "express-combat",
   "metadata": {},
   "outputs": [
    {
     "data": {
      "text/plain": [
       "b'\\\\ua000abcd\\\\u07b4'"
      ]
     },
     "execution_count": 26,
     "metadata": {},
     "output_type": "execute_result"
    }
   ],
   "source": [
    "u.encode('ascii', 'backslashreplace')"
   ]
  },
  {
   "cell_type": "code",
   "execution_count": 27,
   "id": "polished-uruguay",
   "metadata": {},
   "outputs": [
    {
     "data": {
      "text/plain": [
       "b'\\\\N{YI SYLLABLE IT}abcd\\\\u07b4'"
      ]
     },
     "execution_count": 27,
     "metadata": {},
     "output_type": "execute_result"
    }
   ],
   "source": [
    "u.encode('ascii', 'namereplace')"
   ]
  },
  {
   "cell_type": "code",
   "execution_count": 42,
   "id": "absolute-greeting",
   "metadata": {},
   "outputs": [
    {
     "data": {
      "text/plain": [
       "b'\\xb0'"
      ]
     },
     "execution_count": 42,
     "metadata": {},
     "output_type": "execute_result"
    }
   ],
   "source": [
    "'°'.encode('cp1251')"
   ]
  },
  {
   "cell_type": "code",
   "execution_count": null,
   "id": "first-filing",
   "metadata": {},
   "outputs": [],
   "source": []
  }
 ],
 "metadata": {
  "kernelspec": {
   "display_name": "Python 3",
   "language": "python",
   "name": "python3"
  },
  "language_info": {
   "codemirror_mode": {
    "name": "ipython",
    "version": 3
   },
   "file_extension": ".py",
   "mimetype": "text/x-python",
   "name": "python",
   "nbconvert_exporter": "python",
   "pygments_lexer": "ipython3",
   "version": "3.8.7"
  }
 },
 "nbformat": 4,
 "nbformat_minor": 5
}

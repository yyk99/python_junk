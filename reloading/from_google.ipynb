{
 "cells": [
  {
   "cell_type": "code",
   "execution_count": null,
   "id": "detailed-liberal",
   "metadata": {},
   "outputs": [],
   "source": [
    "import pandas as pd"
   ]
  },
  {
   "cell_type": "code",
   "execution_count": null,
   "id": "endless-temperature",
   "metadata": {},
   "outputs": [],
   "source": [
    "# https://docs.google.com/spreadsheets/d/1pJ-jeDmVb69yCgUbi0DsRT-HW8jfJlZBh6ehyelOaOw/edit?usp=sharing\n",
    "\n",
    "the_url = 'https://docs.google.com/spreadsheets/d/0Ak1ecr7i0wotdGJmTURJRnZLYlV3M2daNTRubTdwTXc/export?gid=0&format=csv'\n",
    "\n",
    "test = pd.read_csv(the_url,\n",
    "                   # Set first column as rownames in data frame\n",
    "                   index_col=0,\n",
    "                   # Parse column values to datetime\n",
    "                   parse_dates=['Quradate']\n",
    "                  )\n",
    "test.head(5)  # Same result as @TomAugspurger"
   ]
  },
  {
   "cell_type": "code",
   "execution_count": null,
   "id": "pediatric-convenience",
   "metadata": {},
   "outputs": [],
   "source": [
    "# https://docs.google.com/spreadsheets/d/1pJ-jeDmVb69yCgUbi0DsRT-HW8jfJlZBh6ehyelOaOw/edit?usp=sharing\n",
    "\n",
    "the_url = 'https://docs.google.com/spreadsheets/d/1pJ-jeDmVb69yCgUbi0DsRT-HW8jfJlZBh6ehyelOaOw/export?gid=0&format=csv'\n",
    "\n",
    "test2 = pd.read_csv(the_url)\n",
    "test2.head(5)"
   ]
  },
  {
   "cell_type": "code",
   "execution_count": null,
   "id": "closing-short",
   "metadata": {},
   "outputs": [],
   "source": [
    "the_url = 'https://docs.google.com/spreadsheets/d/1pJ-jeDmVb69yCgUbi0DsRT-HW8jfJlZBh6ehyelOaOw/export?gid=1119510158&format=csv'\n",
    "\n",
    "test2 = pd.read_csv(the_url)\n",
    "test2.head(5)"
   ]
  },
  {
   "cell_type": "code",
   "execution_count": null,
   "id": "satisfactory-reading",
   "metadata": {},
   "outputs": [],
   "source": []
  }
 ],
 "metadata": {
  "kernelspec": {
   "display_name": "Python 3",
   "language": "python",
   "name": "python3"
  },
  "language_info": {
   "codemirror_mode": {
    "name": "ipython",
    "version": 3
   },
   "file_extension": ".py",
   "mimetype": "text/x-python",
   "name": "python",
   "nbconvert_exporter": "python",
   "pygments_lexer": "ipython3",
   "version": "3.8.7"
  }
 },
 "nbformat": 4,
 "nbformat_minor": 5
}

{
 "cells": [
  {
   "cell_type": "code",
   "execution_count": 1,
   "id": "related-allen",
   "metadata": {},
   "outputs": [],
   "source": [
    "#\n",
    "#\n",
    "#\n",
    "\n",
    "import io\n",
    "import numpy as np\n",
    "import pandas as pd"
   ]
  },
  {
   "cell_type": "code",
   "execution_count": 2,
   "id": "structural-therapy",
   "metadata": {},
   "outputs": [
    {
     "name": "stdout",
     "output_type": "stream",
     "text": [
      " Volume in drive C is Windows\n",
      " Volume Serial Number is F414-35FC\n",
      "\n",
      " Directory of C:\\Users\\yyk\\src\\python_junk\\reloading\n",
      "\n",
      "10/31/2021  08:46 AM    <DIR>          .\n",
      "10/31/2021  08:46 AM    <DIR>          ..\n",
      "10/17/2021  07:55 PM                 8 .gitignore\n",
      "10/31/2021  07:55 AM    <DIR>          .ipynb_checkpoints\n",
      "10/25/2021  07:45 AM    <DIR>          __pycache__\n",
      "10/16/2021  08:30 AM             7,145 10_Supervised_Algorithms.ipynb\n",
      "10/31/2021  08:44 AM             4,308 abbreviations.csv\n",
      "10/31/2021  08:46 AM             8,890 abbreviations.ipynb\n",
      "10/31/2021  07:59 AM             3,657 abbreviations.txt\n",
      "10/18/2021  07:19 PM    <DIR>          data\n",
      "10/21/2021  06:12 AM             2,340 from_google.ipynb\n",
      "10/23/2021  08:13 AM            16,492 lee.csv\n",
      "10/17/2021  05:54 PM             5,527 pandas_junk.ipynb\n",
      "10/29/2021  07:19 PM            15,090 reloading.ipynb\n",
      "10/25/2021  07:44 AM               744 reloading_utils.py\n",
      "10/28/2021  06:35 PM             8,727 verify_data.ipynb\n",
      "              11 File(s)         72,928 bytes\n",
      "               5 Dir(s)  294,557,327,360 bytes free\n"
     ]
    }
   ],
   "source": [
    "ls"
   ]
  },
  {
   "cell_type": "code",
   "execution_count": 3,
   "id": "returning-software",
   "metadata": {},
   "outputs": [
    {
     "data": {
      "text/plain": [
       "['Abbreviations', 'Description', 'A MAX', 'Hornady Match', 'A-BOND']"
      ]
     },
     "execution_count": 3,
     "metadata": {},
     "output_type": "execute_result"
    }
   ],
   "source": [
    "with open(\"abbreviations.txt\", \"r\", encoding=\"utf-8\") as f:\n",
    "    lines = [line.rstrip('\\n') for line in f]\n",
    "lines[:5]"
   ]
  },
  {
   "cell_type": "code",
   "execution_count": 4,
   "id": "neutral-halifax",
   "metadata": {},
   "outputs": [
    {
     "data": {
      "text/plain": [
       "302"
      ]
     },
     "execution_count": 4,
     "metadata": {},
     "output_type": "execute_result"
    }
   ],
   "source": [
    "len(lines)"
   ]
  },
  {
   "cell_type": "code",
   "execution_count": 5,
   "id": "powered-poland",
   "metadata": {},
   "outputs": [
    {
     "data": {
      "text/plain": [
       "[('Abbreviations', 'Description'),\n",
       " ('A MAX', 'Hornady Match'),\n",
       " ('A-BOND', 'AccuBond'),\n",
       " ('A-BOND LR', 'AccuBond Long Range'),\n",
       " ('A-MAX', 'Hornady Match'),\n",
       " ('AB', 'AccuBond'),\n",
       " ('BALLISTIC TIP', 'Balistic Tip'),\n",
       " ('BK', 'BlitzKing'),\n",
       " ('BONDED', 'Bonded Performance'),\n",
       " ('BR', 'Bench Rest')]"
      ]
     },
     "execution_count": 5,
     "metadata": {},
     "output_type": "execute_result"
    }
   ],
   "source": [
    "col1 = lines[0::2]\n",
    "col2 = lines[1::2]\n",
    "[x for x in zip(col1, col2)][:10]"
   ]
  },
  {
   "cell_type": "code",
   "execution_count": 6,
   "id": "failing-vertex",
   "metadata": {},
   "outputs": [
    {
     "data": {
      "text/plain": [
       "(302,)"
      ]
     },
     "execution_count": 6,
     "metadata": {},
     "output_type": "execute_result"
    }
   ],
   "source": [
    "table = np.array(lines)\n",
    "table.shape"
   ]
  },
  {
   "cell_type": "code",
   "execution_count": 7,
   "id": "logical-warren",
   "metadata": {},
   "outputs": [],
   "source": [
    "table.resize(len(lines) // 2, 2)"
   ]
  },
  {
   "cell_type": "code",
   "execution_count": 8,
   "id": "complimentary-tolerance",
   "metadata": {},
   "outputs": [
    {
     "data": {
      "text/plain": [
       "(151, 2)"
      ]
     },
     "execution_count": 8,
     "metadata": {},
     "output_type": "execute_result"
    }
   ],
   "source": [
    "table.shape"
   ]
  },
  {
   "cell_type": "code",
   "execution_count": 9,
   "id": "cognitive-consultation",
   "metadata": {},
   "outputs": [
    {
     "data": {
      "text/html": [
       "<div>\n",
       "<style scoped>\n",
       "    .dataframe tbody tr th:only-of-type {\n",
       "        vertical-align: middle;\n",
       "    }\n",
       "\n",
       "    .dataframe tbody tr th {\n",
       "        vertical-align: top;\n",
       "    }\n",
       "\n",
       "    .dataframe thead th {\n",
       "        text-align: right;\n",
       "    }\n",
       "</style>\n",
       "<table border=\"1\" class=\"dataframe\">\n",
       "  <thead>\n",
       "    <tr style=\"text-align: right;\">\n",
       "      <th></th>\n",
       "      <th>Abbreviations</th>\n",
       "      <th>Description</th>\n",
       "    </tr>\n",
       "  </thead>\n",
       "  <tbody>\n",
       "    <tr>\n",
       "      <th>1</th>\n",
       "      <td>A MAX</td>\n",
       "      <td>Hornady Match</td>\n",
       "    </tr>\n",
       "    <tr>\n",
       "      <th>2</th>\n",
       "      <td>A-BOND</td>\n",
       "      <td>AccuBond</td>\n",
       "    </tr>\n",
       "    <tr>\n",
       "      <th>3</th>\n",
       "      <td>A-BOND LR</td>\n",
       "      <td>AccuBond Long Range</td>\n",
       "    </tr>\n",
       "    <tr>\n",
       "      <th>4</th>\n",
       "      <td>A-MAX</td>\n",
       "      <td>Hornady Match</td>\n",
       "    </tr>\n",
       "    <tr>\n",
       "      <th>5</th>\n",
       "      <td>AB</td>\n",
       "      <td>AccuBond</td>\n",
       "    </tr>\n",
       "  </tbody>\n",
       "</table>\n",
       "</div>"
      ],
      "text/plain": [
       "0 Abbreviations          Description\n",
       "1         A MAX        Hornady Match\n",
       "2        A-BOND             AccuBond\n",
       "3     A-BOND LR  AccuBond Long Range\n",
       "4         A-MAX        Hornady Match\n",
       "5            AB             AccuBond"
      ]
     },
     "execution_count": 9,
     "metadata": {},
     "output_type": "execute_result"
    }
   ],
   "source": [
    "df = pd.DataFrame(table)\n",
    "df.columns = df.iloc[0] \n",
    "df = df[1:]\n",
    "\n",
    "df.head()"
   ]
  },
  {
   "cell_type": "code",
   "execution_count": 10,
   "id": "accepting-induction",
   "metadata": {},
   "outputs": [],
   "source": [
    "df.to_csv('abbreviations.csv')"
   ]
  },
  {
   "cell_type": "code",
   "execution_count": 11,
   "id": "center-naples",
   "metadata": {},
   "outputs": [
    {
     "name": "stdout",
     "output_type": "stream",
     "text": [
      " Volume in drive C is Windows\n",
      " Volume Serial Number is F414-35FC\n",
      "\n",
      " Directory of C:\\Users\\yyk\\src\\python_junk\\reloading\n",
      "\n",
      "10/31/2021  08:46 AM    <DIR>          .\n",
      "10/31/2021  08:46 AM    <DIR>          ..\n",
      "10/17/2021  07:55 PM                 8 .gitignore\n",
      "10/31/2021  07:55 AM    <DIR>          .ipynb_checkpoints\n",
      "10/25/2021  07:45 AM    <DIR>          __pycache__\n",
      "10/16/2021  08:30 AM             7,145 10_Supervised_Algorithms.ipynb\n",
      "10/31/2021  11:52 AM             4,308 abbreviations.csv\n",
      "10/31/2021  08:46 AM             8,890 abbreviations.ipynb\n",
      "10/31/2021  07:59 AM             3,657 abbreviations.txt\n",
      "10/18/2021  07:19 PM    <DIR>          data\n",
      "10/21/2021  06:12 AM             2,340 from_google.ipynb\n",
      "10/23/2021  08:13 AM            16,492 lee.csv\n",
      "10/17/2021  05:54 PM             5,527 pandas_junk.ipynb\n",
      "10/29/2021  07:19 PM            15,090 reloading.ipynb\n",
      "10/25/2021  07:44 AM               744 reloading_utils.py\n",
      "10/28/2021  06:35 PM             8,727 verify_data.ipynb\n",
      "              11 File(s)         72,928 bytes\n",
      "               5 Dir(s)  294,557,073,408 bytes free\n"
     ]
    }
   ],
   "source": [
    "ls"
   ]
  },
  {
   "cell_type": "code",
   "execution_count": null,
   "id": "divided-joining",
   "metadata": {},
   "outputs": [],
   "source": []
  }
 ],
 "metadata": {
  "kernelspec": {
   "display_name": "Python 3",
   "language": "python",
   "name": "python3"
  },
  "language_info": {
   "codemirror_mode": {
    "name": "ipython",
    "version": 3
   },
   "file_extension": ".py",
   "mimetype": "text/x-python",
   "name": "python",
   "nbconvert_exporter": "python",
   "pygments_lexer": "ipython3",
   "version": "3.8.7"
  }
 },
 "nbformat": 4,
 "nbformat_minor": 5
}

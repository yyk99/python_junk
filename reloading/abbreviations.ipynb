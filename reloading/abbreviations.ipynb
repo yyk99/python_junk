{
 "cells": [
  {
   "cell_type": "code",
   "execution_count": null,
   "id": "aging-integer",
   "metadata": {},
   "outputs": [],
   "source": [
    "#\n",
    "#\n",
    "#\n",
    "\n",
    "import io\n",
    "import numpy as np\n",
    "import pandas as pd"
   ]
  },
  {
   "cell_type": "code",
   "execution_count": null,
   "id": "treated-massage",
   "metadata": {},
   "outputs": [],
   "source": [
    "ls"
   ]
  },
  {
   "cell_type": "code",
   "execution_count": null,
   "id": "failing-delicious",
   "metadata": {},
   "outputs": [],
   "source": [
    "with open(\"abbreviations.txt\", \"r\", encoding=\"utf-8\") as f:\n",
    "    lines = [line.rstrip('\\n') for line in f]\n",
    "lines[:5]"
   ]
  },
  {
   "cell_type": "code",
   "execution_count": null,
   "id": "first-amateur",
   "metadata": {},
   "outputs": [],
   "source": [
    "len(lines)"
   ]
  },
  {
   "cell_type": "code",
   "execution_count": null,
   "id": "blocked-laser",
   "metadata": {},
   "outputs": [],
   "source": [
    "col1 = lines[0::2]\n",
    "col2 = lines[1::2]\n",
    "[x for x in zip(col1, col2)][:10]"
   ]
  },
  {
   "cell_type": "code",
   "execution_count": null,
   "id": "healthy-identity",
   "metadata": {},
   "outputs": [],
   "source": [
    "table = np.array(lines)\n",
    "table.shape"
   ]
  },
  {
   "cell_type": "code",
   "execution_count": null,
   "id": "vocational-entertainment",
   "metadata": {},
   "outputs": [],
   "source": [
    "table.resize(len(lines) // 2, 2)"
   ]
  },
  {
   "cell_type": "code",
   "execution_count": null,
   "id": "continuous-syria",
   "metadata": {},
   "outputs": [],
   "source": [
    "table.shape"
   ]
  },
  {
   "cell_type": "code",
   "execution_count": null,
   "id": "instrumental-contamination",
   "metadata": {},
   "outputs": [],
   "source": [
    "df = pd.DataFrame(table)\n",
    "df.columns = df.iloc[0] \n",
    "df = df[1:]\n",
    "\n",
    "df.head()"
   ]
  },
  {
   "cell_type": "code",
   "execution_count": null,
   "id": "empty-mixture",
   "metadata": {},
   "outputs": [],
   "source": [
    "df.to_csv('abbreviations.csv')"
   ]
  },
  {
   "cell_type": "code",
   "execution_count": null,
   "id": "about-messaging",
   "metadata": {},
   "outputs": [],
   "source": [
    "ls"
   ]
  },
  {
   "cell_type": "code",
   "execution_count": null,
   "id": "rational-rouge",
   "metadata": {},
   "outputs": [],
   "source": []
  }
 ],
 "metadata": {
  "kernelspec": {
   "display_name": "Python 3",
   "language": "python",
   "name": "python3"
  },
  "language_info": {
   "codemirror_mode": {
    "name": "ipython",
    "version": 3
   },
   "file_extension": ".py",
   "mimetype": "text/x-python",
   "name": "python",
   "nbconvert_exporter": "python",
   "pygments_lexer": "ipython3",
   "version": "3.8.7"
  }
 },
 "nbformat": 4,
 "nbformat_minor": 5
}

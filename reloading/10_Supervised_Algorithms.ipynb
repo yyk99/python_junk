{
 "cells": [
  {
   "cell_type": "code",
   "execution_count": null,
   "id": "worse-saturn",
   "metadata": {},
   "outputs": [],
   "source": [
    "# Chapter Ten: Supervised Algorithms\n",
    "# Walker, Brian. Machine Learning with Python: A Step by Step Guide to Learn Machine Learning with Python for Beginners . Kindle Edition. "
   ]
  },
  {
   "cell_type": "code",
   "execution_count": 3,
   "id": "different-activation",
   "metadata": {},
   "outputs": [
    {
     "data": {
      "text/plain": [
       "LinearRegression(n_jobs=-1)"
      ]
     },
     "execution_count": 3,
     "metadata": {},
     "output_type": "execute_result"
    }
   ],
   "source": [
    "from random import randint\n",
    "\n",
    "TRAIN_SET_LIMIT = 1000 \n",
    "TRAIN_SET_COUNT = 100 \n",
    "TRAIN_INPUT = list() \n",
    "TRAIN_OUTPUT = list() \n",
    "for i in range(TRAIN_SET_COUNT): \n",
    "    a = randint(0, TRAIN_SET_LIMIT) \n",
    "    b = randint(0, TRAIN_SET_LIMIT) \n",
    "    c = randint(0, TRAIN_SET_LIMIT) \n",
    "    op = a + (2*b) + (3*c) \n",
    "    TRAIN_INPUT.append([a, b, c]) \n",
    "    TRAIN_OUTPUT.append(op) \n",
    "    \n",
    "# Train the model: \n",
    "from sklearn.linear_model import LinearRegression \n",
    "predictor = LinearRegression(n_jobs=-1) \n",
    "predictor.fit(X=TRAIN_INPUT, y=TRAIN_OUTPUT)\n",
    "\n",
    "# Walker, Brian. Machine Learning with Python: A Step by Step Guide to Learn Machine Learning with Python for Beginners . Kindle Edition. "
   ]
  },
  {
   "cell_type": "code",
   "execution_count": 8,
   "id": "interpreted-gender",
   "metadata": {},
   "outputs": [
    {
     "name": "stdout",
     "output_type": "stream",
     "text": [
      "Outcome : [140.]\n",
      "Coefficients : [1. 2. 3.]\n"
     ]
    }
   ],
   "source": [
    "# once a system is very, you should fast sample test data set in the following format, [ [10, 20, 30]], \n",
    "# and observe the output. This must be 10+20*2+30*2 and output must be 140 \n",
    "\n",
    "X_TEST = [[10, 20, 30]]\n",
    "\n",
    "outcome = predictor.predict(X=X_TEST) \n",
    "coefficients = predictor.coef_ \n",
    "print('Outcome : {}\\nCoefficients : {}'.format(outcome, coefficients)) "
   ]
  },
  {
   "cell_type": "markdown",
   "id": "cardiac-wildlife",
   "metadata": {},
   "source": [
    "Output Outcome = [140]<br>\n",
    "Coefficients = [1.2.3]<br>\n",
    "\n",
    "We have now successfully implemented the model, trained, and observed the prediction of the output for any new input based on a mathematical linear equation.\n",
    "\n",
    "Walker, Brian. Machine Learning with Python: A Step by Step Guide to Learn Machine Learning with Python for Beginners . Kindle Edition.\n"
   ]
  },
  {
   "cell_type": "markdown",
   "id": "conservative-massachusetts",
   "metadata": {},
   "source": [
    "# More..."
   ]
  },
  {
   "cell_type": "code",
   "execution_count": 1,
   "id": "egyptian-facial",
   "metadata": {},
   "outputs": [
    {
     "ename": "ModuleNotFoundError",
     "evalue": "No module named 'Quandl'",
     "output_type": "error",
     "traceback": [
      "\u001b[1;31m---------------------------------------------------------------------------\u001b[0m",
      "\u001b[1;31mModuleNotFoundError\u001b[0m                       Traceback (most recent call last)",
      "\u001b[1;32m<ipython-input-1-83441526f859>\u001b[0m in \u001b[0;36m<module>\u001b[1;34m\u001b[0m\n\u001b[0;32m      1\u001b[0m \u001b[1;32mimport\u001b[0m \u001b[0mpandas\u001b[0m \u001b[1;32mas\u001b[0m \u001b[0mpd\u001b[0m\u001b[1;33m\u001b[0m\u001b[1;33m\u001b[0m\u001b[0m\n\u001b[1;32m----> 2\u001b[1;33m \u001b[1;32mimport\u001b[0m \u001b[0mQuandl\u001b[0m\u001b[1;33m\u001b[0m\u001b[1;33m\u001b[0m\u001b[0m\n\u001b[0m\u001b[0;32m      3\u001b[0m \u001b[1;33m\u001b[0m\u001b[0m\n\u001b[0;32m      4\u001b[0m \u001b[0mdf\u001b[0m \u001b[1;33m=\u001b[0m \u001b[0mQuandl\u001b[0m\u001b[1;33m.\u001b[0m\u001b[0mget\u001b[0m\u001b[1;33m(\u001b[0m\u001b[1;34m\"WIKI/GOOGL\"\u001b[0m\u001b[1;33m)\u001b[0m\u001b[1;33m\u001b[0m\u001b[1;33m\u001b[0m\u001b[0m\n\u001b[0;32m      5\u001b[0m \u001b[0mprint\u001b[0m\u001b[1;33m(\u001b[0m\u001b[0mdf\u001b[0m\u001b[1;33m.\u001b[0m\u001b[0mhead\u001b[0m\u001b[1;33m(\u001b[0m\u001b[1;33m)\u001b[0m\u001b[1;33m)\u001b[0m\u001b[1;33m\u001b[0m\u001b[1;33m\u001b[0m\u001b[0m\n",
      "\u001b[1;31mModuleNotFoundError\u001b[0m: No module named 'Quandl'"
     ]
    }
   ],
   "source": [
    "import pandas as pd \n",
    "import Quandl \n",
    "\n",
    "df = Quandl.get(\"WIKI/GOOGL\") \n",
    "print(df.head())\n",
    "\n",
    "# Walker, Brian. Machine Learning with Python: A Step by Step Guide to Learn Machine Learning with Python for Beginners . Kindle Edition. "
   ]
  },
  {
   "cell_type": "code",
   "execution_count": null,
   "id": "anticipated-falls",
   "metadata": {},
   "outputs": [],
   "source": []
  }
 ],
 "metadata": {
  "kernelspec": {
   "display_name": "Python 3",
   "language": "python",
   "name": "python3"
  },
  "language_info": {
   "codemirror_mode": {
    "name": "ipython",
    "version": 3
   },
   "file_extension": ".py",
   "mimetype": "text/x-python",
   "name": "python",
   "nbconvert_exporter": "python",
   "pygments_lexer": "ipython3",
   "version": "3.8.7"
  }
 },
 "nbformat": 4,
 "nbformat_minor": 5
}

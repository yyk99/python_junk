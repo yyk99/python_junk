{
 "cells": [
  {
   "cell_type": "code",
   "execution_count": null,
   "id": "worse-saturn",
   "metadata": {},
   "outputs": [],
   "source": [
    "# Chapter Ten: Supervised Algorithms\n",
    "# Walker, Brian. Machine Learning with Python: A Step by Step Guide to Learn Machine Learning with Python for Beginners . Kindle Edition. "
   ]
  },
  {
   "cell_type": "code",
   "execution_count": null,
   "id": "different-activation",
   "metadata": {},
   "outputs": [],
   "source": [
    "from random import randint\n",
    "\n",
    "TRAIN_SET_LIMIT = 1000 \n",
    "TRAIN_SET_COUNT = 100 \n",
    "TRAIN_INPUT = list() \n",
    "TRAIN_OUTPUT = list() \n",
    "for i in range(TRAIN_SET_COUNT): \n",
    "    a = randint(0, TRAIN_SET_LIMIT) \n",
    "    b = randint(0, TRAIN_SET_LIMIT) \n",
    "    c = randint(0, TRAIN_SET_LIMIT) \n",
    "    op = a + (2*b) + (3*c) \n",
    "    TRAIN_INPUT.append([a, b, c]) \n",
    "    TRAIN_OUTPUT.append(op) \n",
    "    \n",
    "# Train the model: \n",
    "from sklearn.linear_model import LinearRegression \n",
    "predictor = LinearRegression(n_jobs=-1) \n",
    "predictor.fit(X=TRAIN_INPUT, y=TRAIN_OUTPUT)\n",
    "\n",
    "# Walker, Brian. Machine Learning with Python: A Step by Step Guide to Learn Machine Learning with Python for Beginners . Kindle Edition. "
   ]
  },
  {
   "cell_type": "code",
   "execution_count": null,
   "id": "interpreted-gender",
   "metadata": {},
   "outputs": [],
   "source": [
    "# once a system is very, you should fast sample test data set in the following format, [ [10, 20, 30]], \n",
    "# and observe the output. This must be 10+20*2+30*2 and output must be 140 \n",
    "\n",
    "X_TEST = [[10, 20, 30]]\n",
    "\n",
    "outcome = predictor.predict(X=X_TEST) \n",
    "coefficients = predictor.coef_ \n",
    "print('Outcome : {}\\nCoefficients : {}'.format(outcome, coefficients)) "
   ]
  },
  {
   "cell_type": "markdown",
   "id": "cardiac-wildlife",
   "metadata": {},
   "source": [
    "Output Outcome = [140]<br>\n",
    "Coefficients = [1.2.3]<br>\n",
    "\n",
    "We have now successfully implemented the model, trained, and observed the prediction of the output for any new input based on a mathematical linear equation.\n",
    "\n",
    "Walker, Brian. Machine Learning with Python: A Step by Step Guide to Learn Machine Learning with Python for Beginners . Kindle Edition.\n"
   ]
  },
  {
   "cell_type": "markdown",
   "id": "conservative-massachusetts",
   "metadata": {},
   "source": [
    "# More..."
   ]
  },
  {
   "cell_type": "code",
   "execution_count": null,
   "id": "egyptian-facial",
   "metadata": {},
   "outputs": [],
   "source": [
    "import pandas as pd \n",
    "import quandl \n",
    "\n",
    "df = quandl.get(\"WIKI/GOOGL\") \n",
    "df.head()\n",
    "\n",
    "# Walker, Brian. Machine Learning with Python: A Step by Step Guide to Learn Machine Learning with Python for Beginners . Kindle Edition. "
   ]
  },
  {
   "cell_type": "code",
   "execution_count": null,
   "id": "anticipated-falls",
   "metadata": {},
   "outputs": [],
   "source": [
    "df = df[['Adj. Open', 'Adj. High', 'Adj. Low', 'Adj. Close', 'Adj. Volume']]\n",
    "df\n",
    "# Walker, Brian. Machine Learning with Python: A Step by Step Guide to Learn Machine Learning with Python for Beginners . Kindle Edition. "
   ]
  },
  {
   "cell_type": "code",
   "execution_count": null,
   "id": "antique-credits",
   "metadata": {},
   "outputs": [],
   "source": [
    "df['HL_PCT'] = (df['Adj. High'] - df['Adj. Low']) / df['Adj. Close'] * 100.0\n",
    "\n",
    "df\n",
    "# Walker, Brian. Machine Learning with Python: A Step by Step Guide to Learn Machine Learning with Python for Beginners . Kindle Edition. "
   ]
  },
  {
   "cell_type": "code",
   "execution_count": null,
   "id": "inner-strip",
   "metadata": {},
   "outputs": [],
   "source": [
    "# And the following piece of code defines dataframes and interprets the data output: \n",
    "\n",
    "df['PCT_change'] = (df['Adj. Close'] - df['Adj. Open']) / df['Adj. Open'] * 100.0 \n",
    "df = df[['Adj. Close', 'HL_PCT', 'PCT_change', 'Adj. Volume']] \n",
    "print(df.head())\n",
    "\n",
    "# Walker, Brian. Machine Learning with Python: A Step by Step Guide to Learn Machine Learning with Python for Beginners . Kindle Edition. "
   ]
  },
  {
   "cell_type": "code",
   "execution_count": null,
   "id": "comprehensive-criticism",
   "metadata": {},
   "outputs": [],
   "source": [
    "import quandl, math \n",
    "import numpy as np \n",
    "import pandas as pd \n",
    "from sklearn import preprocessing, svm \n",
    "from sklearn.model_selection import train_test_split\n",
    "from sklearn.linear_model import LinearRegression \n",
    "\n",
    "df = quandl.get(\"WIKI/GOOGL\") \n",
    "df = df[['Adj. Open', 'Adj. High', 'Adj. Low', 'Adj. Close', 'Adj. Volume']] \n",
    "df['HL_PCT'] = (df['Adj. High'] - df['Adj. Low']) / df['Adj. Close'] * 100.0 \n",
    "df['PCT_change'] = (df['Adj. Close'] - df['Adj. Open']) / df['Adj. Open'] * 100.0 \n",
    "df = df[['Adj. Close', 'HL_PCT', 'PCT_change', 'Adj. Volume']]\n",
    "print(df.head())\n",
    "\n",
    "# Walker, Brian. Machine Learning with Python: A Step by Step Guide to Learn Machine Learning with Python for Beginners . Kindle Edition. "
   ]
  },
  {
   "cell_type": "code",
   "execution_count": null,
   "id": "deluxe-tanzania",
   "metadata": {},
   "outputs": [],
   "source": [
    "forecast_col = 'Adj. Close' \n",
    "df.fillna(value=-99999, inplace=True) \n",
    "forecast_out = int(math.ceil(0.01 * len(df))) \n",
    "df['label'] = df[forecast_col].shift(-forecast_out) \n",
    "\n",
    "# With the above few lines of code, we’ve defined what we want to forecast. \n",
    "# The next steps are to train and test our model. At this point, we can use the dropna function \n",
    "# and then proceed to convert the data to numpy array format, which is the expected data format \n",
    "# by Scikit library functions that we will be subsequently using. \n",
    "\n",
    "df.dropna(inplace=True) \n",
    "X = np.array(df.drop(['label'], 1)) \n",
    "Y = np.array(df['label']) \n",
    "X = preprocessing.scale(X) \n",
    "Y = np.array(df['label'])\n",
    "\n",
    "# Walker, Brian. Machine Learning with Python: A Step by Step Guide to Learn Machine Learning with Python for Beginners . Kindle Edition. "
   ]
  },
  {
   "cell_type": "code",
   "execution_count": null,
   "id": "parliamentary-collective",
   "metadata": {},
   "outputs": [],
   "source": []
  },
  {
   "cell_type": "code",
   "execution_count": null,
   "id": "weekly-concept",
   "metadata": {},
   "outputs": [],
   "source": []
  }
 ],
 "metadata": {
  "kernelspec": {
   "display_name": "Python 3",
   "language": "python",
   "name": "python3"
  },
  "language_info": {
   "codemirror_mode": {
    "name": "ipython",
    "version": 3
   },
   "file_extension": ".py",
   "mimetype": "text/x-python",
   "name": "python",
   "nbconvert_exporter": "python",
   "pygments_lexer": "ipython3",
   "version": "3.8.7"
  }
 },
 "nbformat": 4,
 "nbformat_minor": 5
}

{
 "cells": [
  {
   "cell_type": "code",
   "execution_count": null,
   "id": "union-sponsorship",
   "metadata": {},
   "outputs": [],
   "source": [
    "#\n",
    "#\n",
    "#\n",
    "\n",
    "import numpy as nm\n",
    "import pandas as pd\n",
    "import matplotlib.pyplot as plt\n",
    "import os"
   ]
  },
  {
   "cell_type": "code",
   "execution_count": null,
   "id": "signal-swimming",
   "metadata": {},
   "outputs": [],
   "source": [
    "data = pd.read_csv('data/reloading_data - 9mm parabellum.csv')\n",
    "data.head()"
   ]
  },
  {
   "cell_type": "code",
   "execution_count": null,
   "id": "adopted-emission",
   "metadata": {},
   "outputs": [],
   "source": [
    "data.shape"
   ]
  },
  {
   "cell_type": "code",
   "execution_count": null,
   "id": "motivated-employee",
   "metadata": {},
   "outputs": [],
   "source": [
    "# add a \"bullet type\" column\n",
    "\n",
    "orig_columns =                           ['powder', 'start', 'velocity', 'never exceed', 'velocity max', 'press', 'units', 'min oal']\n",
    "new_columns  = ['bul_weight', 'bul_type', 'powder', 's_load', 's_velocity', 'ne_load', 'ne_velocity', 'press', 'units', 'oal']\n",
    "\n",
    "df = pd.DataFrame(columns = new_columns)\n",
    "\n",
    "bul_weight = None\n",
    "bul_type = None\n",
    "for pos in range(0, data.shape[0]):\n",
    "    line = tuple(data.loc[pos, orig_columns].array)\n",
    "    # print(123, line) # DEBUG\n",
    "    if ' grain ' in line[0]: # this is a bullettype \"115 grain jacketed\"\n",
    "        bul_weight, bul_type = line[0].split(' grain ')\n",
    "    else:\n",
    "        line = (bul_weight, bul_type, *line)\n",
    "        df.loc[len(df.index)] = line\n"
   ]
  },
  {
   "cell_type": "code",
   "execution_count": null,
   "id": "typical-bearing",
   "metadata": {},
   "outputs": [],
   "source": [
    "df"
   ]
  },
  {
   "cell_type": "code",
   "execution_count": null,
   "id": "judicial-witch",
   "metadata": {},
   "outputs": [],
   "source": [
    "df.shape"
   ]
  }
 ],
 "metadata": {
  "kernelspec": {
   "display_name": "Python 3",
   "language": "python",
   "name": "python3"
  },
  "language_info": {
   "codemirror_mode": {
    "name": "ipython",
    "version": 3
   },
   "file_extension": ".py",
   "mimetype": "text/x-python",
   "name": "python",
   "nbconvert_exporter": "python",
   "pygments_lexer": "ipython3",
   "version": "3.8.7"
  }
 },
 "nbformat": 4,
 "nbformat_minor": 5
}

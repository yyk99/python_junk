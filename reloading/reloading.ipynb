{
 "cells": [
  {
   "cell_type": "code",
   "execution_count": 2,
   "id": "union-sponsorship",
   "metadata": {},
   "outputs": [],
   "source": [
    "#\n",
    "#\n",
    "#\n",
    "\n",
    "import numpy as np\n",
    "import pandas as pd\n",
    "import matplotlib.pyplot as plt\n",
    "import os\n",
    "\n",
    "from sklearn.preprocessing import PolynomialFeatures\n",
    "from sklearn import linear_model\n",
    "from sklearn.metrics import r2_score\n",
    "\n",
    "from reloading_utils import get_url\n",
    "\n",
    "verbose = False"
   ]
  },
  {
   "cell_type": "code",
   "execution_count": 3,
   "id": "destroyed-belarus",
   "metadata": {},
   "outputs": [
    {
     "name": "stdout",
     "output_type": "stream",
     "text": [
      "             title  volume  diameter\n",
      "0   9mm parabellum    0.74     0.356\n",
      "1       38 special    1.30     0.358\n",
      "2       357 magnum    1.36     0.358\n",
      "3  7.62x54 russian    3.47     0.310\n",
      "4    38 special +P    1.18     0.358\n",
      "5  7.62x39 russian    2.03     0.311\n",
      "[['9mm parabellum' 0.74 0.356]\n",
      " ['38 special' 1.3 0.358]\n",
      " ['357 magnum' 1.36 0.358]\n",
      " ['7.62x54 russian' 3.47 0.31]\n",
      " ['38 special +P' 1.18 0.358]\n",
      " ['7.62x39 russian' 2.03 0.311]]\n"
     ]
    }
   ],
   "source": [
    "# data/reloading_data - CATRIDGES.csv\n",
    "cartridges = pd.read_csv(get_url('data/reloading_data - CATRIDGES.csv'))\n",
    "print(cartridges)\n",
    "\n",
    "cartridges_to_process = cartridges.loc[:, ['title', 'volume', 'diameter']].to_numpy()\n",
    "print(cartridges_to_process)"
   ]
  },
  {
   "cell_type": "code",
   "execution_count": 4,
   "id": "signal-swimming",
   "metadata": {},
   "outputs": [
    {
     "name": "stdout",
     "output_type": "stream",
     "text": [
      "data.shape (409, 16)\n"
     ]
    }
   ],
   "source": [
    "def process_data_file(c, v, a):\n",
    "    filename = f'data/reloading_data - %s.csv' % c\n",
    "    try:\n",
    "        d = pd.read_csv(get_url(filename))\n",
    "        d['cartridge_caliber'] = c\n",
    "        d['cartridge_volume'] = v\n",
    "        d['cartridge_diameter'] = a\n",
    "        return d\n",
    "    except:\n",
    "        print(\"ERROR: Cannot process:\", filename)\n",
    "        return None\n",
    "\n",
    "frames = [ process_data_file(c, v, a) for c, v, a in cartridges_to_process ]\n",
    "data = pd.concat(frames, ignore_index=True)\n",
    "\n",
    "# print(data.head())  # DEBUG\n",
    "print('data.shape', data.shape)"
   ]
  },
  {
   "cell_type": "code",
   "execution_count": 5,
   "id": "amended-hampton",
   "metadata": {},
   "outputs": [
    {
     "data": {
      "text/html": [
       "<div>\n",
       "<style scoped>\n",
       "    .dataframe tbody tr th:only-of-type {\n",
       "        vertical-align: middle;\n",
       "    }\n",
       "\n",
       "    .dataframe tbody tr th {\n",
       "        vertical-align: top;\n",
       "    }\n",
       "\n",
       "    .dataframe thead th {\n",
       "        text-align: right;\n",
       "    }\n",
       "</style>\n",
       "<table border=\"1\" class=\"dataframe\">\n",
       "  <thead>\n",
       "    <tr style=\"text-align: right;\">\n",
       "      <th></th>\n",
       "      <th>powder</th>\n",
       "      <th>start</th>\n",
       "      <th>volume cc</th>\n",
       "      <th>auto disk</th>\n",
       "      <th>lee dipper</th>\n",
       "      <th>velocity</th>\n",
       "      <th>never exceed</th>\n",
       "      <th>velocity max</th>\n",
       "      <th>press</th>\n",
       "      <th>units</th>\n",
       "      <th>min oal</th>\n",
       "      <th>mm</th>\n",
       "      <th>press_psi</th>\n",
       "      <th>cartridge_caliber</th>\n",
       "      <th>cartridge_volume</th>\n",
       "      <th>cartridge_diameter</th>\n",
       "    </tr>\n",
       "  </thead>\n",
       "  <tbody>\n",
       "    <tr>\n",
       "      <th>404</th>\n",
       "      <td>H335</td>\n",
       "      <td>30.0</td>\n",
       "      <td>NaN</td>\n",
       "      <td>NaN</td>\n",
       "      <td>NaN</td>\n",
       "      <td>2219.0</td>\n",
       "      <td>31.5</td>\n",
       "      <td>2408.0</td>\n",
       "      <td>40900.0</td>\n",
       "      <td>CUP</td>\n",
       "      <td>2.15</td>\n",
       "      <td>54.61</td>\n",
       "      <td>NaN</td>\n",
       "      <td>7.62x39 russian</td>\n",
       "      <td>2.03</td>\n",
       "      <td>0.311</td>\n",
       "    </tr>\n",
       "    <tr>\n",
       "      <th>405</th>\n",
       "      <td>H4198</td>\n",
       "      <td>24.5</td>\n",
       "      <td>NaN</td>\n",
       "      <td>NaN</td>\n",
       "      <td>NaN</td>\n",
       "      <td>2190.0</td>\n",
       "      <td>26.5</td>\n",
       "      <td>2378.0</td>\n",
       "      <td>40400.0</td>\n",
       "      <td>CUP</td>\n",
       "      <td>2.15</td>\n",
       "      <td>54.61</td>\n",
       "      <td>NaN</td>\n",
       "      <td>7.62x39 russian</td>\n",
       "      <td>2.03</td>\n",
       "      <td>0.311</td>\n",
       "    </tr>\n",
       "    <tr>\n",
       "      <th>406</th>\n",
       "      <td>H4895</td>\n",
       "      <td>28.0</td>\n",
       "      <td>NaN</td>\n",
       "      <td>NaN</td>\n",
       "      <td>NaN</td>\n",
       "      <td>2171.0</td>\n",
       "      <td>29.0</td>\n",
       "      <td>2249.0</td>\n",
       "      <td>33600.0</td>\n",
       "      <td>CUP</td>\n",
       "      <td>2.15</td>\n",
       "      <td>54.61</td>\n",
       "      <td>NaN</td>\n",
       "      <td>7.62x39 russian</td>\n",
       "      <td>2.03</td>\n",
       "      <td>0.311</td>\n",
       "    </tr>\n",
       "    <tr>\n",
       "      <th>407</th>\n",
       "      <td>IMR4198</td>\n",
       "      <td>22.6</td>\n",
       "      <td>NaN</td>\n",
       "      <td>NaN</td>\n",
       "      <td>NaN</td>\n",
       "      <td>2035.0</td>\n",
       "      <td>24.0</td>\n",
       "      <td>2250.0</td>\n",
       "      <td>42500.0</td>\n",
       "      <td>CUP</td>\n",
       "      <td>2.15</td>\n",
       "      <td>54.61</td>\n",
       "      <td>NaN</td>\n",
       "      <td>7.62x39 russian</td>\n",
       "      <td>2.03</td>\n",
       "      <td>0.311</td>\n",
       "    </tr>\n",
       "    <tr>\n",
       "      <th>408</th>\n",
       "      <td>125 grain SIE SPT</td>\n",
       "      <td>NaN</td>\n",
       "      <td>NaN</td>\n",
       "      <td>NaN</td>\n",
       "      <td>NaN</td>\n",
       "      <td>NaN</td>\n",
       "      <td>NaN</td>\n",
       "      <td>NaN</td>\n",
       "      <td>NaN</td>\n",
       "      <td>NaN</td>\n",
       "      <td>NaN</td>\n",
       "      <td>NaN</td>\n",
       "      <td>NaN</td>\n",
       "      <td>7.62x39 russian</td>\n",
       "      <td>2.03</td>\n",
       "      <td>0.311</td>\n",
       "    </tr>\n",
       "  </tbody>\n",
       "</table>\n",
       "</div>"
      ],
      "text/plain": [
       "                powder  start  volume cc  auto disk  lee dipper  velocity  \\\n",
       "404               H335   30.0        NaN        NaN         NaN    2219.0   \n",
       "405              H4198   24.5        NaN        NaN         NaN    2190.0   \n",
       "406              H4895   28.0        NaN        NaN         NaN    2171.0   \n",
       "407            IMR4198   22.6        NaN        NaN         NaN    2035.0   \n",
       "408  125 grain SIE SPT    NaN        NaN        NaN         NaN       NaN   \n",
       "\n",
       "     never exceed  velocity max    press units  min oal     mm  press_psi  \\\n",
       "404          31.5        2408.0  40900.0   CUP     2.15  54.61        NaN   \n",
       "405          26.5        2378.0  40400.0   CUP     2.15  54.61        NaN   \n",
       "406          29.0        2249.0  33600.0   CUP     2.15  54.61        NaN   \n",
       "407          24.0        2250.0  42500.0   CUP     2.15  54.61        NaN   \n",
       "408           NaN           NaN      NaN   NaN      NaN    NaN        NaN   \n",
       "\n",
       "    cartridge_caliber  cartridge_volume  cartridge_diameter  \n",
       "404   7.62x39 russian              2.03               0.311  \n",
       "405   7.62x39 russian              2.03               0.311  \n",
       "406   7.62x39 russian              2.03               0.311  \n",
       "407   7.62x39 russian              2.03               0.311  \n",
       "408   7.62x39 russian              2.03               0.311  "
      ]
     },
     "execution_count": 5,
     "metadata": {},
     "output_type": "execute_result"
    }
   ],
   "source": [
    "data.tail()"
   ]
  },
  {
   "cell_type": "code",
   "execution_count": 6,
   "id": "medieval-parallel",
   "metadata": {},
   "outputs": [
    {
     "name": "stdout",
     "output_type": "stream",
     "text": [
      "<class 'pandas.core.frame.DataFrame'>\n",
      "RangeIndex: 409 entries, 0 to 408\n",
      "Data columns (total 16 columns):\n",
      " #   Column              Non-Null Count  Dtype  \n",
      "---  ------              --------------  -----  \n",
      " 0   powder              409 non-null    object \n",
      " 1   start               374 non-null    float64\n",
      " 2   volume cc           15 non-null     float64\n",
      " 3   auto disk           2 non-null      float64\n",
      " 4   lee dipper          2 non-null      float64\n",
      " 5   velocity            374 non-null    float64\n",
      " 6   never exceed        374 non-null    float64\n",
      " 7   velocity max        374 non-null    float64\n",
      " 8   press               322 non-null    float64\n",
      " 9   units               322 non-null    object \n",
      " 10  min oal             374 non-null    float64\n",
      " 11  mm                  374 non-null    float64\n",
      " 12  press_psi           2 non-null      float64\n",
      " 13  cartridge_caliber   409 non-null    object \n",
      " 14  cartridge_volume    409 non-null    float64\n",
      " 15  cartridge_diameter  409 non-null    float64\n",
      "dtypes: float64(13), object(3)\n",
      "memory usage: 51.2+ KB\n"
     ]
    }
   ],
   "source": [
    "data.info()"
   ]
  },
  {
   "cell_type": "code",
   "execution_count": 7,
   "id": "mechanical-charge",
   "metadata": {},
   "outputs": [
    {
     "name": "stdout",
     "output_type": "stream",
     "text": [
      "        powder  rate  type  f0 note\n",
      "0   A NITRO100     1   NaN NaN  NaN\n",
      "1       v-N310     1   NaN NaN  NaN\n",
      "2     VEC BA10     2   NaN NaN  NaN\n",
      "3     ALLNT E3     2   NaN NaN  NaN\n",
      "4  WIN AA LITE     2   NaN NaN  NaN\n",
      "184 184\n"
     ]
    }
   ],
   "source": [
    "# reloading_data - powder burning rate chart\n",
    "powder_rates = pd.read_csv(get_url('data/reloading_data - powder burning rate chart.csv'))\n",
    "print(powder_rates.head())\n",
    "\n",
    "#\n",
    "# verify the data\n",
    "#\n",
    "unique_powder_names = powder_rates.powder.unique()\n",
    "print(len(unique_powder_names), len(powder_rates))\n",
    "assert np.all(unique_powder_names == powder_rates.powder), \"powder_rates is not unique\""
   ]
  },
  {
   "cell_type": "code",
   "execution_count": 8,
   "id": "motivated-employee",
   "metadata": {},
   "outputs": [
    {
     "name": "stdout",
     "output_type": "stream",
     "text": [
      "lee.shape (374, 13)\n"
     ]
    }
   ],
   "source": [
    "# add a \"bullet type\" column\n",
    "\n",
    "orig_columns = [\n",
    "    'powder', 'start', 'velocity', 'never exceed', 'velocity max', 'press', 'units', 'min oal',\n",
    "    'cartridge_caliber', 'cartridge_volume', 'cartridge_diameter'\n",
    "    ]\n",
    "new_columns  = [\n",
    "    'bul_weight', 'bul_type', \n",
    "    'powder', 's_load', 's_velocity', 'ne_load', 'ne_velocity', 'press', 'units', 'oal',\n",
    "    'cartridge_caliber', 'cartridge_volume', 'cartridge_diameter'\n",
    "    ]\n",
    "\n",
    "lee = pd.DataFrame(columns = new_columns)\n",
    "\n",
    "bul_weight = None\n",
    "bul_type = None\n",
    "for pos in range(0, data.shape[0]):\n",
    "    line = tuple(data.loc[pos, orig_columns].array)\n",
    "    # print(123, '>>>', line) # DEBUG\n",
    "    if type(line[0]) is float:\n",
    "        continue\n",
    "    if ' grain ' in line[0]: # this is a bullettype \"115 grain jacketed\"\n",
    "        bul_weight, bul_type = line[0].split(' grain ')\n",
    "    else:\n",
    "        line = (float(bul_weight), bul_type, *line)\n",
    "        lee.loc[len(lee.index)] = line\n",
    "print('lee.shape', lee.shape)"
   ]
  },
  {
   "cell_type": "code",
   "execution_count": 9,
   "id": "domestic-dispute",
   "metadata": {},
   "outputs": [],
   "source": [
    "# check if some powder names are not known from the burn rate table\n",
    "unknown_powders = np.setdiff1d(lee.powder.unique(), unique_powder_names)\n",
    "for p in unknown_powders:\n",
    "    print(\"'%s' is not found in powder burning rate chart\" % p)"
   ]
  },
  {
   "cell_type": "code",
   "execution_count": 10,
   "id": "noble-above",
   "metadata": {},
   "outputs": [],
   "source": [
    "def powder_id(x):\n",
    "    try:\n",
    "        return np.where(powder_rates.powder == x)[0][0]\n",
    "    except :\n",
    "        print (x)\n",
    "\n",
    "def bul_type_id(x):\n",
    "    return np.where(lee.bul_type.unique() == x)[0][0]\n"
   ]
  },
  {
   "cell_type": "code",
   "execution_count": 11,
   "id": "juvenile-faith",
   "metadata": {},
   "outputs": [
    {
     "name": "stdout",
     "output_type": "stream",
     "text": [
      "<class 'pandas.core.frame.DataFrame'>\n",
      "Int64Index: 374 entries, 0 to 373\n",
      "Data columns (total 16 columns):\n",
      " #   Column              Non-Null Count  Dtype  \n",
      "---  ------              --------------  -----  \n",
      " 0   bul_weight          374 non-null    float64\n",
      " 1   bul_type            374 non-null    object \n",
      " 2   powder              374 non-null    object \n",
      " 3   s_load              374 non-null    float64\n",
      " 4   s_velocity          374 non-null    float64\n",
      " 5   ne_load             374 non-null    float64\n",
      " 6   ne_velocity         374 non-null    float64\n",
      " 7   press               322 non-null    float64\n",
      " 8   units               322 non-null    object \n",
      " 9   oal                 374 non-null    float64\n",
      " 10  cartridge_caliber   374 non-null    object \n",
      " 11  cartridge_volume    374 non-null    float64\n",
      " 12  cartridge_diameter  374 non-null    float64\n",
      " 13  powder_id           374 non-null    int64  \n",
      " 14  bul_type_id         374 non-null    int64  \n",
      " 15  powder_rate         374 non-null    int64  \n",
      "dtypes: float64(9), int64(3), object(4)\n",
      "memory usage: 49.7+ KB\n"
     ]
    },
    {
     "data": {
      "text/html": [
       "<div>\n",
       "<style scoped>\n",
       "    .dataframe tbody tr th:only-of-type {\n",
       "        vertical-align: middle;\n",
       "    }\n",
       "\n",
       "    .dataframe tbody tr th {\n",
       "        vertical-align: top;\n",
       "    }\n",
       "\n",
       "    .dataframe thead th {\n",
       "        text-align: right;\n",
       "    }\n",
       "</style>\n",
       "<table border=\"1\" class=\"dataframe\">\n",
       "  <thead>\n",
       "    <tr style=\"text-align: right;\">\n",
       "      <th></th>\n",
       "      <th>bul_weight</th>\n",
       "      <th>bul_type</th>\n",
       "      <th>powder</th>\n",
       "      <th>s_load</th>\n",
       "      <th>s_velocity</th>\n",
       "      <th>ne_load</th>\n",
       "      <th>ne_velocity</th>\n",
       "      <th>press</th>\n",
       "      <th>units</th>\n",
       "      <th>oal</th>\n",
       "      <th>cartridge_caliber</th>\n",
       "      <th>cartridge_volume</th>\n",
       "      <th>cartridge_diameter</th>\n",
       "      <th>powder_id</th>\n",
       "      <th>bul_type_id</th>\n",
       "      <th>powder_rate</th>\n",
       "    </tr>\n",
       "  </thead>\n",
       "  <tbody>\n",
       "    <tr>\n",
       "      <th>0</th>\n",
       "      <td>115.0</td>\n",
       "      <td>jacketed</td>\n",
       "      <td>v-N350</td>\n",
       "      <td>5.4</td>\n",
       "      <td>1129.0</td>\n",
       "      <td>6.5</td>\n",
       "      <td>1293.0</td>\n",
       "      <td>NaN</td>\n",
       "      <td>NaN</td>\n",
       "      <td>1.142</td>\n",
       "      <td>9mm parabellum</td>\n",
       "      <td>0.74</td>\n",
       "      <td>0.356</td>\n",
       "      <td>58</td>\n",
       "      <td>0</td>\n",
       "      <td>20</td>\n",
       "    </tr>\n",
       "    <tr>\n",
       "      <th>1</th>\n",
       "      <td>115.0</td>\n",
       "      <td>jacketed</td>\n",
       "      <td>v-3N37</td>\n",
       "      <td>5.6</td>\n",
       "      <td>1129.0</td>\n",
       "      <td>6.5</td>\n",
       "      <td>1289.0</td>\n",
       "      <td>NaN</td>\n",
       "      <td>NaN</td>\n",
       "      <td>1.142</td>\n",
       "      <td>9mm parabellum</td>\n",
       "      <td>0.74</td>\n",
       "      <td>0.356</td>\n",
       "      <td>54</td>\n",
       "      <td>0</td>\n",
       "      <td>19</td>\n",
       "    </tr>\n",
       "    <tr>\n",
       "      <th>2</th>\n",
       "      <td>115.0</td>\n",
       "      <td>jacketed</td>\n",
       "      <td>v-N330</td>\n",
       "      <td>4.5</td>\n",
       "      <td>1076.0</td>\n",
       "      <td>5.4</td>\n",
       "      <td>1227.0</td>\n",
       "      <td>NaN</td>\n",
       "      <td>NaN</td>\n",
       "      <td>1.142</td>\n",
       "      <td>9mm parabellum</td>\n",
       "      <td>0.74</td>\n",
       "      <td>0.356</td>\n",
       "      <td>40</td>\n",
       "      <td>0</td>\n",
       "      <td>15</td>\n",
       "    </tr>\n",
       "    <tr>\n",
       "      <th>3</th>\n",
       "      <td>115.0</td>\n",
       "      <td>jacketed</td>\n",
       "      <td>v-N340</td>\n",
       "      <td>4.8</td>\n",
       "      <td>1129.0</td>\n",
       "      <td>5.4</td>\n",
       "      <td>1220.0</td>\n",
       "      <td>NaN</td>\n",
       "      <td>NaN</td>\n",
       "      <td>1.142</td>\n",
       "      <td>9mm parabellum</td>\n",
       "      <td>0.74</td>\n",
       "      <td>0.356</td>\n",
       "      <td>46</td>\n",
       "      <td>0</td>\n",
       "      <td>18</td>\n",
       "    </tr>\n",
       "    <tr>\n",
       "      <th>4</th>\n",
       "      <td>115.0</td>\n",
       "      <td>jacketed</td>\n",
       "      <td>wSUPER-FLD</td>\n",
       "      <td>4.9</td>\n",
       "      <td>1060.0</td>\n",
       "      <td>5.7</td>\n",
       "      <td>1195.0</td>\n",
       "      <td>31900.0</td>\n",
       "      <td>PSI</td>\n",
       "      <td>1.169</td>\n",
       "      <td>9mm parabellum</td>\n",
       "      <td>0.74</td>\n",
       "      <td>0.356</td>\n",
       "      <td>55</td>\n",
       "      <td>0</td>\n",
       "      <td>19</td>\n",
       "    </tr>\n",
       "  </tbody>\n",
       "</table>\n",
       "</div>"
      ],
      "text/plain": [
       "   bul_weight  bul_type      powder  s_load  s_velocity  ne_load  ne_velocity  \\\n",
       "0       115.0  jacketed      v-N350     5.4      1129.0      6.5       1293.0   \n",
       "1       115.0  jacketed      v-3N37     5.6      1129.0      6.5       1289.0   \n",
       "2       115.0  jacketed      v-N330     4.5      1076.0      5.4       1227.0   \n",
       "3       115.0  jacketed      v-N340     4.8      1129.0      5.4       1220.0   \n",
       "4       115.0  jacketed  wSUPER-FLD     4.9      1060.0      5.7       1195.0   \n",
       "\n",
       "     press units    oal cartridge_caliber  cartridge_volume  \\\n",
       "0      NaN   NaN  1.142    9mm parabellum              0.74   \n",
       "1      NaN   NaN  1.142    9mm parabellum              0.74   \n",
       "2      NaN   NaN  1.142    9mm parabellum              0.74   \n",
       "3      NaN   NaN  1.142    9mm parabellum              0.74   \n",
       "4  31900.0   PSI  1.169    9mm parabellum              0.74   \n",
       "\n",
       "   cartridge_diameter  powder_id  bul_type_id  powder_rate  \n",
       "0               0.356         58            0           20  \n",
       "1               0.356         54            0           19  \n",
       "2               0.356         40            0           15  \n",
       "3               0.356         46            0           18  \n",
       "4               0.356         55            0           19  "
      ]
     },
     "execution_count": 11,
     "metadata": {},
     "output_type": "execute_result"
    }
   ],
   "source": [
    "lee['powder_id'] = [ powder_id(x) for x in lee.powder ]\n",
    "lee['bul_type_id'] = [ bul_type_id(x) for x in lee.bul_type ]\n",
    "lee['powder_rate'] = list(powder_rates.rate[lee.powder_id])\n",
    "\n",
    "lee.to_csv('lee.csv')\n",
    "lee.info()\n",
    "lee.head()"
   ]
  },
  {
   "cell_type": "code",
   "execution_count": 12,
   "id": "unlikely-interaction",
   "metadata": {},
   "outputs": [],
   "source": [
    "# print(lee)\n",
    "# lee.to_csv('lee.csv')\n",
    "# print(\"saved...\")\n",
    "\n",
    "if False:\n",
    "    for p in ['HP38', 'H110']:\n",
    "        arr = lee[lee.powder == p][['powder', 'powder_id', 'bul_type_id', 'powder_rate', 'cartridge_volume', 'cartridge_diameter']].to_numpy()\n",
    "        print(arr[0])\n",
    "\n",
    "    print(lee[lee.powder == 'H110'][['powder', 'powder_id', 'bul_type_id', 'powder_rate', 'cartridge_volume', 'cartridge_diameter']])\n",
    "    print('-------------')\n",
    "    print(lee[lee.powder == 'H110'])"
   ]
  },
  {
   "cell_type": "code",
   "execution_count": 13,
   "id": "intellectual-joining",
   "metadata": {
    "scrolled": true
   },
   "outputs": [
    {
     "name": "stdout",
     "output_type": "stream",
     "text": [
      "[['HP38' 7 nan nan nan]]\n",
      "[115. 125. 147.  77. 130. 135. 110.  90. 146. 123. 150.]\n",
      "        powder  rate  type  f0 note\n",
      "82  ACCUR 1680    29   NaN NaN  NaN\n"
     ]
    }
   ],
   "source": [
    "print(powder_rates[powder_rates.powder == 'HP38'].to_numpy())\n",
    "print(lee.bul_weight.unique())\n",
    "print(powder_rates[powder_rates.powder == 'ACCUR 1680'])"
   ]
  },
  {
   "cell_type": "code",
   "execution_count": 15,
   "id": "running-olive",
   "metadata": {},
   "outputs": [
    {
     "name": "stdout",
     "output_type": "stream",
     "text": [
      "<class 'pandas.core.frame.DataFrame'>\n",
      "Int64Index: 322 entries, 4 to 373\n",
      "Data columns (total 16 columns):\n",
      " #   Column              Non-Null Count  Dtype  \n",
      "---  ------              --------------  -----  \n",
      " 0   bul_weight          322 non-null    float64\n",
      " 1   bul_type            322 non-null    object \n",
      " 2   powder              322 non-null    object \n",
      " 3   s_load              322 non-null    float64\n",
      " 4   s_velocity          322 non-null    float64\n",
      " 5   ne_load             322 non-null    float64\n",
      " 6   ne_velocity         322 non-null    float64\n",
      " 7   press               322 non-null    float64\n",
      " 8   units               322 non-null    object \n",
      " 9   oal                 322 non-null    float64\n",
      " 10  cartridge_caliber   322 non-null    object \n",
      " 11  cartridge_volume    322 non-null    float64\n",
      " 12  cartridge_diameter  322 non-null    float64\n",
      " 13  powder_id           322 non-null    int64  \n",
      " 14  bul_type_id         322 non-null    int64  \n",
      " 15  powder_rate         322 non-null    int64  \n",
      "dtypes: float64(9), int64(3), object(4)\n",
      "memory usage: 42.8+ KB\n"
     ]
    }
   ],
   "source": [
    "lee_clean = lee.dropna()\n",
    "lee_clean.info()"
   ]
  },
  {
   "cell_type": "code",
   "execution_count": 16,
   "id": "tested-honor",
   "metadata": {},
   "outputs": [
    {
     "name": "stdout",
     "output_type": "stream",
     "text": [
      "<class 'pandas.core.frame.DataFrame'>\n",
      "Int64Index: 322 entries, 4 to 373\n",
      "Data columns (total 76 columns):\n",
      " #   Column                             Non-Null Count  Dtype  \n",
      "---  ------                             --------------  -----  \n",
      " 0   bul_weight                         322 non-null    float64\n",
      " 1   s_load                             322 non-null    float64\n",
      " 2   s_velocity                         322 non-null    float64\n",
      " 3   ne_load                            322 non-null    float64\n",
      " 4   ne_velocity                        322 non-null    float64\n",
      " 5   press                              322 non-null    float64\n",
      " 6   oal                                322 non-null    float64\n",
      " 7   cartridge_volume                   322 non-null    float64\n",
      " 8   cartridge_diameter                 322 non-null    float64\n",
      " 9   powder_id                          322 non-null    int64  \n",
      " 10  bul_type_id                        322 non-null    int64  \n",
      " 11  powder_rate                        322 non-null    int64  \n",
      " 12  bul_type_FRANGIBLE                 322 non-null    uint8  \n",
      " 13  bul_type_HDY SST                   322 non-null    uint8  \n",
      " 14  bul_type_SPR SP                    322 non-null    uint8  \n",
      " 15  bul_type_XTP                       322 non-null    uint8  \n",
      " 16  bul_type_barnes x solid            322 non-null    uint8  \n",
      " 17  bul_type_copper plated             322 non-null    uint8  \n",
      " 18  bul_type_jacketed                  322 non-null    uint8  \n",
      " 19  bul_type_lead                      322 non-null    uint8  \n",
      " 20  powder_A NITRO100                  322 non-null    uint8  \n",
      " 21  powder_ACCUR #2                    322 non-null    uint8  \n",
      " 22  powder_ACCUR #5                    322 non-null    uint8  \n",
      " 23  powder_ACCUR #7                    322 non-null    uint8  \n",
      " 24  powder_ACCUR 1680                  322 non-null    uint8  \n",
      " 25  powder_ACCUR 2015                  322 non-null    uint8  \n",
      " 26  powder_ACCUR 2200                  322 non-null    uint8  \n",
      " 27  powder_ACCUR 2230                  322 non-null    uint8  \n",
      " 28  powder_ACCUR 5744                  322 non-null    uint8  \n",
      " 29  powder_AUTOCOMP                    322 non-null    uint8  \n",
      " 30  powder_BL-C(2)                     322 non-null    uint8  \n",
      " 31  powder_CFE BLK                     322 non-null    uint8  \n",
      " 32  powder_CFE PISTOL                  322 non-null    uint8  \n",
      " 33  powder_CLAYS                       322 non-null    uint8  \n",
      " 34  powder_H110                        322 non-null    uint8  \n",
      " 35  powder_H322                        322 non-null    uint8  \n",
      " 36  powder_H335                        322 non-null    uint8  \n",
      " 37  powder_H4198                       322 non-null    uint8  \n",
      " 38  powder_H4227                       322 non-null    uint8  \n",
      " 39  powder_H4895                       322 non-null    uint8  \n",
      " 40  powder_HP38                        322 non-null    uint8  \n",
      " 41  powder_HS6                         322 non-null    uint8  \n",
      " 42  powder_IMR 700X                    322 non-null    uint8  \n",
      " 43  powder_IMR 800X                    322 non-null    uint8  \n",
      " 44  powder_IMR PB                      322 non-null    uint8  \n",
      " 45  powder_IMR RED                     322 non-null    uint8  \n",
      " 46  powder_IMR TARGET                  322 non-null    uint8  \n",
      " 47  powder_IMR TRAIL BOSS              322 non-null    uint8  \n",
      " 48  powder_IMR4198                     322 non-null    uint8  \n",
      " 49  powder_LONGSHORT                   322 non-null    uint8  \n",
      " 50  powder_LT-30                       322 non-null    uint8  \n",
      " 51  powder_LT-32                       322 non-null    uint8  \n",
      " 52  powder_R COMPETITION               322 non-null    uint8  \n",
      " 53  powder_R ENFORCER                  322 non-null    uint8  \n",
      " 54  powder_R SILHOUETTE                322 non-null    uint8  \n",
      " 55  powder_R TRUE BLUE                 322 non-null    uint8  \n",
      " 56  powder_RAM ZIP                     322 non-null    uint8  \n",
      " 57  powder_SOLO 1000                   322 non-null    uint8  \n",
      " 58  powder_SR4756                      322 non-null    uint8  \n",
      " 59  powder_SR7625                      322 non-null    uint8  \n",
      " 60  powder_TITEGROUP                   322 non-null    uint8  \n",
      " 61  powder_UNIVERSAL                   322 non-null    uint8  \n",
      " 62  powder_WIN 231                     322 non-null    uint8  \n",
      " 63  powder_WIN 244                     322 non-null    uint8  \n",
      " 64  powder_WIN 296                     322 non-null    uint8  \n",
      " 65  powder_WIN 572                     322 non-null    uint8  \n",
      " 66  powder_X-TERMINATOR                322 non-null    uint8  \n",
      " 67  powder_wSUPER-FLD                  322 non-null    uint8  \n",
      " 68  units_CUP                          322 non-null    uint8  \n",
      " 69  units_PDSI                         322 non-null    uint8  \n",
      " 70  units_PSI                          322 non-null    uint8  \n",
      " 71  cartridge_caliber_357 magnum       322 non-null    uint8  \n",
      " 72  cartridge_caliber_38 special       322 non-null    uint8  \n",
      " 73  cartridge_caliber_38 special +P    322 non-null    uint8  \n",
      " 74  cartridge_caliber_7.62x39 russian  322 non-null    uint8  \n",
      " 75  cartridge_caliber_9mm parabellum   322 non-null    uint8  \n",
      "dtypes: float64(9), int64(3), uint8(64)\n",
      "memory usage: 52.8 KB\n"
     ]
    }
   ],
   "source": [
    "lee_dummies = pd.get_dummies(lee_clean)\n",
    "lee_dummies.info()"
   ]
  },
  {
   "cell_type": "code",
   "execution_count": 52,
   "id": "canadian-player",
   "metadata": {},
   "outputs": [
    {
     "name": "stdout",
     "output_type": "stream",
     "text": [
      "train_x (263, 7)\n",
      "train_x_poly (263, 36)\n",
      "train_x (256, 7)\n",
      "train_x_poly (256, 36)\n",
      "Loops done: 2\n",
      "Mean absolute error: 0.71\n",
      "Residual sum of squares (MSE): 1.00\n",
      "R2-score: 0.99\n"
     ]
    }
   ],
   "source": [
    "keep_looping = True\n",
    "total_loops = 0\n",
    "max_loops = 20\n",
    "DEGREE = 2\n",
    "\n",
    "y_keys = ['s_load', 'ne_load']\n",
    "x_keys = [\n",
    "    'bul_weight', 'powder_rate', 'cartridge_volume', 'cartridge_diameter', 'bul_type_id',\n",
    "    's_velocity', 'ne_velocity',\n",
    "#    'cartridge_caliber_357 magnum',  \n",
    "#    'cartridge_caliber_38 special',  \n",
    "#    'cartridge_caliber_38 special +P',  \n",
    "#    'cartridge_caliber_7.62x39 russian',  \n",
    "#    'cartridge_caliber_9mm parabellum',\n",
    "#    'bul_type_FRANGIBLE',\n",
    "#    'bul_type_HDY SST',\n",
    "#    'bul_type_SPR SP',\n",
    "#    'bul_type_XTP',\n",
    "#    'bul_type_barnes x solid',\n",
    "#    'bul_type_copper plated',\n",
    "#    'bul_type_jacketed',\n",
    "#    'bul_type_lead', \n",
    "]\n",
    "\n",
    "\n",
    "def compute_load(powder, weight, caliber):\n",
    "    pwd, rate, s_velocity, ne_velocity = lee[lee.powder == powder][['powder_id', 'powder_rate', 's_velocity', 'ne_velocity']].to_numpy()[0]\n",
    "    print('powder id', pwd, 'rate', rate)\n",
    "    vol, diam = cartridges[cartridges.title == caliber][['volume', 'diameter']].to_numpy()[0]\n",
    "    print('volume', vol, 'diameter', diam)\n",
    "    \n",
    "    if False:\n",
    "        if caliber == '357 magnum':\n",
    "            cartridge_caliber = [1, 0, 0, 0, 0]\n",
    "        elif caliber == '38 special':\n",
    "            cartridge_caliber = [0, 1, 0, 0, 0]\n",
    "        elif caliber == 'caliber_38 special +P':\n",
    "            cartridge_caliber = [0, 0, 1, 0, 0]\n",
    "        elif caliber == '7.62x39 russian':\n",
    "            cartridge_caliber = [0, 0, 0, 1, 0]\n",
    "        elif caliber == '9mm parabellum':\n",
    "            cartridge_caliber = [0, 0, 0, 0, 1]\n",
    "        else:\n",
    "            raise \"Unknown caliber\"\n",
    "    \n",
    "    actual_x = np.array(\n",
    "        list([weight, rate, vol, diam, x, s_velocity, ne_velocity ]  for x in range(len(lee.bul_type.unique())))\n",
    "    )\n",
    "    \n",
    "    #hot_one = np.eye(len(lee.bul_type.unique()))\n",
    "    #actual_x = np.concatenate((actual_x, hot_one), axis=1)\n",
    "    \n",
    "    print('X\\n', actual_x)\n",
    "    actual_x_poly = poly.fit_transform(actual_x)\n",
    "    actual_y_ = clf.predict(actual_x_poly)\n",
    "    print(lee.bul_type.unique())\n",
    "    print('Y\\n', actual_y_)\n",
    "\n",
    "while keep_looping and total_loops < max_loops:\n",
    "    msk = np.random.rand(len(lee_clean)) < 0.8\n",
    "    train = lee_clean[msk]\n",
    "    test = lee_clean[~msk]\n",
    "\n",
    "    train_x = np.asanyarray(train[x_keys])\n",
    "    train_y = np.asanyarray(train[y_keys])\n",
    "\n",
    "    test_x = np.asanyarray(test[x_keys])\n",
    "    test_y = np.asanyarray(test[y_keys])\n",
    "    print('train_x', train_x.shape)\n",
    "\n",
    "    poly = PolynomialFeatures(degree=DEGREE)\n",
    "    train_x_poly = poly.fit_transform(train_x)\n",
    "    print('train_x_poly', train_x_poly.shape)\n",
    "\n",
    "    clf = linear_model.LinearRegression()\n",
    "    train_y_ = clf.fit(train_x_poly, train_y)\n",
    "    # The coefficients\n",
    "    if False:\n",
    "        print ('Coefficients: ', clf.coef_)\n",
    "        print ('Intercept: ',clf.intercept_)\n",
    "\n",
    "    test_x_poly = poly.fit_transform(test_x)\n",
    "    test_y_ = clf.predict(test_x_poly)\n",
    "\n",
    "    total_loops += 1\n",
    "\n",
    "    if verbose:\n",
    "        print('Loop: %d ------------' % total_loops)\n",
    "        print(\"Mean absolute error: %.2f\" % np.mean(np.absolute(test_y_ - test_y)))\n",
    "        print(\"Residual sum of squares (MSE): %.2f\" % np.mean((test_y_ - test_y) ** 2))\n",
    "        print(\"R2-score: %.2f\" % r2_score(test_y_ , test_y) )\n",
    "    \n",
    "    err = np.mean(np.absolute(test_y_ - test_y))\n",
    "    keep_looping = err > 0.95\n",
    "                  \n",
    "# end of while\n",
    "print('Loops done: %d' % total_loops)\n",
    "print(\"Mean absolute error: %.2f\" % np.mean(np.absolute(test_y_ - test_y)))\n",
    "print(\"Residual sum of squares (MSE): %.2f\" % np.mean((test_y_ - test_y) ** 2))\n",
    "print(\"R2-score: %.2f\" % r2_score(test_y_ , test_y) )\n",
    "\n",
    "assert(keep_looping == False)"
   ]
  },
  {
   "cell_type": "code",
   "execution_count": 43,
   "id": "numerous-sacramento",
   "metadata": {},
   "outputs": [
    {
     "name": "stdout",
     "output_type": "stream",
     "text": [
      "['jacketed' 'lead' 'copper plated' 'XTP' 'barnes x solid' 'FRANGIBLE'\n",
      " 'HDY SST' 'SPR SP']\n",
      "[115. 125. 147.  77. 130. 135. 110.  90. 146. 123. 150.]\n",
      "             title  volume  diameter\n",
      "0   9mm parabellum    0.74     0.356\n",
      "1       38 special    1.30     0.358\n",
      "2       357 magnum    1.36     0.358\n",
      "3  7.62x54 russian    3.47     0.310\n",
      "4    38 special +P    1.18     0.358\n",
      "5  7.62x39 russian    2.03     0.311\n"
     ]
    }
   ],
   "source": [
    "print(lee.bul_type.unique())\n",
    "print(lee.bul_weight.unique())\n",
    "\n",
    "print(cartridges.loc[:, ['title', 'volume', 'diameter']])"
   ]
  },
  {
   "cell_type": "code",
   "execution_count": 53,
   "id": "imperial-sussex",
   "metadata": {},
   "outputs": [
    {
     "name": "stdout",
     "output_type": "stream",
     "text": [
      "powder id 23.0 rate 9.0\n",
      "volume 1.3 diameter 0.358\n",
      "X\n",
      " [[1.470e+02 9.000e+00 1.300e+00 3.580e-01 0.000e+00 9.710e+02 1.088e+03]\n",
      " [1.470e+02 9.000e+00 1.300e+00 3.580e-01 1.000e+00 9.710e+02 1.088e+03]\n",
      " [1.470e+02 9.000e+00 1.300e+00 3.580e-01 2.000e+00 9.710e+02 1.088e+03]\n",
      " [1.470e+02 9.000e+00 1.300e+00 3.580e-01 3.000e+00 9.710e+02 1.088e+03]\n",
      " [1.470e+02 9.000e+00 1.300e+00 3.580e-01 4.000e+00 9.710e+02 1.088e+03]\n",
      " [1.470e+02 9.000e+00 1.300e+00 3.580e-01 5.000e+00 9.710e+02 1.088e+03]\n",
      " [1.470e+02 9.000e+00 1.300e+00 3.580e-01 6.000e+00 9.710e+02 1.088e+03]\n",
      " [1.470e+02 9.000e+00 1.300e+00 3.580e-01 7.000e+00 9.710e+02 1.088e+03]]\n",
      "['jacketed' 'lead' 'copper plated' 'XTP' 'barnes x solid' 'FRANGIBLE'\n",
      " 'HDY SST' 'SPR SP']\n",
      "Y\n",
      " [[5.34116112 6.53563288]\n",
      " [5.31117792 6.52760748]\n",
      " [5.50905473 6.68181391]\n",
      " [5.93479157 6.99825218]\n",
      " [6.58838844 7.47692229]\n",
      " [7.46984533 8.11782423]\n",
      " [8.57916225 8.92095802]\n",
      " [9.91633918 9.88632366]]\n"
     ]
    }
   ],
   "source": [
    "compute_load('ACCUR #2', 147, '38 special')"
   ]
  },
  {
   "cell_type": "code",
   "execution_count": 46,
   "id": "innovative-rates",
   "metadata": {},
   "outputs": [
    {
     "name": "stdout",
     "output_type": "stream",
     "text": [
      "powder id 43 rate 18\n",
      "volume 0.74 diameter 0.356\n",
      "X\n",
      " [[125.     18.      0.74    0.356   0.   ]\n",
      " [125.     18.      0.74    0.356   1.   ]\n",
      " [125.     18.      0.74    0.356   2.   ]\n",
      " [125.     18.      0.74    0.356   3.   ]\n",
      " [125.     18.      0.74    0.356   4.   ]\n",
      " [125.     18.      0.74    0.356   5.   ]\n",
      " [125.     18.      0.74    0.356   6.   ]\n",
      " [125.     18.      0.74    0.356   7.   ]]\n",
      "['jacketed' 'lead' 'copper plated' 'XTP' 'barnes x solid' 'FRANGIBLE'\n",
      " 'HDY SST' 'SPR SP']\n",
      "Y\n",
      " [[4.93440953 5.52835299]\n",
      " [4.81730537 5.49715872]\n",
      " [4.96948495 5.65980994]\n",
      " [5.39094827 6.01630665]\n",
      " [6.08169532 6.56664884]\n",
      " [7.0417261  7.31083651]\n",
      " [8.27104062 8.24886967]\n",
      " [9.76963888 9.38074831]]\n"
     ]
    }
   ],
   "source": [
    "compute_load('HS6', 125, '9mm parabellum')"
   ]
  },
  {
   "cell_type": "code",
   "execution_count": 54,
   "id": "atmospheric-commissioner",
   "metadata": {},
   "outputs": [
    {
     "name": "stdout",
     "output_type": "stream",
     "text": [
      "powder id 43.0 rate 18.0\n",
      "volume 1.3 diameter 0.358\n",
      "X\n",
      " [[1.470e+02 1.800e+01 1.300e+00 3.580e-01 0.000e+00 1.117e+03 1.170e+03]\n",
      " [1.470e+02 1.800e+01 1.300e+00 3.580e-01 1.000e+00 1.117e+03 1.170e+03]\n",
      " [1.470e+02 1.800e+01 1.300e+00 3.580e-01 2.000e+00 1.117e+03 1.170e+03]\n",
      " [1.470e+02 1.800e+01 1.300e+00 3.580e-01 3.000e+00 1.117e+03 1.170e+03]\n",
      " [1.470e+02 1.800e+01 1.300e+00 3.580e-01 4.000e+00 1.117e+03 1.170e+03]\n",
      " [1.470e+02 1.800e+01 1.300e+00 3.580e-01 5.000e+00 1.117e+03 1.170e+03]\n",
      " [1.470e+02 1.800e+01 1.300e+00 3.580e-01 6.000e+00 1.117e+03 1.170e+03]\n",
      " [1.470e+02 1.800e+01 1.300e+00 3.580e-01 7.000e+00 1.117e+03 1.170e+03]]\n",
      "['jacketed' 'lead' 'copper plated' 'XTP' 'barnes x solid' 'FRANGIBLE'\n",
      " 'HDY SST' 'SPR SP']\n",
      "Y\n",
      " [[ 7.28250055  8.08428122]\n",
      " [ 7.28139097  8.16163719]\n",
      " [ 7.50814141  8.401225  ]\n",
      " [ 7.96275188  8.80304464]\n",
      " [ 8.64522237  9.36709611]\n",
      " [ 9.55555288 10.09337944]\n",
      " [10.69374342 10.9818946 ]\n",
      " [12.05979398 12.0326416 ]]\n"
     ]
    }
   ],
   "source": [
    "compute_load('HS6', 147, '38 special')"
   ]
  },
  {
   "cell_type": "code",
   "execution_count": 55,
   "id": "faced-winning",
   "metadata": {},
   "outputs": [
    {
     "name": "stdout",
     "output_type": "stream",
     "text": [
      "powder id 75.0 rate 26.0\n",
      "volume 2.03 diameter 0.311\n",
      "X\n",
      " [[1.230e+02 2.600e+01 2.030e+00 3.110e-01 0.000e+00 1.881e+03 1.966e+03]\n",
      " [1.230e+02 2.600e+01 2.030e+00 3.110e-01 1.000e+00 1.881e+03 1.966e+03]\n",
      " [1.230e+02 2.600e+01 2.030e+00 3.110e-01 2.000e+00 1.881e+03 1.966e+03]\n",
      " [1.230e+02 2.600e+01 2.030e+00 3.110e-01 3.000e+00 1.881e+03 1.966e+03]\n",
      " [1.230e+02 2.600e+01 2.030e+00 3.110e-01 4.000e+00 1.881e+03 1.966e+03]\n",
      " [1.230e+02 2.600e+01 2.030e+00 3.110e-01 5.000e+00 1.881e+03 1.966e+03]\n",
      " [1.230e+02 2.600e+01 2.030e+00 3.110e-01 6.000e+00 1.881e+03 1.966e+03]\n",
      " [1.230e+02 2.600e+01 2.030e+00 3.110e-01 7.000e+00 1.881e+03 1.966e+03]]\n",
      "['jacketed' 'lead' 'copper plated' 'XTP' 'barnes x solid' 'FRANGIBLE'\n",
      " 'HDY SST' 'SPR SP']\n",
      "Y\n",
      " [[18.66965275 20.1166724 ]\n",
      " [18.04497354 19.68168497]\n",
      " [17.64815435 19.40892937]\n",
      " [17.47919518 19.29840561]\n",
      " [17.53809604 19.35011369]\n",
      " [17.82485693 19.56405361]\n",
      " [18.33947783 19.94022538]\n",
      " [19.08195876 20.47862897]]\n"
     ]
    }
   ],
   "source": [
    "compute_load('H110', 123, '7.62x39 russian')"
   ]
  },
  {
   "cell_type": "code",
   "execution_count": 98,
   "id": "european-singing",
   "metadata": {},
   "outputs": [],
   "source": [
    "load_rate = lee[['s_load', 'ne_load']].copy()\n",
    "load_rate['rate'] = (load_rate.ne_load / load_rate.s_load)"
   ]
  },
  {
   "cell_type": "code",
   "execution_count": 99,
   "id": "incorporated-stability",
   "metadata": {},
   "outputs": [
    {
     "data": {
      "text/html": [
       "<div>\n",
       "<style scoped>\n",
       "    .dataframe tbody tr th:only-of-type {\n",
       "        vertical-align: middle;\n",
       "    }\n",
       "\n",
       "    .dataframe tbody tr th {\n",
       "        vertical-align: top;\n",
       "    }\n",
       "\n",
       "    .dataframe thead th {\n",
       "        text-align: right;\n",
       "    }\n",
       "</style>\n",
       "<table border=\"1\" class=\"dataframe\">\n",
       "  <thead>\n",
       "    <tr style=\"text-align: right;\">\n",
       "      <th></th>\n",
       "      <th>s_load</th>\n",
       "      <th>ne_load</th>\n",
       "      <th>rate</th>\n",
       "    </tr>\n",
       "  </thead>\n",
       "  <tbody>\n",
       "    <tr>\n",
       "      <th>count</th>\n",
       "      <td>374.000000</td>\n",
       "      <td>374.000000</td>\n",
       "      <td>374.000000</td>\n",
       "    </tr>\n",
       "    <tr>\n",
       "      <th>mean</th>\n",
       "      <td>8.188503</td>\n",
       "      <td>9.171658</td>\n",
       "      <td>1.140950</td>\n",
       "    </tr>\n",
       "    <tr>\n",
       "      <th>std</th>\n",
       "      <td>8.124903</td>\n",
       "      <td>8.829368</td>\n",
       "      <td>0.082863</td>\n",
       "    </tr>\n",
       "    <tr>\n",
       "      <th>min</th>\n",
       "      <td>2.500000</td>\n",
       "      <td>2.700000</td>\n",
       "      <td>1.035714</td>\n",
       "    </tr>\n",
       "    <tr>\n",
       "      <th>25%</th>\n",
       "      <td>3.925000</td>\n",
       "      <td>4.600000</td>\n",
       "      <td>1.106383</td>\n",
       "    </tr>\n",
       "    <tr>\n",
       "      <th>50%</th>\n",
       "      <td>4.900000</td>\n",
       "      <td>5.650000</td>\n",
       "      <td>1.120000</td>\n",
       "    </tr>\n",
       "    <tr>\n",
       "      <th>75%</th>\n",
       "      <td>6.400000</td>\n",
       "      <td>7.200000</td>\n",
       "      <td>1.155460</td>\n",
       "    </tr>\n",
       "    <tr>\n",
       "      <th>max</th>\n",
       "      <td>49.200000</td>\n",
       "      <td>54.000000</td>\n",
       "      <td>1.800000</td>\n",
       "    </tr>\n",
       "  </tbody>\n",
       "</table>\n",
       "</div>"
      ],
      "text/plain": [
       "           s_load     ne_load        rate\n",
       "count  374.000000  374.000000  374.000000\n",
       "mean     8.188503    9.171658    1.140950\n",
       "std      8.124903    8.829368    0.082863\n",
       "min      2.500000    2.700000    1.035714\n",
       "25%      3.925000    4.600000    1.106383\n",
       "50%      4.900000    5.650000    1.120000\n",
       "75%      6.400000    7.200000    1.155460\n",
       "max     49.200000   54.000000    1.800000"
      ]
     },
     "execution_count": 99,
     "metadata": {},
     "output_type": "execute_result"
    }
   ],
   "source": [
    "load_rate.describe()"
   ]
  },
  {
   "cell_type": "code",
   "execution_count": 100,
   "id": "interested-nothing",
   "metadata": {},
   "outputs": [
    {
     "data": {
      "text/plain": [
       "powder\n",
       "A NITRO100     7\n",
       "ACCUR #2      13\n",
       "ACCUR #5      13\n",
       "ACCUR #7       7\n",
       "ACCUR 1680     4\n",
       "              ..\n",
       "v-N320         7\n",
       "v-N330         3\n",
       "v-N340         7\n",
       "v-N350         7\n",
       "wSUPER-FLD     3\n",
       "Name: bul_type, Length: 66, dtype: int64"
      ]
     },
     "execution_count": 100,
     "metadata": {},
     "output_type": "execute_result"
    }
   ],
   "source": [
    "lee.groupby('powder').bul_type.count()"
   ]
  },
  {
   "cell_type": "code",
   "execution_count": null,
   "id": "vocal-functionality",
   "metadata": {},
   "outputs": [],
   "source": [
    "lee.groupby('powder').count()"
   ]
  },
  {
   "cell_type": "code",
   "execution_count": null,
   "id": "contrary-width",
   "metadata": {},
   "outputs": [],
   "source": [
    "compute_load('ACCUR #2', 123, '7.62x39 russian')"
   ]
  },
  {
   "cell_type": "code",
   "execution_count": null,
   "id": "filled-restriction",
   "metadata": {},
   "outputs": [],
   "source": [
    "compute_load('ACCUR 1680', 123, '7.62x39 russian')"
   ]
  },
  {
   "cell_type": "code",
   "execution_count": 81,
   "id": "defensive-ranking",
   "metadata": {},
   "outputs": [
    {
     "data": {
      "text/plain": [
       "(array([[1., 0., 0.],\n",
       "        [0., 1., 0.],\n",
       "        [0., 0., 1.]]),\n",
       " array([[1., 0., 0.],\n",
       "        [0., 1., 0.],\n",
       "        [0., 0., 1.]]))"
      ]
     },
     "execution_count": 81,
     "metadata": {},
     "output_type": "execute_result"
    }
   ],
   "source": [
    "e1 = np.eye(3)\n",
    "e2 = np.eye(3)\n",
    "e1, e2"
   ]
  },
  {
   "cell_type": "code",
   "execution_count": 82,
   "id": "radio-promise",
   "metadata": {},
   "outputs": [
    {
     "data": {
      "text/plain": [
       "array([[1, 2],\n",
       "       [3, 4],\n",
       "       [5, 6]])"
      ]
     },
     "execution_count": 82,
     "metadata": {},
     "output_type": "execute_result"
    }
   ],
   "source": [
    "a = np.array([[1, 2], [3, 4]])\n",
    "b = np.array([[5, 6]])\n",
    "np.concatenate((a, b), axis=0)"
   ]
  },
  {
   "cell_type": "code",
   "execution_count": 83,
   "id": "muslim-provider",
   "metadata": {},
   "outputs": [
    {
     "data": {
      "text/plain": [
       "array([[1, 2],\n",
       "       [3, 4]])"
      ]
     },
     "execution_count": 83,
     "metadata": {},
     "output_type": "execute_result"
    }
   ],
   "source": [
    "a"
   ]
  },
  {
   "cell_type": "code",
   "execution_count": 84,
   "id": "obvious-gauge",
   "metadata": {},
   "outputs": [
    {
     "data": {
      "text/plain": [
       "array([[5, 6]])"
      ]
     },
     "execution_count": 84,
     "metadata": {},
     "output_type": "execute_result"
    }
   ],
   "source": [
    "b"
   ]
  },
  {
   "cell_type": "code",
   "execution_count": 85,
   "id": "received-programming",
   "metadata": {},
   "outputs": [
    {
     "data": {
      "text/plain": [
       "array([[1., 0., 0., 1., 0., 0.],\n",
       "       [0., 1., 0., 0., 1., 0.],\n",
       "       [0., 0., 1., 0., 0., 1.]])"
      ]
     },
     "execution_count": 85,
     "metadata": {},
     "output_type": "execute_result"
    }
   ],
   "source": [
    "np.concatenate((e1, e2), axis=1)"
   ]
  },
  {
   "cell_type": "code",
   "execution_count": null,
   "id": "aerial-germany",
   "metadata": {},
   "outputs": [],
   "source": []
  }
 ],
 "metadata": {
  "kernelspec": {
   "display_name": "Python 3",
   "language": "python",
   "name": "python3"
  },
  "language_info": {
   "codemirror_mode": {
    "name": "ipython",
    "version": 3
   },
   "file_extension": ".py",
   "mimetype": "text/x-python",
   "name": "python",
   "nbconvert_exporter": "python",
   "pygments_lexer": "ipython3",
   "version": "3.8.7"
  }
 },
 "nbformat": 4,
 "nbformat_minor": 5
}

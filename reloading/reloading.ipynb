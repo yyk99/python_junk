{
 "cells": [
  {
   "cell_type": "code",
   "execution_count": null,
   "id": "union-sponsorship",
   "metadata": {},
   "outputs": [],
   "source": [
    "#\n",
    "#\n",
    "#\n",
    "\n",
    "import numpy as np\n",
    "import pandas as pd\n",
    "import matplotlib.pyplot as plt\n",
    "import os\n",
    "\n",
    "from sklearn.preprocessing import PolynomialFeatures\n",
    "from sklearn import linear_model\n",
    "from sklearn.metrics import r2_score\n",
    "\n",
    "from reloading_utils import get_url"
   ]
  },
  {
   "cell_type": "code",
   "execution_count": null,
   "id": "destroyed-belarus",
   "metadata": {},
   "outputs": [],
   "source": [
    "# data/reloading_data - CATRIDGES.csv\n",
    "cartridges = pd.read_csv(get_url('data/reloading_data - CATRIDGES.csv'))\n",
    "print(cartridges)\n",
    "\n",
    "cartridges_to_process = cartridges.loc[:, ['title', 'volume', 'diameter']].to_numpy()\n",
    "print(cartridges_to_process)"
   ]
  },
  {
   "cell_type": "code",
   "execution_count": null,
   "id": "signal-swimming",
   "metadata": {},
   "outputs": [],
   "source": [
    "def process_data_file(c, v, a):\n",
    "    filename = f'data/reloading_data - %s.csv' % c\n",
    "    try:\n",
    "        d = pd.read_csv(get_url(filename))\n",
    "        d['cartridge_caliber'] = c\n",
    "        d['cartridge_volume'] = v\n",
    "        d['cartridge_diameter'] = a\n",
    "        return d\n",
    "    except:\n",
    "        print(\"ERROR: Cannot process:\", filename)\n",
    "        return None\n",
    "\n",
    "frames = [ process_data_file(c, v, a) for c, v, a in cartridges_to_process ]\n",
    "data = pd.concat(frames, ignore_index=True)\n",
    "\n",
    "# print(data.head())  # DEBUG\n",
    "print('data.shape', data.shape)"
   ]
  },
  {
   "cell_type": "code",
   "execution_count": null,
   "id": "mechanical-charge",
   "metadata": {},
   "outputs": [],
   "source": [
    "# reloading_data - powder burning rate chart\n",
    "powder_rates = pd.read_csv(get_url('data/reloading_data - powder burning rate chart.csv'))\n",
    "print(powder_rates.head())\n",
    "\n",
    "#\n",
    "# verify the data\n",
    "#\n",
    "unique_powder_names = powder_rates.powder.unique()\n",
    "print(len(unique_powder_names), len(powder_rates))\n",
    "assert np.all(unique_powder_names == powder_rates.powder), \"powder_rates is not unique\""
   ]
  },
  {
   "cell_type": "code",
   "execution_count": null,
   "id": "motivated-employee",
   "metadata": {},
   "outputs": [],
   "source": [
    "# add a \"bullet type\" column\n",
    "\n",
    "orig_columns = [\n",
    "    'powder', 'start', 'velocity', 'never exceed', 'velocity max', 'press', 'units', 'min oal',\n",
    "    'cartridge_caliber', 'cartridge_volume', 'cartridge_diameter'\n",
    "    ]\n",
    "new_columns  = [\n",
    "    'bul_weight', 'bul_type', \n",
    "    'powder', 's_load', 's_velocity', 'ne_load', 'ne_velocity', 'press', 'units', 'oal',\n",
    "    'cartridge_caliber', 'cartridge_volume', 'cartridge_diameter'\n",
    "    ]\n",
    "\n",
    "lee = pd.DataFrame(columns = new_columns)\n",
    "\n",
    "bul_weight = None\n",
    "bul_type = None\n",
    "for pos in range(0, data.shape[0]):\n",
    "    line = tuple(data.loc[pos, orig_columns].array)\n",
    "    # print(123, line) # DEBUG\n",
    "    if ' grain ' in line[0]: # this is a bullettype \"115 grain jacketed\"\n",
    "        bul_weight, bul_type = line[0].split(' grain ')\n",
    "    else:\n",
    "        line = (int(bul_weight), bul_type, *line)\n",
    "        lee.loc[len(lee.index)] = line\n",
    "print('lee.shape', lee.shape)"
   ]
  },
  {
   "cell_type": "code",
   "execution_count": null,
   "id": "noble-above",
   "metadata": {},
   "outputs": [],
   "source": [
    "def powder_id(x):\n",
    "    try:\n",
    "        return np.where(powder_rates.powder == x)[0][0]\n",
    "    except :\n",
    "        print (x)\n",
    "\n",
    "def bul_type_id(x):\n",
    "    return np.where(lee.bul_type.unique() == x)[0][0]\n"
   ]
  },
  {
   "cell_type": "code",
   "execution_count": null,
   "id": "juvenile-faith",
   "metadata": {},
   "outputs": [],
   "source": [
    "lee['powder_id'] = [ powder_id(x) for x in lee.powder ]\n",
    "lee['bul_type_id'] = [ bul_type_id(x) for x in lee.bul_type ]\n",
    "lee['powder_rate'] = list(powder_rates.rate[lee.powder_id])"
   ]
  },
  {
   "cell_type": "code",
   "execution_count": null,
   "id": "unlikely-interaction",
   "metadata": {},
   "outputs": [],
   "source": [
    "# print(lee)\n",
    "# lee.to_csv('lee.csv')\n",
    "# print(\"saved...\")\n",
    "\n",
    "if False:\n",
    "    for p in ['HP38', 'H110']:\n",
    "        arr = lee[lee.powder == p][['powder', 'powder_id', 'bul_type_id', 'powder_rate', 'cartridge_volume', 'cartridge_diameter']].to_numpy()\n",
    "        print(arr[0])\n",
    "\n",
    "    print(lee[lee.powder == 'H110'][['powder', 'powder_id', 'bul_type_id', 'powder_rate', 'cartridge_volume', 'cartridge_diameter']])\n",
    "    print('-------------')\n",
    "    print(lee[lee.powder == 'H110'])"
   ]
  },
  {
   "cell_type": "code",
   "execution_count": null,
   "id": "intellectual-joining",
   "metadata": {
    "scrolled": true
   },
   "outputs": [],
   "source": [
    "print(powder_rates[powder_rates.powder == 'HP38'].to_numpy())\n",
    "print(lee.bul_weight.unique())"
   ]
  },
  {
   "cell_type": "code",
   "execution_count": null,
   "id": "running-olive",
   "metadata": {},
   "outputs": [],
   "source": [
    "lee_clean = lee.dropna()\n",
    "print(lee_clean.shape)"
   ]
  },
  {
   "cell_type": "code",
   "execution_count": null,
   "id": "canadian-player",
   "metadata": {},
   "outputs": [],
   "source": [
    "msk = np.random.rand(len(lee_clean)) < 0.8\n",
    "train = lee_clean[msk]\n",
    "test = lee_clean[~msk]\n",
    "\n",
    "y_keys = ['s_load', 'ne_load']\n",
    "x_keys = ['powder_id', 'bul_weight', 'bul_type_id', 'powder_rate', 'cartridge_volume', 'cartridge_diameter' ]\n",
    "\n",
    "train_x = np.asanyarray(train[x_keys])\n",
    "train_y = np.asanyarray(train[y_keys])\n",
    "\n",
    "test_x = np.asanyarray(test[x_keys])\n",
    "test_y = np.asanyarray(test[y_keys])\n",
    "print('train_x', train_x.shape)\n",
    "\n",
    "poly = PolynomialFeatures(degree=2)\n",
    "train_x_poly = poly.fit_transform(train_x)\n",
    "print('train_x_poly', train_x_poly.shape)\n",
    "\n",
    "clf = linear_model.LinearRegression()\n",
    "train_y_ = clf.fit(train_x_poly, train_y)\n",
    "# The coefficients\n",
    "if False:\n",
    "    print ('Coefficients: ', clf.coef_)\n",
    "    print ('Intercept: ',clf.intercept_)\n",
    "\n",
    "test_x_poly = poly.fit_transform(test_x)\n",
    "test_y_ = clf.predict(test_x_poly)\n",
    "\n",
    "print('------------')\n",
    "print(\"Mean absolute error: %.2f\" % np.mean(np.absolute(test_y_ - test_y)))\n",
    "print(\"Residual sum of squares (MSE): %.2f\" % np.mean((test_y_ - test_y) ** 2))\n",
    "print(\"R2-score: %.2f\" % r2_score(test_y_ , test_y) )"
   ]
  },
  {
   "cell_type": "code",
   "execution_count": null,
   "id": "numerous-sacramento",
   "metadata": {},
   "outputs": [],
   "source": [
    "print(lee.bul_type.unique())\n",
    "print(lee.bul_weight.unique())\n",
    "\n",
    "print(cartridges.loc[:, ['title', 'volume', 'diameter']])"
   ]
  },
  {
   "cell_type": "code",
   "execution_count": null,
   "id": "racial-vector",
   "metadata": {},
   "outputs": [],
   "source": [
    "def compute_load(powder, weight, caliber):\n",
    "    pwd, rate = lee[lee.powder == powder][['powder_id', 'powder_rate']].to_numpy()[0]\n",
    "    print('powder id', pwd, 'rate', rate)\n",
    "    vol, diam = cartridges[cartridges.title == caliber][['volume', 'diameter']].to_numpy()[0]\n",
    "    print('volume', vol, 'diameter', diam)\n",
    "    \n",
    "    actual_x = np.array(\n",
    "        list([pwd, weight, x, rate, vol, diam]  for x in range(len(lee.bul_type.unique())))\n",
    "    )\n",
    "    print('X\\n', actual_x)\n",
    "    actual_x_poly = poly.fit_transform(actual_x)\n",
    "    actual_y_ = clf.predict(actual_x_poly)\n",
    "    print(lee.bul_type.unique())\n",
    "    print('Y\\n', actual_y_)"
   ]
  },
  {
   "cell_type": "code",
   "execution_count": null,
   "id": "imperial-sussex",
   "metadata": {},
   "outputs": [],
   "source": [
    "compute_load('H110', 125, '38 special')"
   ]
  },
  {
   "cell_type": "code",
   "execution_count": null,
   "id": "innovative-rates",
   "metadata": {},
   "outputs": [],
   "source": [
    "compute_load('ACCUR #2', 115, '9mm parabellum')"
   ]
  },
  {
   "cell_type": "code",
   "execution_count": null,
   "id": "atmospheric-commissioner",
   "metadata": {},
   "outputs": [],
   "source": [
    "compute_load('HP38', 125, '9mm parabellum')"
   ]
  },
  {
   "cell_type": "code",
   "execution_count": null,
   "id": "european-singing",
   "metadata": {},
   "outputs": [],
   "source": [
    "load_rate = lee[['s_load', 'ne_load']].copy()\n",
    "load_rate['rate'] = (load_rate.ne_load / load_rate.s_load)"
   ]
  },
  {
   "cell_type": "code",
   "execution_count": null,
   "id": "incorporated-stability",
   "metadata": {},
   "outputs": [],
   "source": [
    "load_rate.describe()"
   ]
  },
  {
   "cell_type": "code",
   "execution_count": null,
   "id": "interested-nothing",
   "metadata": {},
   "outputs": [],
   "source": [
    "lee.groupby('powder').bul_type.count()"
   ]
  },
  {
   "cell_type": "code",
   "execution_count": null,
   "id": "vocal-functionality",
   "metadata": {},
   "outputs": [],
   "source": [
    "lee.groupby('powder').count()"
   ]
  },
  {
   "cell_type": "code",
   "execution_count": null,
   "id": "contrary-width",
   "metadata": {},
   "outputs": [],
   "source": []
  }
 ],
 "metadata": {
  "kernelspec": {
   "display_name": "Python 3",
   "language": "python",
   "name": "python3"
  },
  "language_info": {
   "codemirror_mode": {
    "name": "ipython",
    "version": 3
   },
   "file_extension": ".py",
   "mimetype": "text/x-python",
   "name": "python",
   "nbconvert_exporter": "python",
   "pygments_lexer": "ipython3",
   "version": "3.8.7"
  }
 },
 "nbformat": 4,
 "nbformat_minor": 5
}

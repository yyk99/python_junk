{
 "cells": [
  {
   "cell_type": "code",
   "execution_count": null,
   "id": "union-sponsorship",
   "metadata": {},
   "outputs": [],
   "source": [
    "#\n",
    "#\n",
    "#\n",
    "\n",
    "import numpy as np\n",
    "import pandas as pd\n",
    "import matplotlib.pyplot as plt\n",
    "import os"
   ]
  },
  {
   "cell_type": "code",
   "execution_count": null,
   "id": "signal-swimming",
   "metadata": {},
   "outputs": [],
   "source": [
    "data = pd.read_csv('data/reloading_data - 9mm parabellum.csv')\n",
    "data.head()"
   ]
  },
  {
   "cell_type": "code",
   "execution_count": null,
   "id": "adopted-emission",
   "metadata": {},
   "outputs": [],
   "source": [
    "data.shape"
   ]
  },
  {
   "cell_type": "code",
   "execution_count": null,
   "id": "motivated-employee",
   "metadata": {},
   "outputs": [],
   "source": [
    "# add a \"bullet type\" column\n",
    "\n",
    "orig_columns =                           ['powder', 'start', 'velocity', 'never exceed', 'velocity max', 'press', 'units', 'min oal']\n",
    "new_columns  = ['bul_weight', 'bul_type', 'powder', 's_load', 's_velocity', 'ne_load', 'ne_velocity', 'press', 'units', 'oal']\n",
    "\n",
    "lee = pd.DataFrame(columns = new_columns)\n",
    "\n",
    "bul_weight = None\n",
    "bul_type = None\n",
    "for pos in range(0, data.shape[0]):\n",
    "    line = tuple(data.loc[pos, orig_columns].array)\n",
    "    # print(123, line) # DEBUG\n",
    "    if ' grain ' in line[0]: # this is a bullettype \"115 grain jacketed\"\n",
    "        bul_weight, bul_type = line[0].split(' grain ')\n",
    "    else:\n",
    "        line = (bul_weight, bul_type, *line)\n",
    "        lee.loc[len(lee.index)] = line\n"
   ]
  },
  {
   "cell_type": "code",
   "execution_count": null,
   "id": "typical-bearing",
   "metadata": {},
   "outputs": [],
   "source": [
    "lee"
   ]
  },
  {
   "cell_type": "code",
   "execution_count": null,
   "id": "judicial-witch",
   "metadata": {},
   "outputs": [],
   "source": [
    "lee.shape"
   ]
  },
  {
   "cell_type": "code",
   "execution_count": null,
   "id": "heated-hello",
   "metadata": {},
   "outputs": [],
   "source": [
    "powder_labels = lee.powder.unique()\n",
    "print(powder_labels)\n",
    "bul_types = lee.bul_type.unique()\n",
    "print(bul_types)"
   ]
  },
  {
   "cell_type": "code",
   "execution_count": null,
   "id": "noble-above",
   "metadata": {},
   "outputs": [],
   "source": [
    "def powder_id(x):\n",
    "    return np.where(lee.powder.unique() == x)[0][0]\n",
    "\n",
    "def bul_type_id(x):\n",
    "    return np.where(lee.bul_type.unique() == x)[0][0]"
   ]
  },
  {
   "cell_type": "code",
   "execution_count": null,
   "id": "juvenile-faith",
   "metadata": {},
   "outputs": [],
   "source": [
    "lee['powder_id'] = [ powder_id(x) for x in lee.powder ]\n",
    "lee['bul_type_id'] = [ bul_type_id(x) for x in lee.bul_type ]"
   ]
  },
  {
   "cell_type": "code",
   "execution_count": null,
   "id": "small-replica",
   "metadata": {},
   "outputs": [],
   "source": [
    "lee"
   ]
  },
  {
   "cell_type": "code",
   "execution_count": null,
   "id": "unlikely-interaction",
   "metadata": {},
   "outputs": [],
   "source": [
    "lee[lee.powder == 'HP38']"
   ]
  },
  {
   "cell_type": "code",
   "execution_count": null,
   "id": "integrated-landing",
   "metadata": {},
   "outputs": [],
   "source": [
    "lee_clean = lee.dropna()"
   ]
  },
  {
   "cell_type": "code",
   "execution_count": null,
   "id": "aerial-athens",
   "metadata": {},
   "outputs": [],
   "source": [
    "msk = np.random.rand(len(lee_clean)) < 0.8\n",
    "train = lee_clean[msk]\n",
    "test = lee_clean[~msk]\n",
    "\n",
    "train.describe()"
   ]
  },
  {
   "cell_type": "code",
   "execution_count": null,
   "id": "twenty-croatia",
   "metadata": {},
   "outputs": [],
   "source": [
    "from sklearn.preprocessing import PolynomialFeatures\n",
    "from sklearn import linear_model\n",
    "\n",
    "y_keys = ['s_load', 'ne_load']\n",
    "x_keys = ['powder_id', 'bul_type_id' ]\n",
    "\n",
    "train_x = np.asanyarray(train[x_keys])\n",
    "train_y = np.asanyarray(train[y_keys])\n",
    "\n",
    "test_x = np.asanyarray(test[x_keys])\n",
    "test_y = np.asanyarray(test[y_keys])\n",
    "print(train_x.shape)\n",
    "\n",
    "poly = PolynomialFeatures(degree=5)\n",
    "train_x_poly = poly.fit_transform(train_x)\n",
    "train_x_poly.shape"
   ]
  },
  {
   "cell_type": "code",
   "execution_count": null,
   "id": "republican-channels",
   "metadata": {},
   "outputs": [],
   "source": [
    "clf = linear_model.LinearRegression()\n",
    "train_y_ = clf.fit(train_x_poly, train_y)\n",
    "# The coefficients\n",
    "print ('Coefficients: ', clf.coef_)\n",
    "print ('Intercept: ',clf.intercept_)"
   ]
  },
  {
   "cell_type": "code",
   "execution_count": null,
   "id": "median-bacon",
   "metadata": {},
   "outputs": [],
   "source": [
    "from sklearn.metrics import r2_score\n",
    "\n",
    "test_x_poly = poly.fit_transform(test_x)\n",
    "test_y_ = clf.predict(test_x_poly)\n",
    "\n",
    "print(\"Mean absolute error: %.2f\" % np.mean(np.absolute(test_y_ - test_y)))\n",
    "print(\"Residual sum of squares (MSE): %.2f\" % np.mean((test_y_ - test_y) ** 2))\n",
    "print(\"R2-score: %.2f\" % r2_score(test_y_ , test_y) )"
   ]
  },
  {
   "cell_type": "code",
   "execution_count": null,
   "id": "coral-national",
   "metadata": {},
   "outputs": [],
   "source": [
    "test_y_"
   ]
  },
  {
   "cell_type": "code",
   "execution_count": null,
   "id": "elect-chemistry",
   "metadata": {},
   "outputs": [],
   "source": [
    "# Let's do actual calculations\n",
    "\n",
    "actual_x = np.array([[23, 0], [23, 1], [23, 2], [23, 3]])\n",
    "actual_x"
   ]
  },
  {
   "cell_type": "code",
   "execution_count": null,
   "id": "chicken-portland",
   "metadata": {},
   "outputs": [],
   "source": [
    "actual_x_poly = poly.fit_transform(actual_x)\n",
    "actual_y_ = clf.predict(actual_x_poly)"
   ]
  },
  {
   "cell_type": "code",
   "execution_count": null,
   "id": "internal-booking",
   "metadata": {},
   "outputs": [],
   "source": [
    "actual_y_"
   ]
  },
  {
   "cell_type": "code",
   "execution_count": null,
   "id": "agreed-fireplace",
   "metadata": {},
   "outputs": [],
   "source": [
    "lee.bul_type.unique()"
   ]
  },
  {
   "cell_type": "code",
   "execution_count": null,
   "id": "complete-playlist",
   "metadata": {},
   "outputs": [],
   "source": []
  }
 ],
 "metadata": {
  "kernelspec": {
   "display_name": "Python 3",
   "language": "python",
   "name": "python3"
  },
  "language_info": {
   "codemirror_mode": {
    "name": "ipython",
    "version": 3
   },
   "file_extension": ".py",
   "mimetype": "text/x-python",
   "name": "python",
   "nbconvert_exporter": "python",
   "pygments_lexer": "ipython3",
   "version": "3.8.7"
  }
 },
 "nbformat": 4,
 "nbformat_minor": 5
}

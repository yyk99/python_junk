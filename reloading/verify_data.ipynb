{
 "cells": [
  {
   "cell_type": "code",
   "execution_count": 1,
   "id": "honest-solomon",
   "metadata": {},
   "outputs": [],
   "source": [
    "#\n",
    "#\n",
    "#\n",
    "\n",
    "import numpy as np\n",
    "import pandas as pd\n",
    "import matplotlib.pyplot as plt\n",
    "import os"
   ]
  },
  {
   "cell_type": "code",
   "execution_count": 2,
   "id": "comfortable-austin",
   "metadata": {},
   "outputs": [
    {
     "name": "stdout",
     "output_type": "stream",
     "text": [
      "             title  volume  diameter\n",
      "0   9mm parabellum    0.74     0.356\n",
      "1       38 special    1.30     0.358\n",
      "2       357 magnum    1.36     0.358\n",
      "3  7.62x54 russian    3.47     0.310\n"
     ]
    }
   ],
   "source": [
    "# data/reloading_data - CATRIDGES.csv\n",
    "cartridges = pd.read_csv('data/reloading_data - CATRIDGES.csv')\n",
    "print(cartridges)"
   ]
  },
  {
   "cell_type": "code",
   "execution_count": 3,
   "id": "excessive-business",
   "metadata": {},
   "outputs": [
    {
     "name": "stdout",
     "output_type": "stream",
     "text": [
      "['9mm parabellum', '38 special', '357 magnum', '7.62x54 russian']\n"
     ]
    }
   ],
   "source": [
    "cartridges_to_process = cartridges.title.to_list()\n",
    "print(cartridges_to_process)"
   ]
  },
  {
   "cell_type": "code",
   "execution_count": 4,
   "id": "integrated-blackberry",
   "metadata": {},
   "outputs": [
    {
     "name": "stdout",
     "output_type": "stream",
     "text": [
      "               powder  start  volume cc  auto disk  lee dipper  velocity  \\\n",
      "0  115 grain jacketed    NaN        NaN        NaN         NaN       NaN   \n",
      "1              v-N350    5.4       0.53       0.53         0.5    1129.0   \n",
      "2              v-3N37    5.6       0.51       0.49         0.5    1129.0   \n",
      "3              v-N330    4.5       0.49        NaN         NaN    1076.0   \n",
      "4              v-N340    4.8       0.51        NaN         NaN    1129.0   \n",
      "\n",
      "   never exceed  velocity max  press units  min oal     mm  Unnamed: 12  \n",
      "0           NaN           NaN    NaN   NaN      NaN    NaN          NaN  \n",
      "1           6.5        1293.0    NaN   NaN    1.142  29.01          NaN  \n",
      "2           6.5        1289.0    NaN   NaN    1.142  29.01          NaN  \n",
      "3           5.4        1227.0    NaN   NaN    1.142  29.01          NaN  \n",
      "4           5.4        1220.0    NaN   NaN    1.142  29.01          NaN  \n"
     ]
    }
   ],
   "source": [
    "data = None\n",
    "for c in cartridges_to_process:\n",
    "    filename = f'data/reloading_data - %s.csv' % c\n",
    "    if not os.path.exists(filename):\n",
    "        continue\n",
    "    d = pd.read_csv(filename)\n",
    "    if data is None:\n",
    "        data = d\n",
    "    else:\n",
    "        data = pd.concat([data, d])\n",
    "print(data.head())"
   ]
  },
  {
   "cell_type": "code",
   "execution_count": null,
   "id": "independent-jersey",
   "metadata": {},
   "outputs": [],
   "source": [
    "d"
   ]
  },
  {
   "cell_type": "code",
   "execution_count": null,
   "id": "eleven-assumption",
   "metadata": {},
   "outputs": [],
   "source": [
    "data"
   ]
  },
  {
   "cell_type": "code",
   "execution_count": null,
   "id": "removed-steal",
   "metadata": {},
   "outputs": [],
   "source": [
    "[ [10, 20] ] * 5"
   ]
  },
  {
   "cell_type": "code",
   "execution_count": 5,
   "id": "peripheral-volleyball",
   "metadata": {},
   "outputs": [],
   "source": [
    "s_title = cartridges.title"
   ]
  },
  {
   "cell_type": "code",
   "execution_count": 6,
   "id": "bizarre-strand",
   "metadata": {},
   "outputs": [
    {
     "data": {
      "text/plain": [
       "0     9mm parabellum\n",
       "1         38 special\n",
       "2         357 magnum\n",
       "3    7.62x54 russian\n",
       "Name: title, dtype: object"
      ]
     },
     "execution_count": 6,
     "metadata": {},
     "output_type": "execute_result"
    }
   ],
   "source": [
    "s_title"
   ]
  },
  {
   "cell_type": "code",
   "execution_count": 7,
   "id": "affiliated-ideal",
   "metadata": {},
   "outputs": [
    {
     "data": {
      "text/plain": [
       "pandas.core.series.Series"
      ]
     },
     "execution_count": 7,
     "metadata": {},
     "output_type": "execute_result"
    }
   ],
   "source": [
    "type(s_title)"
   ]
  },
  {
   "cell_type": "code",
   "execution_count": 9,
   "id": "comparable-commons",
   "metadata": {},
   "outputs": [
    {
     "name": "stdout",
     "output_type": "stream",
     "text": [
      "(0, '9mm parabellum')\n",
      "(1, '38 special')\n",
      "(2, '357 magnum')\n",
      "(3, '7.62x54 russian')\n"
     ]
    }
   ],
   "source": [
    "for item in s_title.iteritems():\n",
    "    print(item)"
   ]
  },
  {
   "cell_type": "code",
   "execution_count": 12,
   "id": "elementary-japan",
   "metadata": {},
   "outputs": [
    {
     "name": "stdout",
     "output_type": "stream",
     "text": [
      "<class 'str'> <class 'pandas.core.series.Series'>\n",
      "<class 'str'> <class 'pandas.core.series.Series'>\n",
      "<class 'str'> <class 'pandas.core.series.Series'>\n"
     ]
    }
   ],
   "source": [
    "for item in cartridges.iteritems():\n",
    "    print(type(item[0]), type(item[1]))"
   ]
  },
  {
   "cell_type": "code",
   "execution_count": null,
   "id": "infrared-thinking",
   "metadata": {},
   "outputs": [],
   "source": []
  }
 ],
 "metadata": {
  "kernelspec": {
   "display_name": "Python 3",
   "language": "python",
   "name": "python3"
  },
  "language_info": {
   "codemirror_mode": {
    "name": "ipython",
    "version": 3
   },
   "file_extension": ".py",
   "mimetype": "text/x-python",
   "name": "python",
   "nbconvert_exporter": "python",
   "pygments_lexer": "ipython3",
   "version": "3.8.7"
  }
 },
 "nbformat": 4,
 "nbformat_minor": 5
}

{
 "cells": [
  {
   "cell_type": "code",
   "execution_count": 1,
   "id": "honest-solomon",
   "metadata": {},
   "outputs": [],
   "source": [
    "#\n",
    "#\n",
    "#\n",
    "\n",
    "import numpy as np\n",
    "import pandas as pd\n",
    "import matplotlib.pyplot as plt\n",
    "import os\n",
    "\n",
    "def get_url(s):\n",
    "    base_url = f'https://docs.google.com/spreadsheets/d/1pJ-jeDmVb69yCgUbi0DsRT-HW8jfJlZBh6ehyelOaOw/export?gid=%d&format=csv'\n",
    "\n",
    "    if s == 'data/reloading_data - powder burning rate chart.csv':\n",
    "        return base_url % 0\n",
    "    if s == 'data/reloading_data - CATRIDGES.csv':\n",
    "        return base_url % 1775574147\n",
    "    if s == 'data/reloading_data - 9mm parabellum.csv':\n",
    "        return base_url % 1119510158\n",
    "    if s == 'data/reloading_data - 38 special.csv':\n",
    "        return base_url % 1030409937\n",
    "    if s =='data/reloading_data - 357 magnum.csv':\n",
    "        return base_url % 847084052\n",
    "    raise Exception(\"Unknown filename: \" + s)"
   ]
  },
  {
   "cell_type": "code",
   "execution_count": 10,
   "id": "comfortable-austin",
   "metadata": {},
   "outputs": [
    {
     "name": "stdout",
     "output_type": "stream",
     "text": [
      "             title  volume  diameter\n",
      "0   9mm parabellum    0.74     0.356\n",
      "1       38 special    1.30     0.358\n",
      "2       357 magnum    1.36     0.358\n",
      "3  7.62x54 russian    3.47     0.310\n",
      "[['9mm parabellum' 0.74 0.356]\n",
      " ['38 special' 1.3 0.358]\n",
      " ['357 magnum' 1.36 0.358]\n",
      " ['7.62x54 russian' 3.47 0.31]]\n",
      "        powder  rate note\n",
      "0   A NITRO100     1  NaN\n",
      "1       v-N310     1  NaN\n",
      "2     VEC BA10     2  NaN\n",
      "3     ALLNT E3     2  NaN\n",
      "4  WIN AA LITE     2  NaN\n"
     ]
    }
   ],
   "source": [
    "# data/reloading_data - CATRIDGES.csv\n",
    "cartridges = pd.read_csv(get_url('data/reloading_data - CATRIDGES.csv'))\n",
    "print(cartridges)\n",
    "\n",
    "cartridges_to_process = cartridges.loc[:, ['title', 'volume', 'diameter']].to_numpy()\n",
    "print(cartridges_to_process)\n",
    "\n",
    "# reloading_data - powder burning rate chart\n",
    "powder_rates = pd.read_csv(get_url('data/reloading_data - powder burning rate chart.csv'))\n",
    "print(powder_rates.head())"
   ]
  },
  {
   "cell_type": "code",
   "execution_count": 14,
   "id": "integrated-blackberry",
   "metadata": {},
   "outputs": [
    {
     "name": "stdout",
     "output_type": "stream",
     "text": [
      "ERROR: Cannot process: data/reloading_data - 7.62x54 russian.csv\n",
      "data.shape (216, 16)\n"
     ]
    }
   ],
   "source": [
    "def process_data_file(c, v, a):\n",
    "    filename = f'data/reloading_data - %s.csv' % c\n",
    "    try:\n",
    "        d = pd.read_csv(get_url(filename))\n",
    "        d['cartridge_caliber'] = c\n",
    "        d['cartridge_volume'] = v\n",
    "        d['cartridge_diameter'] = a\n",
    "        return d\n",
    "    except:\n",
    "        print(\"ERROR: Cannot process:\", filename)\n",
    "        return None\n",
    "\n",
    "frames = [ process_data_file(c, v, a) for c, v, a in cartridges_to_process ]\n",
    "data = pd.concat(frames, ignore_index=True)\n",
    "\n",
    "# print(data.head())  # DEBUG\n",
    "print('data.shape', data.shape)"
   ]
  },
  {
   "cell_type": "code",
   "execution_count": 13,
   "id": "tropical-tsunami",
   "metadata": {},
   "outputs": [
    {
     "data": {
      "text/html": [
       "<div>\n",
       "<style scoped>\n",
       "    .dataframe tbody tr th:only-of-type {\n",
       "        vertical-align: middle;\n",
       "    }\n",
       "\n",
       "    .dataframe tbody tr th {\n",
       "        vertical-align: top;\n",
       "    }\n",
       "\n",
       "    .dataframe thead th {\n",
       "        text-align: right;\n",
       "    }\n",
       "</style>\n",
       "<table border=\"1\" class=\"dataframe\">\n",
       "  <thead>\n",
       "    <tr style=\"text-align: right;\">\n",
       "      <th></th>\n",
       "      <th>powder</th>\n",
       "      <th>start</th>\n",
       "      <th>volume cc</th>\n",
       "      <th>auto disk</th>\n",
       "      <th>lee dipper</th>\n",
       "      <th>velocity</th>\n",
       "      <th>never exceed</th>\n",
       "      <th>velocity max</th>\n",
       "      <th>press</th>\n",
       "      <th>units</th>\n",
       "      <th>min oal</th>\n",
       "      <th>mm</th>\n",
       "      <th>press_psi</th>\n",
       "      <th>cartridge_caliber</th>\n",
       "      <th>cartridge_volume</th>\n",
       "      <th>cartridge_diameter</th>\n",
       "    </tr>\n",
       "  </thead>\n",
       "  <tbody>\n",
       "    <tr>\n",
       "      <th>33</th>\n",
       "      <td>UNIVERSAL</td>\n",
       "      <td>4.0</td>\n",
       "      <td>NaN</td>\n",
       "      <td>NaN</td>\n",
       "      <td>NaN</td>\n",
       "      <td>1034.0</td>\n",
       "      <td>4.5</td>\n",
       "      <td>1124.0</td>\n",
       "      <td>31300.0</td>\n",
       "      <td>CUP</td>\n",
       "      <td>1.1</td>\n",
       "      <td>27.94</td>\n",
       "      <td>29361.0</td>\n",
       "      <td>9mm parabellum</td>\n",
       "      <td>0.74</td>\n",
       "      <td>0.356</td>\n",
       "    </tr>\n",
       "    <tr>\n",
       "      <th>39</th>\n",
       "      <td>CLAYS</td>\n",
       "      <td>3.0</td>\n",
       "      <td>NaN</td>\n",
       "      <td>NaN</td>\n",
       "      <td>NaN</td>\n",
       "      <td>954.0</td>\n",
       "      <td>3.4</td>\n",
       "      <td>1039.0</td>\n",
       "      <td>31000.0</td>\n",
       "      <td>CUP</td>\n",
       "      <td>1.1</td>\n",
       "      <td>27.94</td>\n",
       "      <td>28908.0</td>\n",
       "      <td>9mm parabellum</td>\n",
       "      <td>0.74</td>\n",
       "      <td>0.356</td>\n",
       "    </tr>\n",
       "  </tbody>\n",
       "</table>\n",
       "</div>"
      ],
      "text/plain": [
       "       powder  start  volume cc  auto disk  lee dipper  velocity  \\\n",
       "33  UNIVERSAL    4.0        NaN        NaN         NaN    1034.0   \n",
       "39      CLAYS    3.0        NaN        NaN         NaN     954.0   \n",
       "\n",
       "    never exceed  velocity max    press units  min oal     mm  press_psi  \\\n",
       "33           4.5        1124.0  31300.0   CUP      1.1  27.94    29361.0   \n",
       "39           3.4        1039.0  31000.0   CUP      1.1  27.94    28908.0   \n",
       "\n",
       "   cartridge_caliber  cartridge_volume  cartridge_diameter  \n",
       "33    9mm parabellum              0.74               0.356  \n",
       "39    9mm parabellum              0.74               0.356  "
      ]
     },
     "execution_count": 13,
     "metadata": {},
     "output_type": "execute_result"
    }
   ],
   "source": [
    "data[~ np.isnan(data.press_psi)]"
   ]
  },
  {
   "cell_type": "code",
   "execution_count": null,
   "id": "opening-diagnosis",
   "metadata": {},
   "outputs": [],
   "source": []
  }
 ],
 "metadata": {
  "kernelspec": {
   "display_name": "Python 3",
   "language": "python",
   "name": "python3"
  },
  "language_info": {
   "codemirror_mode": {
    "name": "ipython",
    "version": 3
   },
   "file_extension": ".py",
   "mimetype": "text/x-python",
   "name": "python",
   "nbconvert_exporter": "python",
   "pygments_lexer": "ipython3",
   "version": "3.8.7"
  }
 },
 "nbformat": 4,
 "nbformat_minor": 5
}

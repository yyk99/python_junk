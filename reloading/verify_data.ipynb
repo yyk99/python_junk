{
 "cells": [
  {
   "cell_type": "code",
   "execution_count": null,
   "id": "honest-solomon",
   "metadata": {},
   "outputs": [],
   "source": [
    "#\n",
    "#\n",
    "#\n",
    "\n",
    "import numpy as np\n",
    "import pandas as pd\n",
    "import matplotlib.pyplot as plt\n",
    "import os\n",
    "\n",
    "from reloading_utils import get_url"
   ]
  },
  {
   "cell_type": "code",
   "execution_count": null,
   "id": "comfortable-austin",
   "metadata": {},
   "outputs": [],
   "source": [
    "# data/reloading_data - CATRIDGES.csv\n",
    "cartridges = pd.read_csv(get_url('data/reloading_data - CATRIDGES.csv'))\n",
    "print(cartridges)\n",
    "\n",
    "cartridges_to_process = cartridges.loc[:, ['title', 'volume', 'diameter']].to_numpy()\n",
    "print(cartridges_to_process)\n",
    "\n",
    "# reloading_data - powder burning rate chart\n",
    "powder_rates = pd.read_csv(get_url('data/reloading_data - powder burning rate chart.csv'))\n",
    "print(powder_rates.head())"
   ]
  },
  {
   "cell_type": "code",
   "execution_count": null,
   "id": "integrated-blackberry",
   "metadata": {},
   "outputs": [],
   "source": [
    "def process_data_file(c, v, a):\n",
    "    filename = f'data/reloading_data - %s.csv' % c\n",
    "    try:\n",
    "        d = pd.read_csv(get_url(filename))\n",
    "        d['cartridge_caliber'] = c\n",
    "        #d['cartridge_volume'] = v\n",
    "        #d['cartridge_diameter'] = a\n",
    "        return d\n",
    "    except:\n",
    "        print(\"ERROR: Cannot process:\", filename)\n",
    "        return None\n",
    "\n",
    "frames = [ process_data_file(c, v, a) for c, v, a in cartridges_to_process ]\n",
    "data = pd.concat(frames, ignore_index=True)\n",
    "\n",
    "# print(data.head())  # DEBUG\n",
    "print('data.shape', data.shape)"
   ]
  },
  {
   "cell_type": "code",
   "execution_count": null,
   "id": "selective-discipline",
   "metadata": {},
   "outputs": [],
   "source": [
    "data[~ np.isnan(data.press_psi)]"
   ]
  },
  {
   "cell_type": "code",
   "execution_count": null,
   "id": "active-olympus",
   "metadata": {},
   "outputs": [],
   "source": [
    "lee = pd.DataFrame(columns=['bul_weight', 'bul_type', *data.columns.to_list()])\n",
    "# print(101, lee.columns) #DEBUG\n",
    "\n",
    "bul_weight = None\n",
    "bul_type = None\n",
    "for pos in range(0, data.shape[0]):\n",
    "    line = data.loc[pos].to_numpy()\n",
    "    # print(123, line) # DEBUG\n",
    "    if ' grain ' in line[0]: # this is a bullettype \"115 grain jacketed\"\n",
    "        bul_weight, bul_type = line[0].split(' grain ')\n",
    "    else:\n",
    "        line = (int(bul_weight), bul_type, *line)\n",
    "        lee.loc[len(lee.index)] = line\n",
    "print('lee.shape', lee.shape)"
   ]
  },
  {
   "cell_type": "code",
   "execution_count": null,
   "id": "anticipated-jackson",
   "metadata": {},
   "outputs": [],
   "source": [
    "lee"
   ]
  },
  {
   "cell_type": "code",
   "execution_count": null,
   "id": "fabulous-yahoo",
   "metadata": {},
   "outputs": [],
   "source": [
    "lee = pd.merge(lee, cartridges, left_on='cartridge_caliber', right_on='title')"
   ]
  },
  {
   "cell_type": "code",
   "execution_count": null,
   "id": "annoying-midnight",
   "metadata": {},
   "outputs": [],
   "source": [
    "lee.head()"
   ]
  },
  {
   "cell_type": "code",
   "execution_count": null,
   "id": "dominican-species",
   "metadata": {},
   "outputs": [],
   "source": [
    "lee.shape"
   ]
  },
  {
   "cell_type": "code",
   "execution_count": null,
   "id": "south-blank",
   "metadata": {},
   "outputs": [],
   "source": [
    "#\n",
    "# CHECK VALIDITY EXAMPLE\n",
    "#\n",
    "powders = pd.DataFrame({\"key\": [\"#1\", \"#2\", \"#3\", \"#4\", '#5'], \"value\": [10, 20, 30, 40, 50]})\n",
    "print(powders)"
   ]
  },
  {
   "cell_type": "code",
   "execution_count": null,
   "id": "mysterious-primary",
   "metadata": {},
   "outputs": [],
   "source": [
    "data = pd.DataFrame({\"powder\": [\"#1\", \"#2\", \"#3\", \"#4\", '#xz'], \"load_min\": [10, 20, 30, 40, 22 ], 'load_max': [20, 25, 35, 45, 42]})\n",
    "print(data)"
   ]
  },
  {
   "cell_type": "code",
   "execution_count": null,
   "id": "naughty-incident",
   "metadata": {},
   "outputs": [],
   "source": [
    "# INNER JOIN\n",
    "# SELECT *\n",
    "# FROM df1\n",
    "# INNER JOIN df2\n",
    "#   ON df1.key = df2.key;\n",
    "\n",
    "pd.merge(powders, data, left_on='key', right_on='powder')"
   ]
  },
  {
   "cell_type": "code",
   "execution_count": null,
   "id": "psychological-abuse",
   "metadata": {},
   "outputs": [],
   "source": [
    "# LEFT OUTER JOIN\n",
    "# Show all records from df1.\n",
    "\n",
    "# SELECT *\n",
    "# FROM df1\n",
    "# LEFT OUTER JOIN df2\n",
    "#  ON df1.key = df2.key;\n",
    "# pd.merge(df1, df2, on=\"key\", how=\"left\")\n",
    "\n",
    "left_outer_join = pd.merge(powders, data, left_on='key', right_on='powder', how=\"left\")[['key', 'powder']]\n",
    "print(left_outer_join)\n",
    "\n",
    "print(left_outer_join[['key', 'powder']])\n",
    "\n",
    "# WHERE\n",
    "# Filtering in SQL is done via a WHERE clause.\n",
    "\n",
    "# SELECT *\n",
    "# FROM tips\n",
    "# WHERE time = 'Dinner';\n",
    "\n",
    "# tips[tips[\"total_bill\"] > 10]\n",
    "\n",
    "print(left_outer_join[pd.isna(left_outer_join.powder)])\n",
    "\n",
    "print('# for loop...')\n",
    "for i in left_outer_join[pd.isna(left_outer_join.powder)][['key']].to_numpy():\n",
    "    powder_key = i[0]\n",
    "    print(\"Never used in data:\", powder_key)\n"
   ]
  },
  {
   "cell_type": "code",
   "execution_count": null,
   "id": "partial-alert",
   "metadata": {},
   "outputs": [],
   "source": [
    "# RIGHT JOIN\n",
    "# Show all records from df2.\n",
    "\n",
    "# SELECT *\n",
    "# FROM df1\n",
    "# RIGHT OUTER JOIN df2\n",
    "#   ON df1.key = df2.key;\n",
    "\n",
    "right_join = pd.merge(powders, data, left_on='key', right_on='powder', how=\"right\")\n",
    "print(right_join)"
   ]
  },
  {
   "cell_type": "code",
   "execution_count": null,
   "id": "fourth-palestinian",
   "metadata": {},
   "outputs": [],
   "source": [
    "# WHERE\n",
    "# Filtering in SQL is done via a WHERE clause.\n",
    "\n",
    "# SELECT *\n",
    "# FROM tips\n",
    "# WHERE time = 'Dinner';\n",
    "\n",
    "# tips[tips[\"total_bill\"] > 10]\n",
    "\n"
   ]
  },
  {
   "cell_type": "code",
   "execution_count": null,
   "id": "cognitive-basement",
   "metadata": {},
   "outputs": [],
   "source": [
    "# Show all powders never used in data tables\n",
    "\n",
    "print(lee.head())\n",
    "print(powder_rates.columns.to_list())\n",
    "print(lee.columns.to_list())"
   ]
  },
  {
   "cell_type": "code",
   "execution_count": null,
   "id": "consolidated-louisville",
   "metadata": {},
   "outputs": [],
   "source": [
    "left_outer_join = pd.merge(powder_rates, lee, on='powder', how=\"left\")[['powder', 'bul_weight']]\n",
    "print(left_outer_join[left_outer_join.powder == 'CLAYS'])"
   ]
  },
  {
   "cell_type": "code",
   "execution_count": null,
   "id": "further-reverse",
   "metadata": {},
   "outputs": [],
   "source": [
    "for i in left_outer_join[pd.isna(left_outer_join.bul_weight)].to_numpy():\n",
    "    powder_key = i[0]\n",
    "    print(\"Never used in data:\", powder_key)"
   ]
  },
  {
   "cell_type": "code",
   "execution_count": null,
   "id": "explicit-diana",
   "metadata": {},
   "outputs": [],
   "source": [
    "print(left_outer_join[pd.isna(left_outer_join.bul_weight)])"
   ]
  },
  {
   "cell_type": "code",
   "execution_count": null,
   "id": "native-innocent",
   "metadata": {},
   "outputs": [],
   "source": [
    "# RIGHT JOIN\n",
    "# Show all records from df2.\n",
    "\n",
    "# SELECT *\n",
    "# FROM df1\n",
    "# RIGHT OUTER JOIN df2\n",
    "#   ON df1.key = df2.key;\n",
    "\n",
    "right_join = pd.merge(powder_rates, lee, on='powder', how=\"right\")[['powder', 'rate']]\n",
    "print(right_join)\n",
    "\n",
    "right_join[pd.isna(right_join.rate)]"
   ]
  },
  {
   "cell_type": "code",
   "execution_count": 1,
   "id": "impressed-bermuda",
   "metadata": {},
   "outputs": [],
   "source": [
    "#\n",
    "#\n",
    "#\n",
    "\n",
    "import numpy as np\n",
    "import pandas as pd\n",
    "import matplotlib.pyplot as plt\n",
    "import os\n",
    "import itertools\n",
    "\n",
    "from reloading_utils import get_url"
   ]
  },
  {
   "cell_type": "code",
   "execution_count": 2,
   "id": "perfect-brooks",
   "metadata": {},
   "outputs": [],
   "source": [
    "lee = pd.read_csv('lee.csv', index_col=0)"
   ]
  },
  {
   "cell_type": "code",
   "execution_count": 3,
   "id": "seasonal-mumbai",
   "metadata": {},
   "outputs": [
    {
     "data": {
      "text/html": [
       "<div>\n",
       "<style scoped>\n",
       "    .dataframe tbody tr th:only-of-type {\n",
       "        vertical-align: middle;\n",
       "    }\n",
       "\n",
       "    .dataframe tbody tr th {\n",
       "        vertical-align: top;\n",
       "    }\n",
       "\n",
       "    .dataframe thead th {\n",
       "        text-align: right;\n",
       "    }\n",
       "</style>\n",
       "<table border=\"1\" class=\"dataframe\">\n",
       "  <thead>\n",
       "    <tr style=\"text-align: right;\">\n",
       "      <th></th>\n",
       "      <th>bul_weight</th>\n",
       "      <th>bul_type</th>\n",
       "      <th>powder</th>\n",
       "      <th>s_load</th>\n",
       "      <th>s_velocity</th>\n",
       "      <th>ne_load</th>\n",
       "      <th>ne_velocity</th>\n",
       "      <th>press</th>\n",
       "      <th>units</th>\n",
       "      <th>oal</th>\n",
       "      <th>cartridge_caliber</th>\n",
       "      <th>cartridge_volume</th>\n",
       "      <th>cartridge_diameter</th>\n",
       "      <th>powder_id</th>\n",
       "      <th>bul_type_id</th>\n",
       "      <th>powder_rate</th>\n",
       "    </tr>\n",
       "  </thead>\n",
       "  <tbody>\n",
       "    <tr>\n",
       "      <th>0</th>\n",
       "      <td>115</td>\n",
       "      <td>jacketed</td>\n",
       "      <td>v-N350</td>\n",
       "      <td>5.4</td>\n",
       "      <td>1129.0</td>\n",
       "      <td>6.5</td>\n",
       "      <td>1293.0</td>\n",
       "      <td>NaN</td>\n",
       "      <td>NaN</td>\n",
       "      <td>1.142</td>\n",
       "      <td>9mm parabellum</td>\n",
       "      <td>0.74</td>\n",
       "      <td>0.356</td>\n",
       "      <td>58</td>\n",
       "      <td>0</td>\n",
       "      <td>20</td>\n",
       "    </tr>\n",
       "    <tr>\n",
       "      <th>1</th>\n",
       "      <td>115</td>\n",
       "      <td>jacketed</td>\n",
       "      <td>v-3N37</td>\n",
       "      <td>5.6</td>\n",
       "      <td>1129.0</td>\n",
       "      <td>6.5</td>\n",
       "      <td>1289.0</td>\n",
       "      <td>NaN</td>\n",
       "      <td>NaN</td>\n",
       "      <td>1.142</td>\n",
       "      <td>9mm parabellum</td>\n",
       "      <td>0.74</td>\n",
       "      <td>0.356</td>\n",
       "      <td>54</td>\n",
       "      <td>0</td>\n",
       "      <td>19</td>\n",
       "    </tr>\n",
       "    <tr>\n",
       "      <th>2</th>\n",
       "      <td>115</td>\n",
       "      <td>jacketed</td>\n",
       "      <td>v-N330</td>\n",
       "      <td>4.5</td>\n",
       "      <td>1076.0</td>\n",
       "      <td>5.4</td>\n",
       "      <td>1227.0</td>\n",
       "      <td>NaN</td>\n",
       "      <td>NaN</td>\n",
       "      <td>1.142</td>\n",
       "      <td>9mm parabellum</td>\n",
       "      <td>0.74</td>\n",
       "      <td>0.356</td>\n",
       "      <td>40</td>\n",
       "      <td>0</td>\n",
       "      <td>15</td>\n",
       "    </tr>\n",
       "    <tr>\n",
       "      <th>3</th>\n",
       "      <td>115</td>\n",
       "      <td>jacketed</td>\n",
       "      <td>v-N340</td>\n",
       "      <td>4.8</td>\n",
       "      <td>1129.0</td>\n",
       "      <td>5.4</td>\n",
       "      <td>1220.0</td>\n",
       "      <td>NaN</td>\n",
       "      <td>NaN</td>\n",
       "      <td>1.142</td>\n",
       "      <td>9mm parabellum</td>\n",
       "      <td>0.74</td>\n",
       "      <td>0.356</td>\n",
       "      <td>46</td>\n",
       "      <td>0</td>\n",
       "      <td>18</td>\n",
       "    </tr>\n",
       "    <tr>\n",
       "      <th>4</th>\n",
       "      <td>115</td>\n",
       "      <td>jacketed</td>\n",
       "      <td>wSUPER-FLD</td>\n",
       "      <td>4.9</td>\n",
       "      <td>1060.0</td>\n",
       "      <td>5.7</td>\n",
       "      <td>1195.0</td>\n",
       "      <td>31900.0</td>\n",
       "      <td>PSI</td>\n",
       "      <td>1.169</td>\n",
       "      <td>9mm parabellum</td>\n",
       "      <td>0.74</td>\n",
       "      <td>0.356</td>\n",
       "      <td>55</td>\n",
       "      <td>0</td>\n",
       "      <td>19</td>\n",
       "    </tr>\n",
       "  </tbody>\n",
       "</table>\n",
       "</div>"
      ],
      "text/plain": [
       "   bul_weight  bul_type      powder  s_load  s_velocity  ne_load  ne_velocity  \\\n",
       "0         115  jacketed      v-N350     5.4      1129.0      6.5       1293.0   \n",
       "1         115  jacketed      v-3N37     5.6      1129.0      6.5       1289.0   \n",
       "2         115  jacketed      v-N330     4.5      1076.0      5.4       1227.0   \n",
       "3         115  jacketed      v-N340     4.8      1129.0      5.4       1220.0   \n",
       "4         115  jacketed  wSUPER-FLD     4.9      1060.0      5.7       1195.0   \n",
       "\n",
       "     press units    oal cartridge_caliber  cartridge_volume  \\\n",
       "0      NaN   NaN  1.142    9mm parabellum              0.74   \n",
       "1      NaN   NaN  1.142    9mm parabellum              0.74   \n",
       "2      NaN   NaN  1.142    9mm parabellum              0.74   \n",
       "3      NaN   NaN  1.142    9mm parabellum              0.74   \n",
       "4  31900.0   PSI  1.169    9mm parabellum              0.74   \n",
       "\n",
       "   cartridge_diameter  powder_id  bul_type_id  powder_rate  \n",
       "0               0.356         58            0           20  \n",
       "1               0.356         54            0           19  \n",
       "2               0.356         40            0           15  \n",
       "3               0.356         46            0           18  \n",
       "4               0.356         55            0           19  "
      ]
     },
     "execution_count": 3,
     "metadata": {},
     "output_type": "execute_result"
    }
   ],
   "source": [
    "lee.head()"
   ]
  },
  {
   "cell_type": "code",
   "execution_count": 4,
   "id": "obvious-prospect",
   "metadata": {},
   "outputs": [
    {
     "data": {
      "text/html": [
       "<div>\n",
       "<style scoped>\n",
       "    .dataframe tbody tr th:only-of-type {\n",
       "        vertical-align: middle;\n",
       "    }\n",
       "\n",
       "    .dataframe tbody tr th {\n",
       "        vertical-align: top;\n",
       "    }\n",
       "\n",
       "    .dataframe thead th {\n",
       "        text-align: right;\n",
       "    }\n",
       "</style>\n",
       "<table border=\"1\" class=\"dataframe\">\n",
       "  <thead>\n",
       "    <tr style=\"text-align: right;\">\n",
       "      <th></th>\n",
       "      <th>s_load</th>\n",
       "    </tr>\n",
       "  </thead>\n",
       "  <tbody>\n",
       "    <tr>\n",
       "      <th>3</th>\n",
       "      <td>4.8</td>\n",
       "    </tr>\n",
       "    <tr>\n",
       "      <th>41</th>\n",
       "      <td>5.0</td>\n",
       "    </tr>\n",
       "    <tr>\n",
       "      <th>54</th>\n",
       "      <td>5.2</td>\n",
       "    </tr>\n",
       "  </tbody>\n",
       "</table>\n",
       "</div>"
      ],
      "text/plain": [
       "    s_load\n",
       "3      4.8\n",
       "41     5.0\n",
       "54     5.2"
      ]
     },
     "execution_count": 4,
     "metadata": {},
     "output_type": "execute_result"
    }
   ],
   "source": [
    "lee[(lee.bul_weight == 115) & (lee.powder == 'v-N340') ][['s_load']]"
   ]
  },
  {
   "cell_type": "code",
   "execution_count": 5,
   "id": "formal-crowd",
   "metadata": {},
   "outputs": [],
   "source": [
    "def s_load(bul_weight, bul_type, powder):\n",
    "    d = lee[(lee.bul_weight == bul_weight) & (lee.bul_type == bul_type) & (lee.powder == powder)][['s_load']]\n",
    "    arr = d.to_numpy()\n",
    "    return arr[0][0]\n"
   ]
  },
  {
   "cell_type": "code",
   "execution_count": 6,
   "id": "optional-ivory",
   "metadata": {},
   "outputs": [
    {
     "name": "stdout",
     "output_type": "stream",
     "text": [
      "4.8\n"
     ]
    }
   ],
   "source": [
    "print(s_load(115, 'jacketed', 'v-N340'))"
   ]
  },
  {
   "cell_type": "code",
   "execution_count": 28,
   "id": "subtle-invention",
   "metadata": {},
   "outputs": [],
   "source": [
    "grp = lee[lee.bul_type == 'XTP'].groupby(['bul_weight', 'bul_type'])"
   ]
  },
  {
   "cell_type": "code",
   "execution_count": 29,
   "id": "studied-shade",
   "metadata": {},
   "outputs": [
    {
     "name": "stdout",
     "output_type": "stream",
     "text": [
      "(110, 'XTP') 26\n",
      "(115, 'XTP') 24\n",
      "(125, 'XTP') 50\n"
     ]
    }
   ],
   "source": [
    "for g in grp:\n",
    "    print(g[0], len(g[1]))"
   ]
  },
  {
   "cell_type": "code",
   "execution_count": 30,
   "id": "allied-swift",
   "metadata": {},
   "outputs": [],
   "source": [
    "powder_fractions = pd.DataFrame(columns = ['bul_weight', 'bul_type', 'powder1', 's_load1', 'powder2', 's_load2', 'fraction'])\n",
    "for g in list(grp)[:5]:\n",
    "    bul_weight, bul_type = g[0]\n",
    "    # print(bul_weight, bul_type)\n",
    "    gg = g[1]\n",
    "    powders = gg['powder'].to_list()\n",
    "    powder_pairs = itertools.combinations(powders, 2)\n",
    "    # print(list(powder_pairs))\n",
    "    for p1, p2 in powder_pairs:\n",
    "        l1 = s_load(bul_weight, bul_type, p1)\n",
    "        assert(type(l1) is np.float64)\n",
    "        l2 = s_load(bul_weight, bul_type, p2)\n",
    "        assert(type(l2) is np.float64)\n",
    "        powder_fractions.loc[len(powder_fractions.index)] = [bul_weight, bul_type, p1, l1, p2, l2, l1 / l2]\n",
    "    "
   ]
  },
  {
   "cell_type": "code",
   "execution_count": 31,
   "id": "mineral-recruitment",
   "metadata": {},
   "outputs": [
    {
     "data": {
      "text/plain": [
       "(1826, 7)"
      ]
     },
     "execution_count": 31,
     "metadata": {},
     "output_type": "execute_result"
    }
   ],
   "source": [
    "powder_fractions.shape"
   ]
  },
  {
   "cell_type": "code",
   "execution_count": 32,
   "id": "protective-algeria",
   "metadata": {},
   "outputs": [
    {
     "data": {
      "text/html": [
       "<div>\n",
       "<style scoped>\n",
       "    .dataframe tbody tr th:only-of-type {\n",
       "        vertical-align: middle;\n",
       "    }\n",
       "\n",
       "    .dataframe tbody tr th {\n",
       "        vertical-align: top;\n",
       "    }\n",
       "\n",
       "    .dataframe thead th {\n",
       "        text-align: right;\n",
       "    }\n",
       "</style>\n",
       "<table border=\"1\" class=\"dataframe\">\n",
       "  <thead>\n",
       "    <tr style=\"text-align: right;\">\n",
       "      <th></th>\n",
       "      <th>bul_weight</th>\n",
       "      <th>bul_type</th>\n",
       "      <th>powder1</th>\n",
       "      <th>s_load1</th>\n",
       "      <th>powder2</th>\n",
       "      <th>s_load2</th>\n",
       "      <th>fraction</th>\n",
       "    </tr>\n",
       "  </thead>\n",
       "  <tbody>\n",
       "    <tr>\n",
       "      <th>0</th>\n",
       "      <td>110</td>\n",
       "      <td>XTP</td>\n",
       "      <td>v-3N37</td>\n",
       "      <td>7.3</td>\n",
       "      <td>v-N350</td>\n",
       "      <td>6.6</td>\n",
       "      <td>1.106061</td>\n",
       "    </tr>\n",
       "    <tr>\n",
       "      <th>1</th>\n",
       "      <td>110</td>\n",
       "      <td>XTP</td>\n",
       "      <td>v-3N37</td>\n",
       "      <td>7.3</td>\n",
       "      <td>CFE PISTOL</td>\n",
       "      <td>6.5</td>\n",
       "      <td>1.123077</td>\n",
       "    </tr>\n",
       "    <tr>\n",
       "      <th>2</th>\n",
       "      <td>110</td>\n",
       "      <td>XTP</td>\n",
       "      <td>v-3N37</td>\n",
       "      <td>7.3</td>\n",
       "      <td>v-N320</td>\n",
       "      <td>5.4</td>\n",
       "      <td>1.351852</td>\n",
       "    </tr>\n",
       "    <tr>\n",
       "      <th>3</th>\n",
       "      <td>110</td>\n",
       "      <td>XTP</td>\n",
       "      <td>v-3N37</td>\n",
       "      <td>7.3</td>\n",
       "      <td>v-N340</td>\n",
       "      <td>6.2</td>\n",
       "      <td>1.177419</td>\n",
       "    </tr>\n",
       "    <tr>\n",
       "      <th>4</th>\n",
       "      <td>110</td>\n",
       "      <td>XTP</td>\n",
       "      <td>v-3N37</td>\n",
       "      <td>7.3</td>\n",
       "      <td>R SILHOUETTE</td>\n",
       "      <td>6.3</td>\n",
       "      <td>1.158730</td>\n",
       "    </tr>\n",
       "    <tr>\n",
       "      <th>...</th>\n",
       "      <td>...</td>\n",
       "      <td>...</td>\n",
       "      <td>...</td>\n",
       "      <td>...</td>\n",
       "      <td>...</td>\n",
       "      <td>...</td>\n",
       "      <td>...</td>\n",
       "    </tr>\n",
       "    <tr>\n",
       "      <th>1821</th>\n",
       "      <td>125</td>\n",
       "      <td>XTP</td>\n",
       "      <td>UNIQUE</td>\n",
       "      <td>5.0</td>\n",
       "      <td>IMR PB</td>\n",
       "      <td>4.5</td>\n",
       "      <td>1.111111</td>\n",
       "    </tr>\n",
       "    <tr>\n",
       "      <th>1822</th>\n",
       "      <td>125</td>\n",
       "      <td>XTP</td>\n",
       "      <td>UNIQUE</td>\n",
       "      <td>5.0</td>\n",
       "      <td>ACCUR #2</td>\n",
       "      <td>4.3</td>\n",
       "      <td>1.162791</td>\n",
       "    </tr>\n",
       "    <tr>\n",
       "      <th>1823</th>\n",
       "      <td>125</td>\n",
       "      <td>XTP</td>\n",
       "      <td>v-N310</td>\n",
       "      <td>6.0</td>\n",
       "      <td>IMR PB</td>\n",
       "      <td>4.5</td>\n",
       "      <td>1.333333</td>\n",
       "    </tr>\n",
       "    <tr>\n",
       "      <th>1824</th>\n",
       "      <td>125</td>\n",
       "      <td>XTP</td>\n",
       "      <td>v-N310</td>\n",
       "      <td>6.0</td>\n",
       "      <td>ACCUR #2</td>\n",
       "      <td>4.3</td>\n",
       "      <td>1.395349</td>\n",
       "    </tr>\n",
       "    <tr>\n",
       "      <th>1825</th>\n",
       "      <td>125</td>\n",
       "      <td>XTP</td>\n",
       "      <td>IMR PB</td>\n",
       "      <td>4.5</td>\n",
       "      <td>ACCUR #2</td>\n",
       "      <td>4.3</td>\n",
       "      <td>1.046512</td>\n",
       "    </tr>\n",
       "  </tbody>\n",
       "</table>\n",
       "<p>1826 rows × 7 columns</p>\n",
       "</div>"
      ],
      "text/plain": [
       "     bul_weight bul_type powder1  s_load1       powder2  s_load2  fraction\n",
       "0           110      XTP  v-3N37      7.3        v-N350      6.6  1.106061\n",
       "1           110      XTP  v-3N37      7.3    CFE PISTOL      6.5  1.123077\n",
       "2           110      XTP  v-3N37      7.3        v-N320      5.4  1.351852\n",
       "3           110      XTP  v-3N37      7.3        v-N340      6.2  1.177419\n",
       "4           110      XTP  v-3N37      7.3  R SILHOUETTE      6.3  1.158730\n",
       "...         ...      ...     ...      ...           ...      ...       ...\n",
       "1821        125      XTP  UNIQUE      5.0        IMR PB      4.5  1.111111\n",
       "1822        125      XTP  UNIQUE      5.0      ACCUR #2      4.3  1.162791\n",
       "1823        125      XTP  v-N310      6.0        IMR PB      4.5  1.333333\n",
       "1824        125      XTP  v-N310      6.0      ACCUR #2      4.3  1.395349\n",
       "1825        125      XTP  IMR PB      4.5      ACCUR #2      4.3  1.046512\n",
       "\n",
       "[1826 rows x 7 columns]"
      ]
     },
     "execution_count": 32,
     "metadata": {},
     "output_type": "execute_result"
    }
   ],
   "source": [
    "powder_fractions"
   ]
  },
  {
   "cell_type": "code",
   "execution_count": 33,
   "id": "received-context",
   "metadata": {},
   "outputs": [],
   "source": [
    "ppf_table = powder_fractions[['powder1', 'powder2', 'fraction']].copy()"
   ]
  },
  {
   "cell_type": "code",
   "execution_count": 34,
   "id": "organized-spider",
   "metadata": {},
   "outputs": [
    {
     "data": {
      "text/html": [
       "<div>\n",
       "<style scoped>\n",
       "    .dataframe tbody tr th:only-of-type {\n",
       "        vertical-align: middle;\n",
       "    }\n",
       "\n",
       "    .dataframe tbody tr th {\n",
       "        vertical-align: top;\n",
       "    }\n",
       "\n",
       "    .dataframe thead th {\n",
       "        text-align: right;\n",
       "    }\n",
       "</style>\n",
       "<table border=\"1\" class=\"dataframe\">\n",
       "  <thead>\n",
       "    <tr style=\"text-align: right;\">\n",
       "      <th></th>\n",
       "      <th>powder1</th>\n",
       "      <th>powder2</th>\n",
       "      <th>fraction</th>\n",
       "    </tr>\n",
       "  </thead>\n",
       "  <tbody>\n",
       "    <tr>\n",
       "      <th>0</th>\n",
       "      <td>v-3N37</td>\n",
       "      <td>v-N350</td>\n",
       "      <td>1.106061</td>\n",
       "    </tr>\n",
       "    <tr>\n",
       "      <th>1</th>\n",
       "      <td>v-3N37</td>\n",
       "      <td>CFE PISTOL</td>\n",
       "      <td>1.123077</td>\n",
       "    </tr>\n",
       "    <tr>\n",
       "      <th>2</th>\n",
       "      <td>v-3N37</td>\n",
       "      <td>v-N320</td>\n",
       "      <td>1.351852</td>\n",
       "    </tr>\n",
       "    <tr>\n",
       "      <th>3</th>\n",
       "      <td>v-3N37</td>\n",
       "      <td>v-N340</td>\n",
       "      <td>1.177419</td>\n",
       "    </tr>\n",
       "    <tr>\n",
       "      <th>4</th>\n",
       "      <td>v-3N37</td>\n",
       "      <td>R SILHOUETTE</td>\n",
       "      <td>1.158730</td>\n",
       "    </tr>\n",
       "    <tr>\n",
       "      <th>...</th>\n",
       "      <td>...</td>\n",
       "      <td>...</td>\n",
       "      <td>...</td>\n",
       "    </tr>\n",
       "    <tr>\n",
       "      <th>1821</th>\n",
       "      <td>UNIQUE</td>\n",
       "      <td>IMR PB</td>\n",
       "      <td>1.111111</td>\n",
       "    </tr>\n",
       "    <tr>\n",
       "      <th>1822</th>\n",
       "      <td>UNIQUE</td>\n",
       "      <td>ACCUR #2</td>\n",
       "      <td>1.162791</td>\n",
       "    </tr>\n",
       "    <tr>\n",
       "      <th>1823</th>\n",
       "      <td>v-N310</td>\n",
       "      <td>IMR PB</td>\n",
       "      <td>1.333333</td>\n",
       "    </tr>\n",
       "    <tr>\n",
       "      <th>1824</th>\n",
       "      <td>v-N310</td>\n",
       "      <td>ACCUR #2</td>\n",
       "      <td>1.395349</td>\n",
       "    </tr>\n",
       "    <tr>\n",
       "      <th>1825</th>\n",
       "      <td>IMR PB</td>\n",
       "      <td>ACCUR #2</td>\n",
       "      <td>1.046512</td>\n",
       "    </tr>\n",
       "  </tbody>\n",
       "</table>\n",
       "<p>1826 rows × 3 columns</p>\n",
       "</div>"
      ],
      "text/plain": [
       "     powder1       powder2  fraction\n",
       "0     v-3N37        v-N350  1.106061\n",
       "1     v-3N37    CFE PISTOL  1.123077\n",
       "2     v-3N37        v-N320  1.351852\n",
       "3     v-3N37        v-N340  1.177419\n",
       "4     v-3N37  R SILHOUETTE  1.158730\n",
       "...      ...           ...       ...\n",
       "1821  UNIQUE        IMR PB  1.111111\n",
       "1822  UNIQUE      ACCUR #2  1.162791\n",
       "1823  v-N310        IMR PB  1.333333\n",
       "1824  v-N310      ACCUR #2  1.395349\n",
       "1825  IMR PB      ACCUR #2  1.046512\n",
       "\n",
       "[1826 rows x 3 columns]"
      ]
     },
     "execution_count": 34,
     "metadata": {},
     "output_type": "execute_result"
    }
   ],
   "source": [
    "ppf_table"
   ]
  },
  {
   "cell_type": "code",
   "execution_count": null,
   "id": "sixth-angel",
   "metadata": {},
   "outputs": [],
   "source": []
  },
  {
   "cell_type": "code",
   "execution_count": null,
   "id": "comic-curtis",
   "metadata": {},
   "outputs": [],
   "source": []
  },
  {
   "cell_type": "code",
   "execution_count": null,
   "id": "accepted-teens",
   "metadata": {},
   "outputs": [],
   "source": []
  },
  {
   "cell_type": "code",
   "execution_count": null,
   "id": "configured-fancy",
   "metadata": {},
   "outputs": [],
   "source": [
    "import itertools\n",
    "# import pprint\n",
    "\n",
    "l1 = ['a', 'b', 'c']\n",
    "l2 = ['X', 'Y', 'Z']\n",
    "\n",
    "p = itertools.product(l1, l2)\n",
    "\n",
    "print(p)\n",
    "# <itertools.product object at 0x1026edd80>\n",
    "\n",
    "print(type(p))\n",
    "# <class 'itertools.product'>"
   ]
  },
  {
   "cell_type": "code",
   "execution_count": null,
   "id": "square-fabric",
   "metadata": {},
   "outputs": [],
   "source": [
    "for v in p:\n",
    "    print(v)"
   ]
  },
  {
   "cell_type": "code",
   "execution_count": null,
   "id": "atomic-stream",
   "metadata": {},
   "outputs": [],
   "source": [
    "list(p)"
   ]
  },
  {
   "cell_type": "code",
   "execution_count": null,
   "id": "loaded-screw",
   "metadata": {},
   "outputs": [],
   "source": [
    "p = itertools.combinations(l1, 2)\n",
    "\n",
    "list(p)"
   ]
  },
  {
   "cell_type": "code",
   "execution_count": null,
   "id": "korean-astrology",
   "metadata": {},
   "outputs": [],
   "source": []
  }
 ],
 "metadata": {
  "kernelspec": {
   "display_name": "Python 3",
   "language": "python",
   "name": "python3"
  },
  "language_info": {
   "codemirror_mode": {
    "name": "ipython",
    "version": 3
   },
   "file_extension": ".py",
   "mimetype": "text/x-python",
   "name": "python",
   "nbconvert_exporter": "python",
   "pygments_lexer": "ipython3",
   "version": "3.8.7"
  }
 },
 "nbformat": 4,
 "nbformat_minor": 5
}

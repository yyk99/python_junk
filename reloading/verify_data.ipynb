{
 "cells": [
  {
   "cell_type": "code",
   "execution_count": null,
   "id": "honest-solomon",
   "metadata": {},
   "outputs": [],
   "source": [
    "#\n",
    "#\n",
    "#\n",
    "\n",
    "import numpy as np\n",
    "import pandas as pd\n",
    "import matplotlib.pyplot as plt\n",
    "import os\n",
    "\n",
    "from reloading_utils import get_url"
   ]
  },
  {
   "cell_type": "code",
   "execution_count": null,
   "id": "comfortable-austin",
   "metadata": {},
   "outputs": [],
   "source": [
    "# data/reloading_data - CATRIDGES.csv\n",
    "cartridges = pd.read_csv(get_url('data/reloading_data - CATRIDGES.csv'))\n",
    "print(cartridges)\n",
    "\n",
    "cartridges_to_process = cartridges.loc[:, ['title', 'volume', 'diameter']].to_numpy()\n",
    "print(cartridges_to_process)\n",
    "\n",
    "# reloading_data - powder burning rate chart\n",
    "powder_rates = pd.read_csv(get_url('data/reloading_data - powder burning rate chart.csv'))\n",
    "print(powder_rates.head())"
   ]
  },
  {
   "cell_type": "code",
   "execution_count": null,
   "id": "integrated-blackberry",
   "metadata": {},
   "outputs": [],
   "source": [
    "def process_data_file(c, v, a):\n",
    "    filename = f'data/reloading_data - %s.csv' % c\n",
    "    try:\n",
    "        d = pd.read_csv(get_url(filename))\n",
    "        d['cartridge_caliber'] = c\n",
    "        #d['cartridge_volume'] = v\n",
    "        #d['cartridge_diameter'] = a\n",
    "        return d\n",
    "    except:\n",
    "        print(\"ERROR: Cannot process:\", filename)\n",
    "        return None\n",
    "\n",
    "frames = [ process_data_file(c, v, a) for c, v, a in cartridges_to_process ]\n",
    "data = pd.concat(frames, ignore_index=True)\n",
    "\n",
    "# print(data.head())  # DEBUG\n",
    "print('data.shape', data.shape)"
   ]
  },
  {
   "cell_type": "code",
   "execution_count": null,
   "id": "dried-purchase",
   "metadata": {},
   "outputs": [],
   "source": [
    "data[~ np.isnan(data.press_psi)]"
   ]
  },
  {
   "cell_type": "code",
   "execution_count": null,
   "id": "architectural-stretch",
   "metadata": {},
   "outputs": [],
   "source": [
    "lee = pd.DataFrame(columns=['bul_weight', 'bul_type', *data.columns.to_list()])\n",
    "# print(101, lee.columns) #DEBUG\n",
    "\n",
    "bul_weight = None\n",
    "bul_type = None\n",
    "for pos in range(0, data.shape[0]):\n",
    "    line = data.loc[pos].to_numpy()\n",
    "    # print(123, line) # DEBUG\n",
    "    if ' grain ' in line[0]: # this is a bullettype \"115 grain jacketed\"\n",
    "        bul_weight, bul_type = line[0].split(' grain ')\n",
    "    else:\n",
    "        line = (int(bul_weight), bul_type, *line)\n",
    "        lee.loc[len(lee.index)] = line\n",
    "print('lee.shape', lee.shape)"
   ]
  },
  {
   "cell_type": "code",
   "execution_count": null,
   "id": "cordless-litigation",
   "metadata": {},
   "outputs": [],
   "source": [
    "lee"
   ]
  },
  {
   "cell_type": "code",
   "execution_count": null,
   "id": "played-marathon",
   "metadata": {},
   "outputs": [],
   "source": [
    "lee = pd.merge(lee, cartridges, left_on='cartridge_caliber', right_on='title')"
   ]
  },
  {
   "cell_type": "code",
   "execution_count": null,
   "id": "partial-eclipse",
   "metadata": {},
   "outputs": [],
   "source": [
    "lee.head()"
   ]
  },
  {
   "cell_type": "code",
   "execution_count": null,
   "id": "demonstrated-corruption",
   "metadata": {},
   "outputs": [],
   "source": [
    "lee.shape"
   ]
  },
  {
   "cell_type": "code",
   "execution_count": null,
   "id": "divided-preliminary",
   "metadata": {},
   "outputs": [],
   "source": [
    "#\n",
    "# CHECK VALIDITY EXAMPLE\n",
    "#\n",
    "powders = pd.DataFrame({\"key\": [\"#1\", \"#2\", \"#3\", \"#4\", '#5'], \"value\": [10, 20, 30, 40, 50]})\n",
    "print(powders)"
   ]
  },
  {
   "cell_type": "code",
   "execution_count": null,
   "id": "sitting-investigation",
   "metadata": {},
   "outputs": [],
   "source": [
    "data = pd.DataFrame({\"powder\": [\"#1\", \"#2\", \"#3\", \"#4\", '#xz'], \"load_min\": [10, 20, 30, 40, 22 ], 'load_max': [20, 25, 35, 45, 42]})\n",
    "print(data)"
   ]
  },
  {
   "cell_type": "code",
   "execution_count": null,
   "id": "circular-proportion",
   "metadata": {},
   "outputs": [],
   "source": [
    "# INNER JOIN\n",
    "# SELECT *\n",
    "# FROM df1\n",
    "# INNER JOIN df2\n",
    "#   ON df1.key = df2.key;\n",
    "\n",
    "pd.merge(powders, data, left_on='key', right_on='powder')"
   ]
  },
  {
   "cell_type": "code",
   "execution_count": null,
   "id": "chemical-trigger",
   "metadata": {},
   "outputs": [],
   "source": [
    "# LEFT OUTER JOIN\n",
    "# Show all records from df1.\n",
    "\n",
    "# SELECT *\n",
    "# FROM df1\n",
    "# LEFT OUTER JOIN df2\n",
    "#  ON df1.key = df2.key;\n",
    "# pd.merge(df1, df2, on=\"key\", how=\"left\")\n",
    "\n",
    "left_outer_join = pd.merge(powders, data, left_on='key', right_on='powder', how=\"left\")[['key', 'powder']]\n",
    "print(left_outer_join)\n",
    "\n",
    "print(left_outer_join[['key', 'powder']])\n",
    "\n",
    "# WHERE\n",
    "# Filtering in SQL is done via a WHERE clause.\n",
    "\n",
    "# SELECT *\n",
    "# FROM tips\n",
    "# WHERE time = 'Dinner';\n",
    "\n",
    "# tips[tips[\"total_bill\"] > 10]\n",
    "\n",
    "print(left_outer_join[pd.isna(left_outer_join.powder)])\n",
    "\n",
    "print('# for loop...')\n",
    "for i in left_outer_join[pd.isna(left_outer_join.powder)][['key']].to_numpy():\n",
    "    powder_key = i[0]\n",
    "    print(\"Never used in data:\", powder_key)\n"
   ]
  },
  {
   "cell_type": "code",
   "execution_count": null,
   "id": "increased-notice",
   "metadata": {},
   "outputs": [],
   "source": [
    "# RIGHT JOIN\n",
    "# Show all records from df2.\n",
    "\n",
    "# SELECT *\n",
    "# FROM df1\n",
    "# RIGHT OUTER JOIN df2\n",
    "#   ON df1.key = df2.key;\n",
    "\n",
    "right_join = pd.merge(powders, data, left_on='key', right_on='powder', how=\"right\")\n",
    "print(right_join)"
   ]
  },
  {
   "cell_type": "code",
   "execution_count": null,
   "id": "palestinian-mother",
   "metadata": {},
   "outputs": [],
   "source": [
    "# WHERE\n",
    "# Filtering in SQL is done via a WHERE clause.\n",
    "\n",
    "# SELECT *\n",
    "# FROM tips\n",
    "# WHERE time = 'Dinner';\n",
    "\n",
    "# tips[tips[\"total_bill\"] > 10]\n",
    "\n"
   ]
  },
  {
   "cell_type": "code",
   "execution_count": null,
   "id": "cloudy-organizer",
   "metadata": {},
   "outputs": [],
   "source": [
    "# Show all powders never used in data tables\n",
    "\n",
    "print(lee.head())\n",
    "print(powder_rates.columns.to_list())\n",
    "print(lee.columns.to_list())"
   ]
  },
  {
   "cell_type": "code",
   "execution_count": null,
   "id": "cellular-surprise",
   "metadata": {},
   "outputs": [],
   "source": [
    "left_outer_join = pd.merge(powder_rates, lee, on='powder', how=\"left\")[['powder', 'bul_weight']]\n",
    "print(left_outer_join[left_outer_join.powder == 'CLAYS'])"
   ]
  },
  {
   "cell_type": "code",
   "execution_count": null,
   "id": "southwest-association",
   "metadata": {},
   "outputs": [],
   "source": [
    "for i in left_outer_join[pd.isna(left_outer_join.bul_weight)].to_numpy():\n",
    "    powder_key = i[0]\n",
    "    print(\"Never used in data:\", powder_key)"
   ]
  },
  {
   "cell_type": "code",
   "execution_count": null,
   "id": "suffering-connectivity",
   "metadata": {},
   "outputs": [],
   "source": [
    "print(left_outer_join[pd.isna(left_outer_join.bul_weight)])"
   ]
  },
  {
   "cell_type": "code",
   "execution_count": null,
   "id": "heavy-soldier",
   "metadata": {},
   "outputs": [],
   "source": [
    "# RIGHT JOIN\n",
    "# Show all records from df2.\n",
    "\n",
    "# SELECT *\n",
    "# FROM df1\n",
    "# RIGHT OUTER JOIN df2\n",
    "#   ON df1.key = df2.key;\n",
    "\n",
    "right_join = pd.merge(powder_rates, lee, on='powder', how=\"right\")[['powder', 'rate']]\n",
    "print(right_join)\n",
    "\n",
    "right_join[pd.isna(right_join.rate)]"
   ]
  },
  {
   "cell_type": "code",
   "execution_count": null,
   "id": "infrared-livestock",
   "metadata": {},
   "outputs": [],
   "source": []
  }
 ],
 "metadata": {
  "kernelspec": {
   "display_name": "Python 3",
   "language": "python",
   "name": "python3"
  },
  "language_info": {
   "codemirror_mode": {
    "name": "ipython",
    "version": 3
   },
   "file_extension": ".py",
   "mimetype": "text/x-python",
   "name": "python",
   "nbconvert_exporter": "python",
   "pygments_lexer": "ipython3",
   "version": "3.8.7"
  }
 },
 "nbformat": 4,
 "nbformat_minor": 5
}

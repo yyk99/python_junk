{
 "cells": [
  {
   "cell_type": "code",
   "execution_count": null,
   "id": "honest-solomon",
   "metadata": {},
   "outputs": [],
   "source": [
    "#\n",
    "#\n",
    "#\n",
    "\n",
    "import numpy as np\n",
    "import pandas as pd\n",
    "import matplotlib.pyplot as plt\n",
    "import os\n",
    "\n",
    "from reloading_utils import get_url"
   ]
  },
  {
   "cell_type": "code",
   "execution_count": null,
   "id": "comfortable-austin",
   "metadata": {},
   "outputs": [],
   "source": [
    "# data/reloading_data - CATRIDGES.csv\n",
    "cartridges = pd.read_csv(get_url('data/reloading_data - CATRIDGES.csv'))\n",
    "print(cartridges)\n",
    "\n",
    "cartridges_to_process = cartridges.loc[:, ['title', 'volume', 'diameter']].to_numpy()\n",
    "print(cartridges_to_process)\n",
    "\n",
    "# reloading_data - powder burning rate chart\n",
    "powder_rates = pd.read_csv(get_url('data/reloading_data - powder burning rate chart.csv'))\n",
    "print(powder_rates.head())"
   ]
  },
  {
   "cell_type": "code",
   "execution_count": null,
   "id": "integrated-blackberry",
   "metadata": {},
   "outputs": [],
   "source": [
    "def process_data_file(c, v, a):\n",
    "    filename = f'data/reloading_data - %s.csv' % c\n",
    "    try:\n",
    "        d = pd.read_csv(get_url(filename))\n",
    "        d['cartridge_caliber'] = c\n",
    "        #d['cartridge_volume'] = v\n",
    "        #d['cartridge_diameter'] = a\n",
    "        return d\n",
    "    except:\n",
    "        print(\"ERROR: Cannot process:\", filename)\n",
    "        return None\n",
    "\n",
    "frames = [ process_data_file(c, v, a) for c, v, a in cartridges_to_process ]\n",
    "data = pd.concat(frames, ignore_index=True)\n",
    "\n",
    "# print(data.head())  # DEBUG\n",
    "print('data.shape', data.shape)"
   ]
  },
  {
   "cell_type": "code",
   "execution_count": null,
   "id": "selective-discipline",
   "metadata": {},
   "outputs": [],
   "source": [
    "data[~ np.isnan(data.press_psi)]"
   ]
  },
  {
   "cell_type": "code",
   "execution_count": null,
   "id": "active-olympus",
   "metadata": {},
   "outputs": [],
   "source": [
    "lee = pd.DataFrame(columns=['bul_weight', 'bul_type', *data.columns.to_list()])\n",
    "# print(101, lee.columns) #DEBUG\n",
    "\n",
    "bul_weight = None\n",
    "bul_type = None\n",
    "for pos in range(0, data.shape[0]):\n",
    "    line = data.loc[pos].to_numpy()\n",
    "    # print(123, line) # DEBUG\n",
    "    if ' grain ' in line[0]: # this is a bullettype \"115 grain jacketed\"\n",
    "        bul_weight, bul_type = line[0].split(' grain ')\n",
    "    else:\n",
    "        line = (int(bul_weight), bul_type, *line)\n",
    "        lee.loc[len(lee.index)] = line\n",
    "print('lee.shape', lee.shape)"
   ]
  },
  {
   "cell_type": "code",
   "execution_count": null,
   "id": "anticipated-jackson",
   "metadata": {},
   "outputs": [],
   "source": [
    "lee"
   ]
  },
  {
   "cell_type": "code",
   "execution_count": null,
   "id": "fabulous-yahoo",
   "metadata": {},
   "outputs": [],
   "source": [
    "lee = pd.merge(lee, cartridges, left_on='cartridge_caliber', right_on='title')"
   ]
  },
  {
   "cell_type": "code",
   "execution_count": null,
   "id": "annoying-midnight",
   "metadata": {},
   "outputs": [],
   "source": [
    "lee.head()"
   ]
  },
  {
   "cell_type": "code",
   "execution_count": null,
   "id": "dominican-species",
   "metadata": {},
   "outputs": [],
   "source": [
    "lee.shape"
   ]
  },
  {
   "cell_type": "code",
   "execution_count": null,
   "id": "south-blank",
   "metadata": {},
   "outputs": [],
   "source": [
    "#\n",
    "# CHECK VALIDITY EXAMPLE\n",
    "#\n",
    "powders = pd.DataFrame({\"key\": [\"#1\", \"#2\", \"#3\", \"#4\", '#5'], \"value\": [10, 20, 30, 40, 50]})\n",
    "print(powders)"
   ]
  },
  {
   "cell_type": "code",
   "execution_count": null,
   "id": "mysterious-primary",
   "metadata": {},
   "outputs": [],
   "source": [
    "data = pd.DataFrame({\"powder\": [\"#1\", \"#2\", \"#3\", \"#4\", '#xz'], \"load_min\": [10, 20, 30, 40, 22 ], 'load_max': [20, 25, 35, 45, 42]})\n",
    "print(data)"
   ]
  },
  {
   "cell_type": "code",
   "execution_count": null,
   "id": "naughty-incident",
   "metadata": {},
   "outputs": [],
   "source": [
    "# INNER JOIN\n",
    "# SELECT *\n",
    "# FROM df1\n",
    "# INNER JOIN df2\n",
    "#   ON df1.key = df2.key;\n",
    "\n",
    "pd.merge(powders, data, left_on='key', right_on='powder')"
   ]
  },
  {
   "cell_type": "code",
   "execution_count": null,
   "id": "psychological-abuse",
   "metadata": {},
   "outputs": [],
   "source": [
    "# LEFT OUTER JOIN\n",
    "# Show all records from df1.\n",
    "\n",
    "# SELECT *\n",
    "# FROM df1\n",
    "# LEFT OUTER JOIN df2\n",
    "#  ON df1.key = df2.key;\n",
    "# pd.merge(df1, df2, on=\"key\", how=\"left\")\n",
    "\n",
    "left_outer_join = pd.merge(powders, data, left_on='key', right_on='powder', how=\"left\")[['key', 'powder']]\n",
    "print(left_outer_join)\n",
    "\n",
    "print(left_outer_join[['key', 'powder']])\n",
    "\n",
    "# WHERE\n",
    "# Filtering in SQL is done via a WHERE clause.\n",
    "\n",
    "# SELECT *\n",
    "# FROM tips\n",
    "# WHERE time = 'Dinner';\n",
    "\n",
    "# tips[tips[\"total_bill\"] > 10]\n",
    "\n",
    "print(left_outer_join[pd.isna(left_outer_join.powder)])\n",
    "\n",
    "print('# for loop...')\n",
    "for i in left_outer_join[pd.isna(left_outer_join.powder)][['key']].to_numpy():\n",
    "    powder_key = i[0]\n",
    "    print(\"Never used in data:\", powder_key)\n"
   ]
  },
  {
   "cell_type": "code",
   "execution_count": null,
   "id": "partial-alert",
   "metadata": {},
   "outputs": [],
   "source": [
    "# RIGHT JOIN\n",
    "# Show all records from df2.\n",
    "\n",
    "# SELECT *\n",
    "# FROM df1\n",
    "# RIGHT OUTER JOIN df2\n",
    "#   ON df1.key = df2.key;\n",
    "\n",
    "right_join = pd.merge(powders, data, left_on='key', right_on='powder', how=\"right\")\n",
    "print(right_join)"
   ]
  },
  {
   "cell_type": "code",
   "execution_count": null,
   "id": "fourth-palestinian",
   "metadata": {},
   "outputs": [],
   "source": [
    "# WHERE\n",
    "# Filtering in SQL is done via a WHERE clause.\n",
    "\n",
    "# SELECT *\n",
    "# FROM tips\n",
    "# WHERE time = 'Dinner';\n",
    "\n",
    "# tips[tips[\"total_bill\"] > 10]\n",
    "\n"
   ]
  },
  {
   "cell_type": "code",
   "execution_count": null,
   "id": "cognitive-basement",
   "metadata": {},
   "outputs": [],
   "source": [
    "# Show all powders never used in data tables\n",
    "\n",
    "print(lee.head())\n",
    "print(powder_rates.columns.to_list())\n",
    "print(lee.columns.to_list())"
   ]
  },
  {
   "cell_type": "code",
   "execution_count": null,
   "id": "consolidated-louisville",
   "metadata": {},
   "outputs": [],
   "source": [
    "left_outer_join = pd.merge(powder_rates, lee, on='powder', how=\"left\")[['powder', 'bul_weight']]\n",
    "print(left_outer_join[left_outer_join.powder == 'CLAYS'])"
   ]
  },
  {
   "cell_type": "code",
   "execution_count": null,
   "id": "further-reverse",
   "metadata": {},
   "outputs": [],
   "source": [
    "for i in left_outer_join[pd.isna(left_outer_join.bul_weight)].to_numpy():\n",
    "    powder_key = i[0]\n",
    "    print(\"Never used in data:\", powder_key)"
   ]
  },
  {
   "cell_type": "code",
   "execution_count": null,
   "id": "explicit-diana",
   "metadata": {},
   "outputs": [],
   "source": [
    "print(left_outer_join[pd.isna(left_outer_join.bul_weight)])"
   ]
  },
  {
   "cell_type": "code",
   "execution_count": null,
   "id": "native-innocent",
   "metadata": {},
   "outputs": [],
   "source": [
    "# RIGHT JOIN\n",
    "# Show all records from df2.\n",
    "\n",
    "# SELECT *\n",
    "# FROM df1\n",
    "# RIGHT OUTER JOIN df2\n",
    "#   ON df1.key = df2.key;\n",
    "\n",
    "right_join = pd.merge(powder_rates, lee, on='powder', how=\"right\")[['powder', 'rate']]\n",
    "print(right_join)\n",
    "\n",
    "right_join[pd.isna(right_join.rate)]"
   ]
  },
  {
   "cell_type": "markdown",
   "id": "wrapped-software",
   "metadata": {},
   "source": [
    "## Verification starts here"
   ]
  },
  {
   "cell_type": "code",
   "execution_count": null,
   "id": "impressed-bermuda",
   "metadata": {},
   "outputs": [],
   "source": [
    "#\n",
    "#\n",
    "#\n",
    "\n",
    "import numpy as np\n",
    "import pandas as pd\n",
    "import matplotlib.pyplot as plt\n",
    "import os\n",
    "import itertools\n",
    "\n",
    "from reloading_utils import get_url"
   ]
  },
  {
   "cell_type": "code",
   "execution_count": null,
   "id": "proprietary-meditation",
   "metadata": {},
   "outputs": [],
   "source": [
    "lee = pd.read_csv('lee.csv', index_col=0)"
   ]
  },
  {
   "cell_type": "code",
   "execution_count": null,
   "id": "fitting-mouse",
   "metadata": {},
   "outputs": [],
   "source": [
    "lee.head()"
   ]
  },
  {
   "cell_type": "code",
   "execution_count": null,
   "id": "several-pleasure",
   "metadata": {},
   "outputs": [],
   "source": [
    "lee[(lee.bul_weight == 115) & (lee.powder == 'v-N340') ][['s_load', 'cartridge_caliber', 'bul_type']]"
   ]
  },
  {
   "cell_type": "code",
   "execution_count": null,
   "id": "changing-tourist",
   "metadata": {},
   "outputs": [],
   "source": [
    "def s_load(bul_weight, bul_type, powder):\n",
    "    d = lee[(lee.bul_weight == bul_weight) & (lee.bul_type == bul_type) & (lee.powder == powder)][['s_load']]\n",
    "    arr = d.to_numpy()\n",
    "    return arr\n"
   ]
  },
  {
   "cell_type": "code",
   "execution_count": null,
   "id": "interstate-spectacular",
   "metadata": {},
   "outputs": [],
   "source": [
    "load = s_load(125, 'XTP', 'ACCUR #2')\n",
    "print(load, '\\n', load.shape)\n",
    "np.average(load)"
   ]
  },
  {
   "cell_type": "code",
   "execution_count": null,
   "id": "selected-bandwidth",
   "metadata": {},
   "outputs": [],
   "source": [
    "grp = lee[lee.bul_type == 'XTP'].groupby(['bul_weight', 'bul_type'])"
   ]
  },
  {
   "cell_type": "code",
   "execution_count": null,
   "id": "bored-murray",
   "metadata": {},
   "outputs": [],
   "source": [
    "for g in grp:\n",
    "    print(g[0], len(g[1]))"
   ]
  },
  {
   "cell_type": "code",
   "execution_count": null,
   "id": "fitted-belly",
   "metadata": {},
   "outputs": [],
   "source": [
    "powder_fractions = pd.DataFrame(columns = ['bul_weight', 'bul_type', 'powder1', 's_load1', 'powder2', 's_load2', 'fraction'])\n",
    "for g in list(grp)[:5]:\n",
    "    bul_weight, bul_type = g[0]\n",
    "    # print(bul_weight, bul_type)\n",
    "    gg = g[1]\n",
    "    powders = gg['powder'].to_list()\n",
    "    powder_pairs = itertools.combinations(powders, 2)\n",
    "    # print(list(powder_pairs))\n",
    "    for p1, p2 in powder_pairs:\n",
    "        l1 = s_load(bul_weight, bul_type, p1)\n",
    "        l2 = s_load(bul_weight, bul_type, p2)\n",
    "        powder_fractions.loc[len(powder_fractions.index)] = [bul_weight, bul_type, p1, l1, p2, l2, l1 / l2]\n",
    "    "
   ]
  },
  {
   "cell_type": "code",
   "execution_count": null,
   "id": "liable-studio",
   "metadata": {},
   "outputs": [],
   "source": [
    "powder_fractions.shape"
   ]
  },
  {
   "cell_type": "code",
   "execution_count": null,
   "id": "selective-algorithm",
   "metadata": {},
   "outputs": [],
   "source": [
    "powder_fractions"
   ]
  },
  {
   "cell_type": "code",
   "execution_count": null,
   "id": "organizational-payday",
   "metadata": {},
   "outputs": [],
   "source": [
    "ppf_table = powder_fractions[['powder1', 'powder2', 'fraction']].copy()"
   ]
  },
  {
   "cell_type": "code",
   "execution_count": null,
   "id": "eastern-colonial",
   "metadata": {},
   "outputs": [],
   "source": [
    "ppf_table.sort_values(by=['powder1', 'powder2'])"
   ]
  },
  {
   "cell_type": "code",
   "execution_count": null,
   "id": "automated-stability",
   "metadata": {},
   "outputs": [],
   "source": [
    "ppf_table.to_csv('ppf_table.csv')"
   ]
  },
  {
   "cell_type": "code",
   "execution_count": null,
   "id": "polish-jenny",
   "metadata": {},
   "outputs": [],
   "source": [
    "ls"
   ]
  },
  {
   "cell_type": "code",
   "execution_count": null,
   "id": "irish-broadway",
   "metadata": {},
   "outputs": [],
   "source": [
    "group_pp = powder_fractions.sort_values(by=['powder1', 'powder2']).groupby(['powder1', 'powder2'])\n",
    "for pp in group_pp:\n",
    "    if len(pp[1]) > 1:\n",
    "        print(pp[0], len(pp[1]))\n",
    "        print(pp[1])"
   ]
  },
  {
   "cell_type": "markdown",
   "id": "familiar-allah",
   "metadata": {},
   "source": [
    "### Examples of itertools\n",
    "See also:\n",
    "https://docs.python.org/3/library/itertools.html"
   ]
  },
  {
   "cell_type": "code",
   "execution_count": null,
   "id": "standard-popularity",
   "metadata": {},
   "outputs": [],
   "source": [
    "import itertools\n",
    "# import pprint\n",
    "\n",
    "l1 = ['a', 'b', 'c']\n",
    "l2 = ['X', 'Y', 'Z']\n",
    "\n",
    "p = itertools.product(l1, l2)\n",
    "\n",
    "print(p)\n",
    "# <itertools.product object at 0x1026edd80>\n",
    "\n",
    "print(type(p))\n",
    "# <class 'itertools.product'>"
   ]
  },
  {
   "cell_type": "code",
   "execution_count": null,
   "id": "provincial-export",
   "metadata": {},
   "outputs": [],
   "source": [
    "for v in p:\n",
    "    print(v)"
   ]
  },
  {
   "cell_type": "code",
   "execution_count": null,
   "id": "informed-thinking",
   "metadata": {},
   "outputs": [],
   "source": [
    "list(p)"
   ]
  },
  {
   "cell_type": "code",
   "execution_count": null,
   "id": "employed-original",
   "metadata": {},
   "outputs": [],
   "source": [
    "p = itertools.combinations(l1, 2)\n",
    "\n",
    "list(p)"
   ]
  },
  {
   "cell_type": "code",
   "execution_count": null,
   "id": "superior-mercy",
   "metadata": {},
   "outputs": [],
   "source": []
  }
 ],
 "metadata": {
  "kernelspec": {
   "display_name": "Python 3",
   "language": "python",
   "name": "python3"
  },
  "language_info": {
   "codemirror_mode": {
    "name": "ipython",
    "version": 3
   },
   "file_extension": ".py",
   "mimetype": "text/x-python",
   "name": "python",
   "nbconvert_exporter": "python",
   "pygments_lexer": "ipython3",
   "version": "3.8.7"
  }
 },
 "nbformat": 4,
 "nbformat_minor": 5
}

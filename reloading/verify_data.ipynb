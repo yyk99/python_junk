{
 "cells": [
  {
   "cell_type": "code",
   "execution_count": null,
   "id": "honest-solomon",
   "metadata": {},
   "outputs": [],
   "source": [
    "#\n",
    "#\n",
    "#\n",
    "\n",
    "import numpy as np\n",
    "import pandas as pd\n",
    "import matplotlib.pyplot as plt\n",
    "import os"
   ]
  },
  {
   "cell_type": "code",
   "execution_count": null,
   "id": "comfortable-austin",
   "metadata": {},
   "outputs": [],
   "source": [
    "# data/reloading_data - CATRIDGES.csv\n",
    "cartridges = pd.read_csv('data/reloading_data - CATRIDGES.csv')\n",
    "print(cartridges)"
   ]
  },
  {
   "cell_type": "code",
   "execution_count": null,
   "id": "excessive-business",
   "metadata": {},
   "outputs": [],
   "source": [
    "cartridges_to_process = cartridges.title.to_list()\n",
    "print(cartridges_to_process)"
   ]
  },
  {
   "cell_type": "code",
   "execution_count": null,
   "id": "integrated-blackberry",
   "metadata": {},
   "outputs": [],
   "source": [
    "data = None\n",
    "for c in cartridges_to_process:\n",
    "    filename = f'data/reloading_data - %s.csv' % c\n",
    "    if not os.path.exists(filename):\n",
    "        continue\n",
    "    d = pd.read_csv(filename)\n",
    "    if data is None:\n",
    "        data = d\n",
    "    else:\n",
    "        data = pd.concat([data, d])\n",
    "print(data.head())"
   ]
  },
  {
   "cell_type": "code",
   "execution_count": null,
   "id": "independent-jersey",
   "metadata": {},
   "outputs": [],
   "source": [
    "d"
   ]
  },
  {
   "cell_type": "code",
   "execution_count": null,
   "id": "eleven-assumption",
   "metadata": {},
   "outputs": [],
   "source": [
    "data"
   ]
  },
  {
   "cell_type": "code",
   "execution_count": null,
   "id": "removed-steal",
   "metadata": {},
   "outputs": [],
   "source": [
    "[ [10, 20] ] * 5"
   ]
  },
  {
   "cell_type": "code",
   "execution_count": null,
   "id": "peripheral-volleyball",
   "metadata": {},
   "outputs": [],
   "source": []
  }
 ],
 "metadata": {
  "kernelspec": {
   "display_name": "Python 3",
   "language": "python",
   "name": "python3"
  },
  "language_info": {
   "codemirror_mode": {
    "name": "ipython",
    "version": 3
   },
   "file_extension": ".py",
   "mimetype": "text/x-python",
   "name": "python",
   "nbconvert_exporter": "python",
   "pygments_lexer": "ipython3",
   "version": "3.8.7"
  }
 },
 "nbformat": 4,
 "nbformat_minor": 5
}

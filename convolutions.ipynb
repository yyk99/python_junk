{
 "cells": [
  {
   "cell_type": "code",
   "execution_count": null,
   "metadata": {},
   "outputs": [],
   "source": [
    "#\n",
    "#\n",
    "#\n",
    "\n",
    "import numpy as np\n",
    "import h5py\n",
    "import matplotlib.pyplot as plt\n",
    "\n",
    "%matplotlib inline\n",
    "plt.rcParams['figure.figsize'] = (5.0, 4.0) # set default size of plots\n",
    "plt.rcParams['image.interpolation'] = 'nearest'\n",
    "plt.rcParams['image.cmap'] = 'gray'\n",
    "\n",
    "%load_ext autoreload\n",
    "%autoreload 2\n",
    "\n",
    "np.random.seed(1)"
   ]
  },
  {
   "cell_type": "markdown",
   "metadata": {},
   "source": [
    "Exercise: Implement the following function, which pads all the images of a batch of examples X with zeros. Use np.pad. Note if you want to pad the array \"a\" of shape  (5,5,5,5,5)(5,5,5,5,5)  with pad = 1 for the 2nd dimension, pad = 3 for the 4th dimension and pad = 0 for the rest, you would do:\n",
    "\n",
    "a = np.pad(a, ((0,0), (1,1), (0,0), (3,3), (0,0)), mode='constant', constant_values = (0,0))\n"
   ]
  },
  {
   "cell_type": "code",
   "execution_count": null,
   "metadata": {},
   "outputs": [],
   "source": [
    "a = np.random.rand(5,5,5,5,5)\n",
    "a.shape"
   ]
  },
  {
   "cell_type": "code",
   "execution_count": null,
   "metadata": {},
   "outputs": [],
   "source": [
    "a = np.pad(a, ((0,0), (1,1), (0,0), (3,3), (0,0)), mode='constant', constant_values = (0,0))\n",
    "a.shape"
   ]
  },
  {
   "cell_type": "code",
   "execution_count": null,
   "metadata": {},
   "outputs": [],
   "source": [
    "!ls images"
   ]
  },
  {
   "cell_type": "code",
   "execution_count": null,
   "metadata": {},
   "outputs": [],
   "source": [
    "from PIL import Image\n",
    "import numpy as np\n",
    "import matplotlib.pyplot as plt\n",
    "\n",
    "im = np.array(Image.open('images/snowflake01.png'))\n",
    "\n",
    "print(im.dtype)\n",
    "# uint8\n",
    "\n",
    "print(im.ndim)\n",
    "# 3\n",
    "\n",
    "print(im.shape)\n",
    "# (512, 512, 3)\n",
    "\n",
    "plt.imshow(im)\n",
    "plt.show()"
   ]
  },
  {
   "cell_type": "code",
   "execution_count": null,
   "metadata": {},
   "outputs": [],
   "source": [
    "def rgb2gray(rgb):\n",
    "    return np.dot(rgb[...,:3], [0.2989, 0.5870, 0.1140])\n",
    "\n",
    "gray = rgb2gray(im)\n",
    "print(gray.shape, np.min(gray), np.max(gray))\n",
    "gray = gray / 255.\n",
    "print(gray.shape, np.min(gray), np.max(gray))\n",
    "\n",
    "plt.imshow(gray, cmap='gray', vmin=0, vmax=1)\n",
    "plt.show()"
   ]
  },
  {
   "cell_type": "code",
   "execution_count": null,
   "metadata": {
    "scrolled": false
   },
   "outputs": [],
   "source": [
    "# convolution\n",
    "\n",
    "from scipy import signal\n",
    "from scipy import misc\n",
    "\n",
    "f_hor = np.array([\n",
    "    [1,1,1],\n",
    "    [0,0,0],\n",
    "    [-1,-1,-1]\n",
    "])\n",
    "\n",
    "f_ver = np.array([\n",
    "    [1,0,-1],\n",
    "    [1,0,-1],\n",
    "    [1,0,-1]\n",
    "])\n",
    "\n",
    "f_4x4 = np.array([\n",
    "    [ 0,  1,  1,  0],\n",
    "    [ 1,  3,  3,  1],\n",
    "    [-1, -3, -3, -1],\n",
    "    [ 0, -1, -1,  0],\n",
    "])\n",
    "\n",
    "f_45_degrees = np.array([\n",
    "    [ 0,  1,  2], \n",
    "    [-1,  0,  1], \n",
    "    [-2, -1,  0]\n",
    "])\n",
    "\n",
    "conv = signal.convolve2d(gray, f_4x4,\n",
    "                         # boundary='symm', \n",
    "                         mode='same'\n",
    "                        )\n",
    "print(conv.shape)\n",
    "plt.imshow(conv, cmap='gray', vmin=0, vmax=1)\n",
    "plt.show()"
   ]
  },
  {
   "cell_type": "code",
   "execution_count": null,
   "metadata": {},
   "outputs": [],
   "source": [
    "import numpy as np\n",
    "from scipy import signal\n",
    "from scipy import misc\n",
    "ascent = misc.ascent()\n",
    "scharr = np.array([[ -3-3j, 0-10j,  +3 -3j],\n",
    "                   [-10+0j, 0+ 0j, +10 +0j],\n",
    "                   [ -3+3j, 0+10j,  +3 +3j]]) # Gx + j*Gy\n",
    "grad = signal.convolve2d(ascent, scharr, boundary='symm', mode='same')"
   ]
  },
  {
   "cell_type": "code",
   "execution_count": null,
   "metadata": {},
   "outputs": [],
   "source": [
    "import matplotlib.pyplot as plt\n",
    "fig, (ax_orig, ax_mag, ax_ang) = plt.subplots(3, 1, figsize=(6, 15))\n",
    "ax_orig.imshow(ascent, cmap='gray')\n",
    "ax_orig.set_title('Original')\n",
    "ax_orig.set_axis_off()\n",
    "ax_mag.imshow(np.absolute(grad), cmap='gray')\n",
    "ax_mag.set_title('Gradient magnitude')\n",
    "ax_mag.set_axis_off()\n",
    "ax_ang.imshow(np.angle(grad), cmap='hsv') # hsv is cyclic, like angles\n",
    "ax_ang.set_title('Gradient orientation')\n",
    "ax_ang.set_axis_off()\n",
    "fig.show()"
   ]
  },
  {
   "cell_type": "code",
   "execution_count": null,
   "metadata": {},
   "outputs": [],
   "source": [
    "import numpy as np\n",
    "\n",
    "A = np.random.randint(1, 10, size=(6,6))\n",
    "v = np.array([\n",
    "    [1,0,-1],\n",
    "    [1,0,-1],\n",
    "    [1,0,-1],\n",
    "])\n",
    "\n",
    "C = np.convolve(A.flatten(), v.flatten(), mode=\"same\")\n",
    "print(C.shape)\n",
    "C = C.reshape((6,6))\n",
    "print(C)\n",
    "\n",
    "C = np.convolve(gray.flatten(), f_4x4.flatten(), mode=\"same\")\n",
    "print(C.shape)\n",
    "C = C.reshape((256,256))\n",
    "\n",
    "plt.imshow(C, cmap='gray', vmin=0, vmax=1)\n",
    "plt.show()"
   ]
  },
  {
   "cell_type": "code",
   "execution_count": null,
   "metadata": {},
   "outputs": [],
   "source": []
  }
 ],
 "metadata": {
  "kernelspec": {
   "display_name": "Python 3",
   "language": "python",
   "name": "python3"
  },
  "language_info": {
   "codemirror_mode": {
    "name": "ipython",
    "version": 3
   },
   "file_extension": ".py",
   "mimetype": "text/x-python",
   "name": "python",
   "nbconvert_exporter": "python",
   "pygments_lexer": "ipython3",
   "version": "3.8.7"
  }
 },
 "nbformat": 4,
 "nbformat_minor": 4
}

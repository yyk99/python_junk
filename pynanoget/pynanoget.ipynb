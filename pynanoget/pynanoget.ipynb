{
 "cells": [
  {
   "cell_type": "code",
   "execution_count": null,
   "metadata": {},
   "outputs": [],
   "source": [
    "#\n",
    "#\n",
    "#\n",
    "\n",
    "import struct\n",
    "import socket\n",
    "\n",
    "UDP_IP = \"192.168.1.136\"\n",
    "UDP_PORT = 2390\n",
    "MESSAGE = b\"CONNECT\\r\\n\"\n",
    "\n",
    "print(\"UDP target IP: %s\" % UDP_IP)\n",
    "print(\"UDP target port: %s\" % UDP_PORT)\n",
    "print(\"message: %s\" % MESSAGE)\n",
    "\n",
    "sock = socket.socket(socket.AF_INET, # Internet\n",
    "                     socket.SOCK_DGRAM) # UDP\n",
    "ok = sock.connect((UDP_IP, UDP_PORT))\n",
    "print('ok', ok)\n",
    "\n",
    "sock.sendto(MESSAGE, (UDP_IP, UDP_PORT))\n",
    "\n",
    "ok = sock.recv(1024)\n",
    "print('ok', ok)\n",
    "data = sock.recv(1024)\n",
    "print('data', data, len(data))\n",
    "struct.unpack('LlllLLL', data)"
   ]
  },
  {
   "cell_type": "code",
   "execution_count": null,
   "metadata": {},
   "outputs": [],
   "source": [
    "help(sock.recv)\n",
    "help(sock.connect)"
   ]
  },
  {
   "cell_type": "code",
   "execution_count": null,
   "metadata": {},
   "outputs": [],
   "source": [
    "struct.unpack('>d', b'\\xff\\xf8\\x00\\x00\\x00\\x00\\x00\\x00')"
   ]
  }
 ],
 "metadata": {
  "kernelspec": {
   "display_name": "Python 3",
   "language": "python",
   "name": "python3"
  },
  "language_info": {
   "codemirror_mode": {
    "name": "ipython",
    "version": 3
   },
   "file_extension": ".py",
   "mimetype": "text/x-python",
   "name": "python",
   "nbconvert_exporter": "python",
   "pygments_lexer": "ipython3",
   "version": "3.6.9"
  }
 },
 "nbformat": 4,
 "nbformat_minor": 2
}

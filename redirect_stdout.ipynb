{
 "cells": [
  {
   "cell_type": "code",
   "execution_count": null,
   "id": "bd569ed1",
   "metadata": {},
   "outputs": [],
   "source": [
    "import code\n",
    "        \n",
    "variables = globals().copy()\n",
    "variables.update(locals())\n",
    "shell = code.InteractiveConsole(variables)\n",
    "shell.interact()"
   ]
  },
  {
   "cell_type": "code",
   "execution_count": 2,
   "id": "add189ad",
   "metadata": {},
   "outputs": [
    {
     "name": "stdout",
     "output_type": "stream",
     "text": [
      "<ipykernel.iostream.OutStream object at 0x0000021EEEA3C0D0>\n"
     ]
    }
   ],
   "source": [
    "#\n",
    "#\n",
    "#\n",
    "import sys\n",
    "\n",
    "print(sys.stdout)"
   ]
  },
  {
   "cell_type": "code",
   "execution_count": 3,
   "id": "6f0961b2",
   "metadata": {},
   "outputs": [
    {
     "name": "stdout",
     "output_type": "stream",
     "text": [
      "123\n"
     ]
    }
   ],
   "source": [
    "s = input()\n"
   ]
  },
  {
   "cell_type": "code",
   "execution_count": 4,
   "id": "5c84e316",
   "metadata": {},
   "outputs": [
    {
     "data": {
      "text/plain": [
       "'123'"
      ]
     },
     "execution_count": 4,
     "metadata": {},
     "output_type": "execute_result"
    }
   ],
   "source": [
    "s"
   ]
  },
  {
   "cell_type": "code",
   "execution_count": null,
   "id": "c6d7c39f",
   "metadata": {},
   "outputs": [],
   "source": []
  }
 ],
 "metadata": {
  "kernelspec": {
   "display_name": "Python 3",
   "language": "python",
   "name": "python3"
  },
  "language_info": {
   "codemirror_mode": {
    "name": "ipython",
    "version": 3
   },
   "file_extension": ".py",
   "mimetype": "text/x-python",
   "name": "python",
   "nbconvert_exporter": "python",
   "pygments_lexer": "ipython3",
   "version": "3.9.5"
  }
 },
 "nbformat": 4,
 "nbformat_minor": 5
}

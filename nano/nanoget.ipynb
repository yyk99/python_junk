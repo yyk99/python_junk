{
 "cells": [
  {
   "cell_type": "code",
   "execution_count": null,
   "id": "statistical-russia",
   "metadata": {},
   "outputs": [],
   "source": [
    "import nanoget"
   ]
  },
  {
   "cell_type": "code",
   "execution_count": null,
   "id": "choice-method",
   "metadata": {},
   "outputs": [],
   "source": [
    "dir(nanoget)"
   ]
  },
  {
   "cell_type": "code",
   "execution_count": null,
   "id": "general-belize",
   "metadata": {},
   "outputs": [],
   "source": [
    "from nanoget import print_temperature"
   ]
  },
  {
   "cell_type": "code",
   "execution_count": null,
   "id": "tribal-divorce",
   "metadata": {},
   "outputs": [],
   "source": [
    "print_temperature()"
   ]
  },
  {
   "cell_type": "code",
   "execution_count": null,
   "id": "usual-knock",
   "metadata": {},
   "outputs": [],
   "source": [
    "nanoget.get_record()"
   ]
  },
  {
   "cell_type": "code",
   "execution_count": null,
   "id": "arctic-canyon",
   "metadata": {},
   "outputs": [],
   "source": []
  }
 ],
 "metadata": {
  "kernelspec": {
   "display_name": "Python 3 (ipykernel)",
   "language": "python",
   "name": "python3"
  },
  "language_info": {
   "codemirror_mode": {
    "name": "ipython",
    "version": 3
   },
   "file_extension": ".py",
   "mimetype": "text/x-python",
   "name": "python",
   "nbconvert_exporter": "python",
   "pygments_lexer": "ipython3",
   "version": "3.9.13"
  }
 },
 "nbformat": 4,
 "nbformat_minor": 5
}

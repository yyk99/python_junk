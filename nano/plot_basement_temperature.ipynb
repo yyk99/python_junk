{
 "cells": [
  {
   "cell_type": "code",
   "execution_count": null,
   "id": "applicable-hypothetical",
   "metadata": {},
   "outputs": [],
   "source": [
    "#\n",
    "#\n",
    "#\n",
    "\n",
    "import pandas as pd\n",
    "import matplotlib.pyplot as plt\n",
    "import numpy as np\n",
    "\n",
    "pd.__version__"
   ]
  },
  {
   "cell_type": "code",
   "execution_count": null,
   "id": "structural-congo",
   "metadata": {
    "scrolled": true
   },
   "outputs": [],
   "source": [
    "data = pd.read_csv(r\"\\\\readyshare\\USB_Storage\\downloads\\dump\\nanoget.log\", \n",
    "                   sep=' ', \n",
    "                   header=0, names=['time','millis','x','y','z','h','c','f'],\n",
    "                   dtype = {'time': np.float64 },\n",
    "                   on_bad_lines='skip',\n",
    "                   #error_bad_lines=False,\n",
    "                   na_values='Timeout...',\n",
    "                )\n",
    "# drop nan(s)\n",
    "data.dropna(inplace = True)\n",
    "\n"
   ]
  },
  {
   "cell_type": "code",
   "execution_count": null,
   "id": "crazy-candidate",
   "metadata": {},
   "outputs": [],
   "source": [
    "# make data\n",
    "x = data.time.to_numpy()\n",
    "y = data.c.to_numpy() / 100\n",
    "h = data.h.to_numpy() / 100\n",
    "\n",
    "# plot\n",
    "fig, ax = plt.subplots()\n",
    "\n",
    "fig.set_size_inches((14,5))\n",
    "ax.grid()\n",
    "\n",
    "ax.plot(x, y, linewidth=2.0)\n",
    "#ax.plot(x, h, linewidth=2.0)\n",
    "\n",
    "#ax.set(xlim=(0, 8), xticks=np.arange(1, 8),\n",
    "#       ylim=(0, 8), yticks=np.arange(1, 8))\n",
    "\n",
    "\n",
    "plt.show()"
   ]
  },
  {
   "cell_type": "code",
   "execution_count": null,
   "id": "capable-flexibility",
   "metadata": {},
   "outputs": [],
   "source": [
    "import numpy as np\n",
    "import matplotlib.pyplot as plt\n",
    "\n",
    "x = data.time.to_numpy()\n",
    "c = data.c.to_numpy() / 100\n",
    "h = data.h.to_numpy() / 100\n",
    "\n",
    "fig, ax1 = plt.subplots(figsize=(18, 6))\n",
    "\n",
    "color = 'tab:red'\n",
    "ax1.set_xlabel('time (s)')\n",
    "ax1.set_ylabel('Temperature (C)', color=color)\n",
    "ax1.plot(x, c, color=color)\n",
    "ax1.tick_params(axis='y', labelcolor=color)\n",
    "ax1.grid()\n",
    "\n",
    "ax2 = ax1.twinx()  # instantiate a second axes that shares the same x-axis\n",
    "\n",
    "color = 'tab:blue'\n",
    "ax2.set_ylabel('Humidity (%)', color=color)  # we already handled the x-label with ax1\n",
    "ax2.plot(x, h, color=color)\n",
    "ax2.tick_params(axis='y', labelcolor=color)\n",
    "\n",
    "fig.tight_layout()  # otherwise the right y-label is slightly clipped\n",
    "plt.show()"
   ]
  },
  {
   "cell_type": "code",
   "execution_count": null,
   "id": "forced-treasure",
   "metadata": {},
   "outputs": [],
   "source": []
  },
  {
   "cell_type": "code",
   "execution_count": null,
   "id": "resident-queen",
   "metadata": {},
   "outputs": [],
   "source": []
  }
 ],
 "metadata": {
  "kernelspec": {
   "display_name": "Python 3",
   "language": "python",
   "name": "python3"
  },
  "language_info": {
   "codemirror_mode": {
    "name": "ipython",
    "version": 3
   },
   "file_extension": ".py",
   "mimetype": "text/x-python",
   "name": "python",
   "nbconvert_exporter": "python",
   "pygments_lexer": "ipython3",
   "version": "3.8.7"
  }
 },
 "nbformat": 4,
 "nbformat_minor": 5
}

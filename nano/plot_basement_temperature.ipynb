{
 "cells": [
  {
   "cell_type": "code",
   "execution_count": null,
   "id": "applicable-hypothetical",
   "metadata": {},
   "outputs": [],
   "source": [
    "#\n",
    "#\n",
    "#\n",
    "\n",
    "import pandas as pd\n",
    "import matplotlib.pyplot as plt\n",
    "import numpy as np\n",
    "import time\n",
    "\n",
    "pd.__version__"
   ]
  },
  {
   "cell_type": "code",
   "execution_count": null,
   "id": "structural-congo",
   "metadata": {
    "scrolled": true
   },
   "outputs": [],
   "source": [
    "def read_data():\n",
    "    data = pd.read_csv(r\"\\\\readyshare\\USB_Storage\\downloads\\dump\\nanoget.log\", \n",
    "                       sep=' ', \n",
    "                       header=0, names=['time','millis','x','y','z','h','c','f'],\n",
    "                       dtype = {'time': np.float64 },\n",
    "                       on_bad_lines='skip',\n",
    "                       #error_bad_lines=False,\n",
    "                       na_values='Timeout...',\n",
    "                    )\n",
    "    # drop nan(s)\n",
    "    data.dropna(inplace = True)\n",
    "    return data\n",
    "\n",
    "def read_data_today():\n",
    "    data = read_data()\n",
    "    last24 = time.time() - 8 * 3600\n",
    "    data = data[data.time > last24]\n",
    "    return data"
   ]
  },
  {
   "cell_type": "code",
   "execution_count": null,
   "id": "severe-ending",
   "metadata": {},
   "outputs": [],
   "source": [
    "def plot_temperature(data):\n",
    "    plt.rcParams['timezone'] = 'EST'\n",
    "\n",
    "    # make data\n",
    "    x = data.time.to_numpy()\n",
    "    y = data.c.to_numpy() / 100\n",
    "    h = data.h.to_numpy() / 100\n",
    "    # plot\n",
    "    fig, ax = plt.subplots()\n",
    "    fig.set_size_inches((18,6))\n",
    "    ax.grid()\n",
    "    ax.plot(x, y, linewidth=2.0)\n",
    "    plt.show()"
   ]
  },
  {
   "cell_type": "code",
   "execution_count": null,
   "id": "intelligent-nation",
   "metadata": {},
   "outputs": [],
   "source": [
    "def moving_average(x, w):\n",
    "    return np.convolve(x, np.ones(w), 'valid') / w\n",
    "\n",
    "def plot_two(data):\n",
    "    plt.rcParams['timezone'] = 'EST'\n",
    "\n",
    "    x = data.time.to_numpy()\n",
    "    x = np.array(x, dtype='datetime64[s]')\n",
    "    c = data.c.to_numpy() / 100\n",
    "    h = data.h.to_numpy() / 100\n",
    "\n",
    "    w = 15\n",
    "    assert(w > 0)\n",
    "    c = moving_average(c, w)\n",
    "    h = moving_average(h, w)\n",
    "    x = x[w-1:]\n",
    "    \n",
    "    fig, ax1 = plt.subplots(figsize=(18, 6))\n",
    "\n",
    "    color = 'tab:red'\n",
    "    ax1.set_xlabel('date/time')\n",
    "    ax1.set_ylabel('Temperature (C)', color=color)\n",
    "    ax1.plot(x, c, color=color)\n",
    "    ax1.tick_params(axis='y', labelcolor=color)\n",
    "    ax1.grid()\n",
    "\n",
    "    ax2 = ax1.twinx()  # instantiate a second axes that shares the same x-axis\n",
    "\n",
    "    color = 'tab:blue'\n",
    "    ax2.set_ylabel('Humidity (%)', color=color)  # we already handled the x-label with ax1\n",
    "    ax2.plot(x, h, color=color)\n",
    "    ax2.tick_params(axis='y', labelcolor=color)\n",
    "\n",
    "    fig.tight_layout()  # otherwise the right y-label is slightly clipped\n",
    "    plt.show()"
   ]
  },
  {
   "cell_type": "code",
   "execution_count": null,
   "id": "successful-monitor",
   "metadata": {},
   "outputs": [],
   "source": [
    "data = read_data_today()\n",
    "plot_two(data)"
   ]
  },
  {
   "cell_type": "code",
   "execution_count": null,
   "id": "alive-fishing",
   "metadata": {},
   "outputs": [],
   "source": [
    "data = read_data()\n",
    "plot_temperature(data)"
   ]
  },
  {
   "cell_type": "code",
   "execution_count": null,
   "id": "invalid-adrian",
   "metadata": {},
   "outputs": [],
   "source": [
    "np.average(h), np.average(c)"
   ]
  },
  {
   "cell_type": "code",
   "execution_count": null,
   "id": "chemical-worst",
   "metadata": {},
   "outputs": [],
   "source": [
    "import numpy as np\n",
    "def moving_average(x, w):\n",
    "    return np.convolve(x, np.ones(w), 'valid') / w\n",
    "\n",
    "data = np.array([10,5,8,9,15,22,26,11,15,16,18,7])\n",
    "\n",
    "print(moving_average(data,4))"
   ]
  },
  {
   "cell_type": "code",
   "execution_count": null,
   "id": "given-inflation",
   "metadata": {},
   "outputs": [],
   "source": [
    "data.shape"
   ]
  },
  {
   "cell_type": "code",
   "execution_count": null,
   "id": "disabled-irish",
   "metadata": {},
   "outputs": [],
   "source": [
    "moving_average(data,4).shape"
   ]
  },
  {
   "cell_type": "code",
   "execution_count": null,
   "id": "monetary-privacy",
   "metadata": {},
   "outputs": [],
   "source": []
  }
 ],
 "metadata": {
  "kernelspec": {
   "display_name": "Python 3",
   "language": "python",
   "name": "python3"
  },
  "language_info": {
   "codemirror_mode": {
    "name": "ipython",
    "version": 3
   },
   "file_extension": ".py",
   "mimetype": "text/x-python",
   "name": "python",
   "nbconvert_exporter": "python",
   "pygments_lexer": "ipython3",
   "version": "3.8.7"
  }
 },
 "nbformat": 4,
 "nbformat_minor": 5
}

{
 "cells": [
  {
   "cell_type": "code",
   "execution_count": null,
   "metadata": {
    "scrolled": false
   },
   "outputs": [],
   "source": [
    "# convolution\n",
    "import numpy as np\n",
    "from scipy import signal\n",
    "from scipy import misc"
   ]
  },
  {
   "cell_type": "code",
   "execution_count": null,
   "metadata": {},
   "outputs": [],
   "source": [
    "\n",
    "ascent = misc.ascent()\n",
    "scharr = np.array([[ -3-3j, 0-10j,  +3 -3j],\n",
    "                   [-10+0j, 0+ 0j, +10 +0j],\n",
    "                   [ -3+3j, 0+10j,  +3 +3j]]) # Gx + j*Gy\n",
    "grad = signal.convolve2d(ascent, scharr, boundary='symm', mode='same')"
   ]
  },
  {
   "cell_type": "code",
   "execution_count": null,
   "metadata": {},
   "outputs": [],
   "source": [
    "%matplotlib inline\n",
    "import matplotlib.pyplot as plt\n",
    "\n",
    "fig, (ax_orig, ax_mag, ax_ang) = plt.subplots(3, 1, figsize=(6, 15))\n",
    "ax_orig.imshow(ascent, cmap='gray')\n",
    "ax_orig.set_title('Original')\n",
    "ax_orig.set_axis_off()\n",
    "ax_mag.imshow(np.absolute(grad), cmap='gray')\n",
    "ax_mag.set_title('Gradient magnitude')\n",
    "ax_mag.set_axis_off()\n",
    "ax_ang.imshow(np.angle(grad), cmap='hsv') # hsv is cyclic, like angles\n",
    "ax_ang.set_title('Gradient orientation')\n",
    "ax_ang.set_axis_off()\n",
    "#fig.show()"
   ]
  },
  {
   "cell_type": "code",
   "execution_count": null,
   "metadata": {},
   "outputs": [],
   "source": [
    "# #########################################################################\n",
    "# start over again\n",
    "#"
   ]
  },
  {
   "cell_type": "code",
   "execution_count": null,
   "metadata": {},
   "outputs": [],
   "source": [
    "import numpy as np\n",
    "import h5py\n",
    "%matplotlib inline\n",
    "import matplotlib.pyplot as plt\n",
    "from PIL import Image\n",
    "\n",
    "#\n",
    "# convert rgb image into gray \n",
    "#\n",
    "def rgb2gray(rgb):\n",
    "    return np.dot(rgb[...,:3], [0.2989, 0.5870, 0.1140])\n",
    "\n",
    "!ls images"
   ]
  },
  {
   "cell_type": "code",
   "execution_count": null,
   "metadata": {},
   "outputs": [],
   "source": [
    "im = np.array(Image.open('images/electric_gauge.JPG'))\n",
    "\n",
    "print(im.dtype)\n",
    "# uint8\n",
    "\n",
    "print(im.ndim)\n",
    "# 3\n",
    "\n",
    "print(im.shape)\n",
    "# (1424, 2525, 3)\n",
    "\n",
    "plt.imshow(im)\n",
    "plt.show()"
   ]
  },
  {
   "cell_type": "code",
   "execution_count": null,
   "metadata": {},
   "outputs": [],
   "source": [
    "gray = rgb2gray(im)\n",
    "print(gray.shape, np.min(gray), np.max(gray))\n",
    "gray = gray / 255.\n",
    "print(gray.shape, np.min(gray), np.max(gray))\n",
    "\n",
    "plt.imshow(gray, cmap='gray', vmin=0, vmax=1)\n",
    "plt.show()"
   ]
  },
  {
   "cell_type": "code",
   "execution_count": null,
   "metadata": {},
   "outputs": [],
   "source": [
    "# convolution\n",
    "\n",
    "from scipy import signal\n",
    "from scipy import misc\n",
    "\n",
    "f_hor = np.array([\n",
    "    [1,1,1],\n",
    "    [0,0,0],\n",
    "    [-1,-1,-1]\n",
    "])\n",
    "\n",
    "f_ver = np.array([\n",
    "    [1,0,-1],\n",
    "    [1,0,-1],\n",
    "    [1,0,-1]\n",
    "])\n",
    "\n",
    "f_4x4 = np.array([\n",
    "    [ 0,  1,  1,  0],\n",
    "    [ 1,  3,  3,  1],\n",
    "    [-1, -3, -3, -1],\n",
    "    [ 0, -1, -1,  0],\n",
    "])\n",
    "\n",
    "f_45_degrees = np.array([\n",
    "    [ 0,  1,  2], \n",
    "    [-1,  0,  1], \n",
    "    [-2, -1,  0]\n",
    "])\n",
    "\n",
    "conv = signal.convolve2d(gray, f_4x4,\n",
    "                         # boundary='symm', \n",
    "                         mode='same'\n",
    "                        )\n",
    "print(conv.shape)\n",
    "plt.imshow(conv, cmap='gray', vmin=0, vmax=1)\n",
    "plt.show()"
   ]
  },
  {
   "cell_type": "code",
   "execution_count": null,
   "metadata": {},
   "outputs": [],
   "source": [
    "import matplotlib\n",
    "\n",
    "matplotlib.image.imsave('images/conv.png', conv)\n",
    "\n",
    "!ls images"
   ]
  },
  {
   "cell_type": "code",
   "execution_count": null,
   "metadata": {},
   "outputs": [],
   "source": [
    "import numpy as np\n",
    "from scipy import signal\n",
    "from scipy import misc\n",
    "\n",
    "#ascent = misc.ascent()\n",
    "\n",
    "ascent = gray\n",
    "\n",
    "scharr = np.array([[ -3-3j, 0-10j,  +3 -3j],\n",
    "                   [-10+0j, 0+ 0j, +10 +0j],\n",
    "                   [ -3+3j, 0+10j,  +3 +3j]]) # Gx + j*Gy\n",
    "grad = signal.convolve2d(ascent, scharr, boundary='symm', mode='same')\n",
    "\n",
    "fig, (ax_orig, ax_mag, ax_ang) = plt.subplots(3, 1, figsize=(6, 15))\n",
    "ax_orig.imshow(ascent, cmap='gray')\n",
    "ax_orig.set_title('Original')\n",
    "ax_orig.set_axis_off()\n",
    "#ax_orig.plot()\n",
    "ax_mag.imshow(np.absolute(grad), cmap='gray')\n",
    "ax_mag.set_title('Gradient magnitude')\n",
    "ax_mag.set_axis_off()\n",
    "#ax_mag.plot()\n",
    "ax_ang.imshow(np.angle(grad), cmap='hsv') # hsv is cyclic, like angles\n",
    "ax_ang.set_title('Gradient orientation')\n",
    "ax_ang.set_axis_off()\n",
    "#ax_ang.plot()\n",
    "#fig.show()"
   ]
  },
  {
   "cell_type": "code",
   "execution_count": null,
   "metadata": {},
   "outputs": [],
   "source": []
  }
 ],
 "metadata": {
  "kernelspec": {
   "display_name": "Python 3",
   "language": "python",
   "name": "python3"
  },
  "language_info": {
   "codemirror_mode": {
    "name": "ipython",
    "version": 3
   },
   "file_extension": ".py",
   "mimetype": "text/x-python",
   "name": "python",
   "nbconvert_exporter": "python",
   "pygments_lexer": "ipython3",
   "version": "3.8.7"
  }
 },
 "nbformat": 4,
 "nbformat_minor": 4
}

{
 "cells": [
  {
   "cell_type": "code",
   "execution_count": null,
   "id": "06bf7214",
   "metadata": {},
   "outputs": [],
   "source": [
    "# Rumsey, Deborah J. (2016-05-18T23:58:59.000). \n",
    "# Statistics For Dummies (For Dummies (Lifestyle)) . Wiley. Kindle Edition. "
   ]
  },
  {
   "cell_type": "code",
   "execution_count": null,
   "id": "92da89a5",
   "metadata": {},
   "outputs": [],
   "source": [
    "import random\n",
    "import numpy as np"
   ]
  },
  {
   "cell_type": "code",
   "execution_count": null,
   "id": "229358a1",
   "metadata": {},
   "outputs": [],
   "source": [
    "n = 1000000\n",
    "s = 0\n",
    "for i in range(n):\n",
    "    s += random.random()\n",
    "print(s / n)"
   ]
  },
  {
   "cell_type": "code",
   "execution_count": null,
   "id": "8fb44837",
   "metadata": {},
   "outputs": [],
   "source": [
    "class binomial_distribution:\n",
    "    def __init__(self, p, n):\n",
    "        assert(0 < p and p < 1)\n",
    "        assert(type(n) is int)\n",
    "        assert(n > 0)\n",
    "        \n",
    "        self._p = p\n",
    "        self._n = n\n",
    "        \n",
    "    def single_run(self):\n",
    "        '''returns the number of positive tests'''\n",
    "        cnt = 0\n",
    "        for i in range(self._n):\n",
    "            if random.random() <= self._p:\n",
    "                cnt += 1\n",
    "        return cnt\n",
    "\n",
    "    def multi_run(self, N):\n",
    "        bd = binomial_distribution(0.6, 40)\n",
    "        hist_array = np.zeros(bd.param_n() + 1)\n",
    "        for i in range(N):\n",
    "            r = bd.single_run()\n",
    "            hist_array[r] += 1\n",
    "        return hist_array\n",
    "\n",
    "    def param_n(self):\n",
    "        return self._n\n",
    "    \n",
    "    def param_p(self):\n",
    "        return self._p\n",
    "\n",
    "#\n",
    "# Some \"unit-tests\"\n",
    "#\n",
    "\n",
    "actual = binomial_distribution(0.35, 20)\n",
    "print(actual.single_run())\n",
    "\n",
    "assert(0.35 == actual.param_p())\n",
    "assert(20 == actual.param_n())\n",
    "\n",
    "# end of unit-tests"
   ]
  },
  {
   "cell_type": "code",
   "execution_count": null,
   "id": "2b49ba3f",
   "metadata": {},
   "outputs": [],
   "source": [
    "N = 100000\n",
    "bd = binomial_distribution(0.6, 40)\n",
    "hist_array = bd.multi_run(N)\n",
    "\n",
    "assert(N == np.sum(hist_array))\n",
    "print(hist_array)"
   ]
  },
  {
   "cell_type": "code",
   "execution_count": null,
   "id": "a73d0271",
   "metadata": {},
   "outputs": [],
   "source": [
    "import matplotlib.pyplot as plt\n",
    "\n",
    "names = np.array(range(len(hist_array))) / len(hist_array)\n",
    "values = hist_array / np.sum(hist_array)\n",
    "\n",
    "assert(len(names) == len(values))\n",
    "\n",
    "fig, axs = plt.subplots(figsize=(8, 4), sharey=True)\n",
    "axs.scatter(names, values)\n",
    "r = fig.suptitle('Binominal Distribution')\n"
   ]
  },
  {
   "cell_type": "code",
   "execution_count": null,
   "id": "5c0d09b3",
   "metadata": {},
   "outputs": [],
   "source": [
    "# distribution function\n",
    "names = np.array(range(len(values)))\n",
    "values2 = np.zeros(len(values))\n",
    "for i in range(len(values)):\n",
    "    if i:\n",
    "        values2[i] = values2[i-1] + values[i]\n",
    "#\n",
    "fig, axs = plt.subplots(figsize=(8, 4), sharey=True)\n",
    "axs.scatter(names, values2)\n",
    "r = fig.suptitle('Binominal Distribution Function')"
   ]
  },
  {
   "cell_type": "code",
   "execution_count": null,
   "id": "58f843a7",
   "metadata": {},
   "outputs": [],
   "source": [
    "import matplotlib.pyplot as plt\n",
    "\n",
    "data = {'apple': 10, 'orange': 15, 'lemon': 5, 'lime': 20}\n",
    "names = list(data.keys())\n",
    "values = list(data.values())\n",
    "\n",
    "fig, axs = plt.subplots(1, 3, figsize=(9, 3), sharey=True)\n",
    "axs[0].bar(names, values)\n",
    "axs[1].scatter(names, values)\n",
    "axs[2].plot(names, values)\n",
    "fig.suptitle('Categorical Plotting')"
   ]
  },
  {
   "cell_type": "code",
   "execution_count": null,
   "id": "d067ad1e",
   "metadata": {},
   "outputs": [],
   "source": []
  }
 ],
 "metadata": {
  "kernelspec": {
   "display_name": "Python 3 (ipykernel)",
   "language": "python",
   "name": "python3"
  },
  "language_info": {
   "codemirror_mode": {
    "name": "ipython",
    "version": 3
   },
   "file_extension": ".py",
   "mimetype": "text/x-python",
   "name": "python",
   "nbconvert_exporter": "python",
   "pygments_lexer": "ipython3",
   "version": "3.9.13"
  }
 },
 "nbformat": 4,
 "nbformat_minor": 5
}

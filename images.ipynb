{
 "cells": [
  {
   "cell_type": "code",
   "execution_count": null,
   "metadata": {},
   "outputs": [],
   "source": [
    "%matplotlib inline"
   ]
  },
  {
   "cell_type": "markdown",
   "metadata": {},
   "source": [
    "\n",
    "# Image tutorial\n",
    "\n",
    "\n",
    "A short tutorial on plotting images with Matplotlib.\n",
    "\n",
    "\n",
    "Startup commands\n",
    "===================\n",
    "\n",
    "First, let's start IPython.  It is a most excellent enhancement to the\n",
    "standard Python prompt, and it ties in especially well with\n",
    "Matplotlib.  Start IPython either directly at a shell, or with the Jupyter\n",
    "Notebook (where IPython as a running kernel).\n",
    "\n",
    "With IPython started, we now need to connect to a GUI event loop.  This\n",
    "tells IPython where (and how) to display plots.  To connect to a GUI\n",
    "loop, execute the **%matplotlib** magic at your IPython prompt.  There's more\n",
    "detail on exactly what this does at `IPython's documentation on GUI\n",
    "event loops\n",
    "<https://ipython.readthedocs.io/en/stable/interactive/reference.html#gui-event-loop-support>`_.\n",
    "\n",
    "If you're using Jupyter Notebook, the same commands are available, but\n",
    "people commonly use a specific argument to the %matplotlib magic:\n",
    "\n",
    ".. sourcecode:: ipython\n",
    "\n",
    "    In [1]: %matplotlib inline\n",
    "\n",
    "This turns on inline plotting, where plot graphics will appear in your\n",
    "notebook.  This has important implications for interactivity.  For inline plotting, commands in\n",
    "cells below the cell that outputs a plot will not affect the plot.  For example,\n",
    "changing the color map is not possible from cells below the cell that creates a plot.\n",
    "However, for other backends, such as Qt5, that open a separate window,\n",
    "cells below those that create the plot will change the plot - it is a\n",
    "live object in memory.\n",
    "\n",
    "This tutorial will use matplotlib's imperative-style plotting\n",
    "interface, pyplot.  This interface maintains global state, and is very\n",
    "useful for quickly and easily experimenting with various plot\n",
    "settings.  The alternative is the object-oriented interface, which is also\n",
    "very powerful, and generally more suitable for large application\n",
    "development.  If you'd like to learn about the object-oriented\n",
    "interface, a great place to start is our :doc:`Usage guide\n",
    "</tutorials/introductory/usage>`.  For now, let's get on\n",
    "with the imperative-style approach:\n"
   ]
  },
  {
   "cell_type": "code",
   "execution_count": null,
   "metadata": {},
   "outputs": [],
   "source": [
    "import matplotlib.pyplot as plt\n",
    "import matplotlib.image as mpimg"
   ]
  },
  {
   "cell_type": "markdown",
   "metadata": {},
   "source": [
    "\n",
    "Importing image data into Numpy arrays\n",
    "===============================================\n",
    "\n",
    "Loading image data is supported by the `Pillow\n",
    "<https://pillow.readthedocs.io/en/latest/>`_ library.  Natively, Matplotlib\n",
    "only supports PNG images.  The commands shown below fall back on Pillow if\n",
    "the native read fails.\n",
    "\n",
    "The image used in this example is a PNG file, but keep that Pillow\n",
    "requirement in mind for your own data.\n",
    "\n",
    "Here's the image we're going to play with:\n",
    "\n",
    "![](../../_static/stinkbug.png)\n",
    "\n",
    "\n",
    "It's a 24-bit RGB PNG image (8 bits for each of R, G, B).  Depending\n",
    "on where you get your data, the other kinds of image that you'll most\n",
    "likely encounter are RGBA images, which allow for transparency, or\n",
    "single-channel grayscale (luminosity) images.  You can right click on\n",
    "it and choose \"Save image as\" to download it to your computer for the\n",
    "rest of this tutorial.\n",
    "\n",
    "And here we go...\n",
    "\n"
   ]
  },
  {
   "cell_type": "code",
   "execution_count": null,
   "metadata": {},
   "outputs": [],
   "source": [
    "img = mpimg.imread('../../doc/_static/stinkbug.png')\n",
    "print(img)"
   ]
  },
  {
   "cell_type": "markdown",
   "metadata": {},
   "source": [
    "Note the dtype there - float32.  Matplotlib has rescaled the 8 bit\n",
    "data from each channel to floating point data between 0.0 and 1.0.  As\n",
    "a side note, the only datatype that Pillow can work with is uint8.\n",
    "Matplotlib plotting can handle float32 and uint8, but image\n",
    "reading/writing for any format other than PNG is limited to uint8\n",
    "data.  Why 8 bits? Most displays can only render 8 bits per channel\n",
    "worth of color gradation.  Why can they only render 8 bits/channel?\n",
    "Because that's about all the human eye can see.  More here (from a\n",
    "photography standpoint): `Luminous Landscape bit depth tutorial\n",
    "<https://luminous-landscape.com/bit-depth/>`_.\n",
    "\n",
    "Each inner list represents a pixel.  Here, with an RGB image, there\n",
    "are 3 values.  Since it's a black and white image, R, G, and B are all\n",
    "similar.  An RGBA (where A is alpha, or transparency), has 4 values\n",
    "per inner list, and a simple luminance image just has one value (and\n",
    "is thus only a 2-D array, not a 3-D array).  For RGB and RGBA images,\n",
    "matplotlib supports float32 and uint8 data types.  For grayscale,\n",
    "matplotlib supports only float32.  If your array data does not meet\n",
    "one of these descriptions, you need to rescale it.\n",
    "\n",
    "\n",
    "Plotting numpy arrays as images\n",
    "===================================\n",
    "\n",
    "So, you have your data in a numpy array (either by importing it, or by\n",
    "generating it).  Let's render it.  In Matplotlib, this is performed\n",
    "using the :func:`~matplotlib.pyplot.imshow` function.  Here we'll grab\n",
    "the plot object.  This object gives you an easy way to manipulate the\n",
    "plot from the prompt.\n",
    "\n"
   ]
  },
  {
   "cell_type": "code",
   "execution_count": null,
   "metadata": {},
   "outputs": [],
   "source": [
    "imgplot = plt.imshow(img)"
   ]
  },
  {
   "cell_type": "markdown",
   "metadata": {},
   "source": [
    "You can also plot any numpy array.\n",
    "\n",
    "\n",
    "Applying pseudocolor schemes to image plots\n",
    "-------------------------------------------------\n",
    "\n",
    "Pseudocolor can be a useful tool for enhancing contrast and\n",
    "visualizing your data more easily.  This is especially useful when\n",
    "making presentations of your data using projectors - their contrast is\n",
    "typically quite poor.\n",
    "\n",
    "Pseudocolor is only relevant to single-channel, grayscale, luminosity\n",
    "images.  We currently have an RGB image.  Since R, G, and B are all\n",
    "similar (see for yourself above or in your data), we can just pick one\n",
    "channel of our data:\n",
    "\n"
   ]
  },
  {
   "cell_type": "code",
   "execution_count": null,
   "metadata": {},
   "outputs": [],
   "source": [
    "lum_img = img[:, :, 0]\n",
    "\n",
    "# This is array slicing.  You can read more in the `Numpy tutorial\n",
    "# <https://docs.scipy.org/doc/numpy/user/quickstart.html>`_.\n",
    "\n",
    "plt.imshow(lum_img)"
   ]
  },
  {
   "cell_type": "markdown",
   "metadata": {},
   "source": [
    "Now, with a luminosity (2D, no color) image, the default colormap (aka lookup table,\n",
    "LUT), is applied.  The default is called viridis.  There are plenty of\n",
    "others to choose from.\n",
    "\n"
   ]
  },
  {
   "cell_type": "code",
   "execution_count": null,
   "metadata": {},
   "outputs": [],
   "source": [
    "plt.imshow(lum_img, cmap=\"hot\")"
   ]
  },
  {
   "cell_type": "markdown",
   "metadata": {},
   "source": [
    "Note that you can also change colormaps on existing plot objects using the\n",
    ":meth:`~matplotlib.cm.ScalarMappable.set_cmap` method:\n",
    "\n"
   ]
  },
  {
   "cell_type": "code",
   "execution_count": null,
   "metadata": {},
   "outputs": [],
   "source": [
    "imgplot = plt.imshow(lum_img)\n",
    "imgplot.set_cmap('nipy_spectral')"
   ]
  },
  {
   "cell_type": "markdown",
   "metadata": {},
   "source": [
    "<div class=\"alert alert-info\"><h4>Note</h4><p>However, remember that in the Jupyter Notebook with the inline backend,\n",
    "   you can't make changes to plots that have already been rendered.  If you\n",
    "   create imgplot here in one cell, you cannot call set_cmap() on it in a later\n",
    "   cell and expect the earlier plot to change.  Make sure that you enter these\n",
    "   commands together in one cell.  plt commands will not change plots from earlier\n",
    "   cells.</p></div>\n",
    "\n",
    "There are many other colormap schemes available.  See the `list and\n",
    "images of the colormaps\n",
    "<../colors/colormaps.html>`_.\n",
    "\n",
    "\n",
    "Color scale reference\n",
    "------------------------\n",
    "\n",
    "It's helpful to have an idea of what value a color represents.  We can\n",
    "do that by adding a color bar to your figure:\n",
    "\n"
   ]
  },
  {
   "cell_type": "code",
   "execution_count": null,
   "metadata": {},
   "outputs": [],
   "source": [
    "imgplot = plt.imshow(lum_img)\n",
    "plt.colorbar()"
   ]
  },
  {
   "cell_type": "markdown",
   "metadata": {},
   "source": [
    "\n",
    "Examining a specific data range\n",
    "---------------------------------\n",
    "\n",
    "Sometimes you want to enhance the contrast in your image, or expand\n",
    "the contrast in a particular region while sacrificing the detail in\n",
    "colors that don't vary much, or don't matter.  A good tool to find\n",
    "interesting regions is the histogram.  To create a histogram of our\n",
    "image data, we use the :func:`~matplotlib.pyplot.hist` function.\n",
    "\n"
   ]
  },
  {
   "cell_type": "code",
   "execution_count": null,
   "metadata": {},
   "outputs": [],
   "source": [
    "plt.hist(lum_img.ravel(), bins=256, range=(0.0, 1.0), fc='k', ec='k')"
   ]
  },
  {
   "cell_type": "markdown",
   "metadata": {},
   "source": [
    "Most often, the \"interesting\" part of the image is around the peak,\n",
    "and you can get extra contrast by clipping the regions above and/or\n",
    "below the peak.  In our histogram, it looks like there's not much\n",
    "useful information in the high end (not many white things in the\n",
    "image).  Let's adjust the upper limit, so that we effectively \"zoom in\n",
    "on\" part of the histogram.  We do this by passing the clim argument to\n",
    "imshow.  You could also do this by calling the\n",
    ":meth:`~matplotlib.cm.ScalarMappable.set_clim` method of the image plot\n",
    "object, but make sure that you do so in the same cell as your plot\n",
    "command when working with the Jupyter Notebook - it will not change\n",
    "plots from earlier cells.\n",
    "\n",
    "You can specify the clim in the call to ``plot``.\n",
    "\n"
   ]
  },
  {
   "cell_type": "code",
   "execution_count": null,
   "metadata": {},
   "outputs": [],
   "source": [
    "imgplot = plt.imshow(lum_img, clim=(0.0, 0.7))"
   ]
  },
  {
   "cell_type": "markdown",
   "metadata": {},
   "source": [
    "You can also specify the clim using the returned object\n",
    "\n"
   ]
  },
  {
   "cell_type": "code",
   "execution_count": null,
   "metadata": {},
   "outputs": [],
   "source": [
    "fig = plt.figure()\n",
    "a = fig.add_subplot(1, 2, 1)\n",
    "imgplot = plt.imshow(lum_img)\n",
    "a.set_title('Before')\n",
    "plt.colorbar(ticks=[0.1, 0.3, 0.5, 0.7], orientation='horizontal')\n",
    "a = fig.add_subplot(1, 2, 2)\n",
    "imgplot = plt.imshow(lum_img)\n",
    "imgplot.set_clim(0.0, 0.7)\n",
    "a.set_title('After')\n",
    "plt.colorbar(ticks=[0.1, 0.3, 0.5, 0.7], orientation='horizontal')"
   ]
  },
  {
   "cell_type": "markdown",
   "metadata": {},
   "source": [
    "\n",
    "Array Interpolation schemes\n",
    "---------------------------\n",
    "\n",
    "Interpolation calculates what the color or value of a pixel \"should\"\n",
    "be, according to different mathematical schemes.  One common place\n",
    "that this happens is when you resize an image.  The number of pixels\n",
    "change, but you want the same information.  Since pixels are discrete,\n",
    "there's missing space.  Interpolation is how you fill that space.\n",
    "This is why your images sometimes come out looking pixelated when you\n",
    "blow them up.  The effect is more pronounced when the difference\n",
    "between the original image and the expanded image is greater.  Let's\n",
    "take our image and shrink it.  We're effectively discarding pixels,\n",
    "only keeping a select few.  Now when we plot it, that data gets blown\n",
    "up to the size on your screen.  The old pixels aren't there anymore,\n",
    "and the computer has to draw in pixels to fill that space.\n",
    "\n",
    "We'll use the Pillow library that we used to load the image also to resize\n",
    "the image.\n",
    "\n"
   ]
  },
  {
   "cell_type": "code",
   "execution_count": null,
   "metadata": {},
   "outputs": [],
   "source": [
    "from PIL import Image\n",
    "\n",
    "img = Image.open('../../doc/_static/stinkbug.png')\n",
    "img.thumbnail((64, 64), Image.ANTIALIAS)  # resizes image in-place\n",
    "imgplot = plt.imshow(img)"
   ]
  },
  {
   "cell_type": "markdown",
   "metadata": {},
   "source": [
    "Here we have the default interpolation, bilinear, since we did not\n",
    "give :func:`~matplotlib.pyplot.imshow` any interpolation argument.\n",
    "\n",
    "Let's try some others. Here's \"nearest\", which does no interpolation.\n",
    "\n"
   ]
  },
  {
   "cell_type": "code",
   "execution_count": null,
   "metadata": {},
   "outputs": [],
   "source": [
    "imgplot = plt.imshow(img, interpolation=\"nearest\")"
   ]
  },
  {
   "cell_type": "markdown",
   "metadata": {},
   "source": [
    "and bicubic:\n",
    "\n"
   ]
  },
  {
   "cell_type": "code",
   "execution_count": null,
   "metadata": {},
   "outputs": [],
   "source": [
    "imgplot = plt.imshow(img, interpolation=\"bicubic\")"
   ]
  },
  {
   "cell_type": "markdown",
   "metadata": {},
   "source": [
    "Bicubic interpolation is often used when blowing up photos - people\n",
    "tend to prefer blurry over pixelated.\n",
    "\n"
   ]
  }
 ],
 "metadata": {
  "kernelspec": {
   "display_name": "Python 3",
   "language": "python",
   "name": "python3"
  },
  "language_info": {
   "codemirror_mode": {
    "name": "ipython",
    "version": 3
   },
   "file_extension": ".py",
   "mimetype": "text/x-python",
   "name": "python",
   "nbconvert_exporter": "python",
   "pygments_lexer": "ipython3",
   "version": "3.8.7"
  }
 },
 "nbformat": 4,
 "nbformat_minor": 1
}

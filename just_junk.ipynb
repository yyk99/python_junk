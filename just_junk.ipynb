{
 "cells": [
  {
   "cell_type": "code",
   "execution_count": null,
   "metadata": {},
   "outputs": [],
   "source": [
    "#\n",
    "#\n",
    "#\n",
    "\n",
    "dir()"
   ]
  },
  {
   "cell_type": "code",
   "execution_count": null,
   "metadata": {},
   "outputs": [],
   "source": [
    "import sys\n",
    "sys.version"
   ]
  },
  {
   "cell_type": "code",
   "execution_count": null,
   "metadata": {},
   "outputs": [],
   "source": [
    "# Enter your code here. Read input from STDIN. Print output to STDOUT\n",
    "\n",
    "import math\n",
    "\n",
    "def is_prime_erat(N):\n",
    "    \"\"\"input: an integer n > 1.\n",
    "    output: all prime numbers from 2 through n.\n",
    "\n",
    "    let A be an array of Boolean values, indexed by integers 2 to n,\n",
    "    initially all set to true.\n",
    "    \n",
    "    for i = 2, 3, 4, ..., not exceeding √n do\n",
    "        if A[i] is true\n",
    "            for j = i**2, i**2+i, i**2+2i, i**2+3i, ..., not exceeding n do\n",
    "                A[j] := false\n",
    "\n",
    "    return all i such that A[i] is true.\"\"\"\n",
    "\n",
    "    if N == 1:\n",
    "        return \"Prime\"\n",
    "    if N == 2:\n",
    "        return \"Prime\"\n",
    "    \n",
    "    A = [True] * (N + 1)\n",
    "    sqrt_N = math.sqrt(N)\n",
    "\n",
    "    i = 2\n",
    "    while i < sqrt_N + 1:\n",
    "        if A[i]:\n",
    "            j = i * i\n",
    "            while j < N+1:\n",
    "                #print(f'j={j}, i={i}')\n",
    "                A[j] = False\n",
    "                j = j + i\n",
    "        i += 1\n",
    "\n",
    "    print([x for x in range (1, len(A)) if A[x] ])\n",
    "    print (\"Prime\" if A[N] else \"Not prime\")\n",
    "\n",
    "    \n",
    "def is_prime(N):\n",
    "    if N == 1:\n",
    "        print(\"Not prime\")\n",
    "        return\n",
    "    if N == 2:\n",
    "        print(\"Prime\")\n",
    "        return\n",
    "    \n",
    "    for i in range(2, N):\n",
    "        if N % i == 0:\n",
    "            print (\"Not prime\")\n",
    "            break\n",
    "    else:\n",
    "        print(\"Prime\")\n",
    "\n",
    "is_prime(1)\n",
    "is_prime(7)"
   ]
  },
  {
   "cell_type": "code",
   "execution_count": null,
   "metadata": {},
   "outputs": [],
   "source": [
    "math.sqrt(1000000007)"
   ]
  },
  {
   "cell_type": "code",
   "execution_count": null,
   "metadata": {},
   "outputs": [],
   "source": [
    "1000000007 / 31622"
   ]
  },
  {
   "cell_type": "code",
   "execution_count": null,
   "metadata": {},
   "outputs": [],
   "source": [
    "from collections import deque\n",
    "\n",
    "\n",
    "stack = list()\n",
    "stack.append(1)\n",
    "stack.append(2)\n",
    "\n",
    "stack"
   ]
  },
  {
   "cell_type": "code",
   "execution_count": null,
   "metadata": {},
   "outputs": [],
   "source": [
    "stack.pop()"
   ]
  },
  {
   "cell_type": "code",
   "execution_count": null,
   "metadata": {},
   "outputs": [],
   "source": [
    "stack.pop()"
   ]
  },
  {
   "cell_type": "markdown",
   "metadata": {},
   "source": [
    "### Sample Input\n",
    "<pre>\n",
    "6\n",
    "</pre>\n",
    "### Sample Output\n",
    "<pre>\n",
    "I implemented: AdvancedArithmetic\n",
    "12\n",
    "</pre>"
   ]
  },
  {
   "cell_type": "code",
   "execution_count": null,
   "metadata": {},
   "outputs": [],
   "source": [
    "class AdvancedArithmetic(object):\n",
    "    def divisorSum(n):\n",
    "        raise NotImplementedError\n",
    "\n",
    "class Calculator(AdvancedArithmetic):\n",
    "    def divisorSum(self, n):\n",
    "        return sum([x for x in range(1, n+1) if n % x == 0])\n",
    "\n",
    "n = int(input())\n",
    "my_calculator = Calculator()\n",
    "s = my_calculator.divisorSum(n)\n",
    "print(\"I implemented: \" + type(my_calculator).__bases__[0].__name__)\n",
    "print(s)"
   ]
  },
  {
   "cell_type": "markdown",
   "metadata": {},
   "source": [
    "## Day 20: Sorting"
   ]
  },
  {
   "cell_type": "code",
   "execution_count": null,
   "metadata": {},
   "outputs": [],
   "source": [
    "#!/bin/python3\n",
    "\n",
    "import sys\n",
    "\n",
    "n = int(input().strip())\n",
    "a = list(map(int, input().strip().split(' ')))\n",
    "# Write Your Code Here\n",
    "\n",
    "total_swaps = 0\n",
    "for i in range(0,n):\n",
    "    # Track number of elements swapped during a single array traversal\n",
    "    numberOfSwaps = 0;\n",
    "    \n",
    "    for j in range(0, n - 1):\n",
    "        # Swap adjacent elements if they are in decreasing order\n",
    "        if  a[j] > a[j + 1]:\n",
    "            a[j], a[j + 1] = a[j + 1], a[j]\n",
    "            numberOfSwaps += 1\n",
    "    # If no elements were swapped during a traversal, array is sorted\n",
    "    if numberOfSwaps == 0:\n",
    "        break;\n",
    "    total_swaps += numberOfSwaps\n",
    "\n",
    "print(f'Array is sorted in {total_swaps} swaps.')\n",
    "print(f'First Element: {a[0]}')\n",
    "print(f'Last Element: {a[-1]}')\n"
   ]
  },
  {
   "cell_type": "code",
   "execution_count": null,
   "metadata": {},
   "outputs": [],
   "source": [
    "a"
   ]
  },
  {
   "cell_type": "markdown",
   "metadata": {},
   "source": [
    "## Day 28: RegEx, Patterns, and Intro to Databases\n",
    "\n",
    "### Sample Input\n",
    "<pre>\n",
    "6\n",
    "riya riya@gmail.com\n",
    "julia julia@julia.me\n",
    "julia sjulia@gmail.com\n",
    "julia julia@gmail.com\n",
    "samantha samantha@gmail.com\n",
    "tanya tanya@gmail.com\n",
    "</pre>\n",
    "\n",
    "### Sample Output\n",
    "<pre>\n",
    "julia\n",
    "julia\n",
    "riya\n",
    "samantha\n",
    "tanya\n",
    "</pre>"
   ]
  },
  {
   "cell_type": "code",
   "execution_count": null,
   "metadata": {},
   "outputs": [],
   "source": [
    "#!/bin/python3\n",
    "\n",
    "import math\n",
    "import os\n",
    "import random\n",
    "import re\n",
    "import sys\n",
    "\n",
    "\n",
    "text = \"\"\"\\\n",
    "6\n",
    "riya riya@gmail.com\n",
    "julia julia@julia.me\n",
    "julia sjulia@gmail.com\n",
    "julia julia@gmail.com\n",
    "samantha samantha@gmail.com\n",
    "tanya tanya@gmail.com\n",
    "\"\"\"\n",
    "\n",
    "input_text = text.split('\\n')\n",
    "\n",
    "\n",
    "if __name__ == '__main__':\n",
    "    N = int(input_text[0])\n",
    "\n",
    "    for N_itr in range(1, N):\n",
    "        firstNameEmailID = input_text[N_itr].split()\n",
    "        \n",
    "        firstName = firstNameEmailID[0]\n",
    "\n",
    "        emailID = firstNameEmailID[1]\n",
    "        \n"
   ]
  },
  {
   "cell_type": "code",
   "execution_count": null,
   "metadata": {},
   "outputs": [],
   "source": [
    "import re\n",
    "\n",
    "txt = \"The rain in Spain\"\n",
    "x = re.search(\"^The(.*)Spain$\", txt)\n",
    "x.group(1)"
   ]
  },
  {
   "cell_type": "code",
   "execution_count": null,
   "metadata": {},
   "outputs": [],
   "source": [
    "12 * 17 / 2"
   ]
  },
  {
   "cell_type": "code",
   "execution_count": null,
   "metadata": {},
   "outputs": [],
   "source": [
    "7 << 1"
   ]
  },
  {
   "cell_type": "code",
   "execution_count": null,
   "metadata": {},
   "outputs": [],
   "source": [
    "(7 << 1) + 1"
   ]
  },
  {
   "cell_type": "code",
   "execution_count": null,
   "metadata": {},
   "outputs": [],
   "source": [
    "def is_power_of_2(n):\n",
    "    cnt = 0\n",
    "    while n:\n",
    "        if n & 1:\n",
    "            cnt += 1\n",
    "        n = n >> 1\n",
    "    return cnt == 1\n"
   ]
  },
  {
   "cell_type": "code",
   "execution_count": null,
   "metadata": {},
   "outputs": [],
   "source": [
    "is_power_of_2(3)"
   ]
  },
  {
   "cell_type": "code",
   "execution_count": null,
   "metadata": {},
   "outputs": [],
   "source": [
    "print(f'702 = {702:b}')\n",
    "print(f'703 = {703:b}')\n",
    "print(f'704 = {704:b}')\n",
    "print(f'712 = {712:b}')\n",
    "\n",
    "#!/bin/python3\n",
    "\n",
    "import math\n",
    "import os\n",
    "import random\n",
    "import re\n",
    "import sys\n",
    "\n",
    "if __name__ == '__main__':\n",
    "    t = int(input())\n",
    "\n",
    "    for t_itr in range(t):\n",
    "        nk = input().split()\n",
    "\n",
    "        n = int(nk[0])\n",
    "\n",
    "        k = int(nk[1])\n",
    "\n",
    "        if n == k:\n",
    "            print(0)\n",
    "        else:\n",
    "            A = k - 1\n",
    "            one = 1\n",
    "\n",
    "            while one < n:\n",
    "                B = A | one\n",
    "                if B <= n and B > A:\n",
    "                    print (A)\n",
    "                    break\n",
    "                one = one << 1\n",
    "            else:\n",
    "                print (A - 1)"
   ]
  },
  {
   "cell_type": "code",
   "execution_count": null,
   "metadata": {},
   "outputs": [],
   "source": [
    "from bitarray import bitarray\n",
    "\n",
    "a = bitarray(2**20)"
   ]
  },
  {
   "cell_type": "code",
   "execution_count": null,
   "metadata": {},
   "outputs": [],
   "source": [
    "N = int(2E9)"
   ]
  },
  {
   "cell_type": "code",
   "execution_count": null,
   "metadata": {},
   "outputs": [],
   "source": [
    "N"
   ]
  },
  {
   "cell_type": "code",
   "execution_count": null,
   "metadata": {},
   "outputs": [],
   "source": [
    "N / 8"
   ]
  },
  {
   "cell_type": "code",
   "execution_count": null,
   "metadata": {},
   "outputs": [],
   "source": [
    "MAX_INT"
   ]
  },
  {
   "cell_type": "code",
   "execution_count": null,
   "metadata": {},
   "outputs": [],
   "source": [
    "import sys\n",
    "\n",
    "b = [255] * ((2000000000 >> 3) + 1)\n",
    "\n",
    "sys.getsizeof(b)"
   ]
  },
  {
   "cell_type": "code",
   "execution_count": null,
   "metadata": {},
   "outputs": [],
   "source": [
    "del b"
   ]
  },
  {
   "cell_type": "code",
   "execution_count": null,
   "metadata": {},
   "outputs": [],
   "source": [
    "import numpy as np\n",
    "\n",
    "\n",
    "arr =[1,3,5,7]\n",
    "print(arr)\n",
    "query =[17, 6]\n",
    "print(query)\n",
    "\n",
    "[ [x ^ y for x in arr] for y in query]"
   ]
  },
  {
   "cell_type": "code",
   "execution_count": null,
   "metadata": {},
   "outputs": [],
   "source": [
    "np.array(arr)"
   ]
  },
  {
   "cell_type": "code",
   "execution_count": null,
   "metadata": {},
   "outputs": [],
   "source": []
  },
  {
   "cell_type": "code",
   "execution_count": null,
   "metadata": {},
   "outputs": [],
   "source": []
  }
 ],
 "metadata": {
  "kernelspec": {
   "display_name": "Python 3",
   "language": "python",
   "name": "python3"
  },
  "language_info": {
   "codemirror_mode": {
    "name": "ipython",
    "version": 3
   },
   "file_extension": ".py",
   "mimetype": "text/x-python",
   "name": "python",
   "nbconvert_exporter": "python",
   "pygments_lexer": "ipython3",
   "version": "3.8.7"
  }
 },
 "nbformat": 4,
 "nbformat_minor": 4
}
